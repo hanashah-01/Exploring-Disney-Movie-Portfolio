{
 "cells": [
  {
   "cell_type": "markdown",
   "metadata": {},
   "source": [
    "<a id=\"intro\"></a>\n",
    "\n",
    "# 1. Introduction\n",
    "\n",
    "![DISNEY](disney.jfif)\n",
    "\n",
    "Walt Disney and Roy O. Disney created Disney in 1923, and it is now one of the world's leading entertainment enterprises. Disney is well known for its legendary animated films, such as Snow White and the Seven Dwarfs (1937), and has since expanded into live-action films, television, theme parks, and media networks. Over time, Disney bought other big studios such as Pixar, Marvel, Lucasfilm, and 20th Century Fox, considerably extending its influence. The Disney brand is known for its family-friendly content, imaginative storytelling, and worldwide cultural impact.\n",
    "\n",
    "Analyzing the Disney movies dataset can uncover trends, patterns, and insights related to movie performance (US & Canada), genres, release dates, and ratings to better understand Disney's movie portfolio from 1937 to 2016."
   ]
  },
  {
   "cell_type": "markdown",
   "metadata": {},
   "source": [
    "1. [Introduction](#intro)\n",
    "2. [Data Acquisition](#dataq)\n",
    "3. [Data Cleaning](#datac) \n",
    "4. [Exploratory Data Analysis](#eda)"
   ]
  },
  {
   "cell_type": "markdown",
   "metadata": {},
   "source": [
    "<a id=\"dataq\"></a>\n",
    "\n",
    "# 2. Data Acquisition\n",
    "## Importing Libraries\n",
    "Importing all libraries needed. More libraries will be imported if required."
   ]
  },
  {
   "cell_type": "code",
   "execution_count": 125,
   "metadata": {},
   "outputs": [],
   "source": [
    "# Import the necessary libraries\n",
    "import numpy as np \n",
    "import pandas as pd\n",
    "import matplotlib.pyplot as plt\n",
    "import seaborn as sns\n",
    "import plotly.express as px"
   ]
  },
  {
   "cell_type": "code",
   "execution_count": 126,
   "metadata": {},
   "outputs": [
    {
     "data": {
      "text/html": [
       "<div>\n",
       "<style scoped>\n",
       "    .dataframe tbody tr th:only-of-type {\n",
       "        vertical-align: middle;\n",
       "    }\n",
       "\n",
       "    .dataframe tbody tr th {\n",
       "        vertical-align: top;\n",
       "    }\n",
       "\n",
       "    .dataframe thead th {\n",
       "        text-align: right;\n",
       "    }\n",
       "</style>\n",
       "<table border=\"1\" class=\"dataframe\">\n",
       "  <thead>\n",
       "    <tr style=\"text-align: right;\">\n",
       "      <th></th>\n",
       "      <th>movie_title</th>\n",
       "      <th>release_date</th>\n",
       "      <th>genre</th>\n",
       "      <th>mpaa_rating</th>\n",
       "      <th>total_gross</th>\n",
       "      <th>inflation_adjusted_gross</th>\n",
       "    </tr>\n",
       "  </thead>\n",
       "  <tbody>\n",
       "    <tr>\n",
       "      <th>0</th>\n",
       "      <td>Snow White and the Seven Dwarfs</td>\n",
       "      <td>1937-12-21</td>\n",
       "      <td>Musical</td>\n",
       "      <td>G</td>\n",
       "      <td>184925485</td>\n",
       "      <td>5228953251</td>\n",
       "    </tr>\n",
       "    <tr>\n",
       "      <th>1</th>\n",
       "      <td>Pinocchio</td>\n",
       "      <td>1940-02-09</td>\n",
       "      <td>Adventure</td>\n",
       "      <td>G</td>\n",
       "      <td>84300000</td>\n",
       "      <td>2188229052</td>\n",
       "    </tr>\n",
       "    <tr>\n",
       "      <th>2</th>\n",
       "      <td>Fantasia</td>\n",
       "      <td>1940-11-13</td>\n",
       "      <td>Musical</td>\n",
       "      <td>G</td>\n",
       "      <td>83320000</td>\n",
       "      <td>2187090808</td>\n",
       "    </tr>\n",
       "    <tr>\n",
       "      <th>3</th>\n",
       "      <td>Song of the South</td>\n",
       "      <td>1946-11-12</td>\n",
       "      <td>Adventure</td>\n",
       "      <td>G</td>\n",
       "      <td>65000000</td>\n",
       "      <td>1078510579</td>\n",
       "    </tr>\n",
       "    <tr>\n",
       "      <th>4</th>\n",
       "      <td>Cinderella</td>\n",
       "      <td>1950-02-15</td>\n",
       "      <td>Drama</td>\n",
       "      <td>G</td>\n",
       "      <td>85000000</td>\n",
       "      <td>920608730</td>\n",
       "    </tr>\n",
       "  </tbody>\n",
       "</table>\n",
       "</div>"
      ],
      "text/plain": [
       "                       movie_title release_date      genre mpaa_rating  \\\n",
       "0  Snow White and the Seven Dwarfs   1937-12-21    Musical           G   \n",
       "1                        Pinocchio   1940-02-09  Adventure           G   \n",
       "2                         Fantasia   1940-11-13    Musical           G   \n",
       "3                Song of the South   1946-11-12  Adventure           G   \n",
       "4                       Cinderella   1950-02-15      Drama           G   \n",
       "\n",
       "   total_gross  inflation_adjusted_gross  \n",
       "0    184925485                5228953251  \n",
       "1     84300000                2188229052  \n",
       "2     83320000                2187090808  \n",
       "3     65000000                1078510579  \n",
       "4     85000000                 920608730  "
      ]
     },
     "execution_count": 126,
     "metadata": {},
     "output_type": "execute_result"
    }
   ],
   "source": [
    "# Read in the data\n",
    "disney = pd.read_csv(\"disney_movies_total_gross.csv\")\n",
    "\n",
    "# Preview the data\n",
    "disney.head()"
   ]
  },
  {
   "cell_type": "code",
   "execution_count": 127,
   "metadata": {},
   "outputs": [
    {
     "data": {
      "text/plain": [
       "(579, 6)"
      ]
     },
     "execution_count": 127,
     "metadata": {},
     "output_type": "execute_result"
    }
   ],
   "source": [
    "# Checking the number of rows and columns\n",
    "disney.shape"
   ]
  },
  {
   "cell_type": "code",
   "execution_count": 128,
   "metadata": {},
   "outputs": [
    {
     "name": "stdout",
     "output_type": "stream",
     "text": [
      "<class 'pandas.core.frame.DataFrame'>\n",
      "RangeIndex: 579 entries, 0 to 578\n",
      "Data columns (total 6 columns):\n",
      " #   Column                    Non-Null Count  Dtype \n",
      "---  ------                    --------------  ----- \n",
      " 0   movie_title               579 non-null    object\n",
      " 1   release_date              579 non-null    object\n",
      " 2   genre                     562 non-null    object\n",
      " 3   mpaa_rating               523 non-null    object\n",
      " 4   total_gross               579 non-null    int64 \n",
      " 5   inflation_adjusted_gross  579 non-null    int64 \n",
      "dtypes: int64(2), object(4)\n",
      "memory usage: 27.3+ KB\n"
     ]
    }
   ],
   "source": [
    "# Display the information of the dataset\n",
    "disney.info()"
   ]
  },
  {
   "cell_type": "code",
   "execution_count": 145,
   "metadata": {},
   "outputs": [
    {
     "data": {
      "text/html": [
       "<div>\n",
       "<style scoped>\n",
       "    .dataframe tbody tr th:only-of-type {\n",
       "        vertical-align: middle;\n",
       "    }\n",
       "\n",
       "    .dataframe tbody tr th {\n",
       "        vertical-align: top;\n",
       "    }\n",
       "\n",
       "    .dataframe thead th {\n",
       "        text-align: right;\n",
       "    }\n",
       "</style>\n",
       "<table border=\"1\" class=\"dataframe\">\n",
       "  <thead>\n",
       "    <tr style=\"text-align: right;\">\n",
       "      <th></th>\n",
       "      <th>count</th>\n",
       "      <th>mean</th>\n",
       "      <th>min</th>\n",
       "      <th>25%</th>\n",
       "      <th>50%</th>\n",
       "      <th>75%</th>\n",
       "      <th>max</th>\n",
       "      <th>std</th>\n",
       "    </tr>\n",
       "  </thead>\n",
       "  <tbody>\n",
       "    <tr>\n",
       "      <th>release_date</th>\n",
       "      <td>579</td>\n",
       "      <td>1998-07-10 13:20:49.740932608</td>\n",
       "      <td>1937-12-21 00:00:00</td>\n",
       "      <td>1993-03-29 12:00:00</td>\n",
       "      <td>1998-09-04 00:00:00</td>\n",
       "      <td>2006-02-06 12:00:00</td>\n",
       "      <td>2016-12-16 00:00:00</td>\n",
       "      <td>NaN</td>\n",
       "    </tr>\n",
       "    <tr>\n",
       "      <th>total_gross</th>\n",
       "      <td>579.0</td>\n",
       "      <td>64701788.519862</td>\n",
       "      <td>0.0</td>\n",
       "      <td>12788864.0</td>\n",
       "      <td>30702446.0</td>\n",
       "      <td>75709033.0</td>\n",
       "      <td>936662225.0</td>\n",
       "      <td>93013006.117427</td>\n",
       "    </tr>\n",
       "    <tr>\n",
       "      <th>inflation_adjusted_gross</th>\n",
       "      <td>579.0</td>\n",
       "      <td>118762523.310881</td>\n",
       "      <td>0.0</td>\n",
       "      <td>22741232.0</td>\n",
       "      <td>55159783.0</td>\n",
       "      <td>119202000.0</td>\n",
       "      <td>5228953251.0</td>\n",
       "      <td>286085280.041417</td>\n",
       "    </tr>\n",
       "    <tr>\n",
       "      <th>year</th>\n",
       "      <td>579.0</td>\n",
       "      <td>1998.01209</td>\n",
       "      <td>1937.0</td>\n",
       "      <td>1993.0</td>\n",
       "      <td>1998.0</td>\n",
       "      <td>2006.0</td>\n",
       "      <td>2016.0</td>\n",
       "      <td>11.410924</td>\n",
       "    </tr>\n",
       "  </tbody>\n",
       "</table>\n",
       "</div>"
      ],
      "text/plain": [
       "                          count                           mean  \\\n",
       "release_date                579  1998-07-10 13:20:49.740932608   \n",
       "total_gross               579.0                64701788.519862   \n",
       "inflation_adjusted_gross  579.0               118762523.310881   \n",
       "year                      579.0                     1998.01209   \n",
       "\n",
       "                                          min                  25%  \\\n",
       "release_date              1937-12-21 00:00:00  1993-03-29 12:00:00   \n",
       "total_gross                               0.0           12788864.0   \n",
       "inflation_adjusted_gross                  0.0           22741232.0   \n",
       "year                                   1937.0               1993.0   \n",
       "\n",
       "                                          50%                  75%  \\\n",
       "release_date              1998-09-04 00:00:00  2006-02-06 12:00:00   \n",
       "total_gross                        30702446.0           75709033.0   \n",
       "inflation_adjusted_gross           55159783.0          119202000.0   \n",
       "year                                   1998.0               2006.0   \n",
       "\n",
       "                                          max               std  \n",
       "release_date              2016-12-16 00:00:00               NaN  \n",
       "total_gross                       936662225.0   93013006.117427  \n",
       "inflation_adjusted_gross         5228953251.0  286085280.041417  \n",
       "year                                   2016.0         11.410924  "
      ]
     },
     "execution_count": 145,
     "metadata": {},
     "output_type": "execute_result"
    }
   ],
   "source": [
    "# Display the statistics of the data\n",
    "disney.describe().T"
   ]
  },
  {
   "cell_type": "markdown",
   "metadata": {},
   "source": [
    "<a id=\"datac\"></a>\n",
    "\n",
    "# 3. Data Cleaning\n",
    "The missing values were handled by replacing them with another value."
   ]
  },
  {
   "cell_type": "code",
   "execution_count": 130,
   "metadata": {},
   "outputs": [
    {
     "data": {
      "text/plain": [
       "movie_title                  0\n",
       "release_date                 0\n",
       "genre                       17\n",
       "mpaa_rating                 56\n",
       "total_gross                  0\n",
       "inflation_adjusted_gross     0\n",
       "dtype: int64"
      ]
     },
     "execution_count": 130,
     "metadata": {},
     "output_type": "execute_result"
    }
   ],
   "source": [
    "# Check for null values\n",
    "disney.isna().sum()"
   ]
  },
  {
   "cell_type": "code",
   "execution_count": 131,
   "metadata": {},
   "outputs": [],
   "source": [
    "# Fill null values with 'Not Rated' and 'NaN'\n",
    "disney['mpaa_rating'] = disney['mpaa_rating'].fillna(\"Not Rated\")\n",
    "disney['genre'] = disney['genre'].fillna(\"NaN\")"
   ]
  },
  {
   "cell_type": "code",
   "execution_count": 132,
   "metadata": {},
   "outputs": [],
   "source": [
    "# Convert data type of release_date to datetime\n",
    "disney['release_date'] = pd.to_datetime(disney['release_date'])"
   ]
  },
  {
   "cell_type": "markdown",
   "metadata": {},
   "source": [
    "<a id=\"eda\"></a>\n",
    "\n",
    "# 4. Exploratory Data Analysis\n",
    "Data visualization techniques are used to explore and understand various aspects of Disney's movie portfolio."
   ]
  },
  {
   "cell_type": "code",
   "execution_count": 150,
   "metadata": {},
   "outputs": [
    {
     "data": {
      "application/vnd.plotly.v1+json": {
       "config": {
        "plotlyServerURL": "https://plot.ly"
       },
       "data": [
        {
         "alignmentgroup": "True",
         "hovertemplate": "variable=count<br>genre=%{x}<br>value=%{y}<extra></extra>",
         "legendgroup": "count",
         "marker": {
          "color": [
           "royalblue",
           "lightblue",
           "lightblue",
           "lightblue",
           "lightblue",
           "lightblue",
           "lightblue",
           "lightblue",
           "lightblue",
           "lightblue",
           "lightblue",
           "lightblue",
           "lightblue"
          ],
          "pattern": {
           "shape": ""
          }
         },
         "name": "count",
         "offsetgroup": "count",
         "orientation": "v",
         "showlegend": true,
         "textposition": "auto",
         "type": "bar",
         "x": [
          "Comedy",
          "Adventure",
          "Drama",
          "Action",
          "Thriller/Suspense",
          "Romantic Comedy",
          "NaN",
          "Musical",
          "Documentary",
          "Western",
          "Horror",
          "Black Comedy",
          "Concert/Performance"
         ],
         "xaxis": "x",
         "y": [
          182,
          129,
          114,
          40,
          24,
          23,
          17,
          16,
          16,
          7,
          6,
          3,
          2
         ],
         "yaxis": "y"
        }
       ],
       "layout": {
        "barmode": "relative",
        "legend": {
         "title": {
          "text": "variable"
         },
         "tracegroupgap": 0
        },
        "showlegend": false,
        "template": {
         "data": {
          "bar": [
           {
            "error_x": {
             "color": "#2a3f5f"
            },
            "error_y": {
             "color": "#2a3f5f"
            },
            "marker": {
             "line": {
              "color": "#E5ECF6",
              "width": 0.5
             },
             "pattern": {
              "fillmode": "overlay",
              "size": 10,
              "solidity": 0.2
             }
            },
            "type": "bar"
           }
          ],
          "barpolar": [
           {
            "marker": {
             "line": {
              "color": "#E5ECF6",
              "width": 0.5
             },
             "pattern": {
              "fillmode": "overlay",
              "size": 10,
              "solidity": 0.2
             }
            },
            "type": "barpolar"
           }
          ],
          "carpet": [
           {
            "aaxis": {
             "endlinecolor": "#2a3f5f",
             "gridcolor": "white",
             "linecolor": "white",
             "minorgridcolor": "white",
             "startlinecolor": "#2a3f5f"
            },
            "baxis": {
             "endlinecolor": "#2a3f5f",
             "gridcolor": "white",
             "linecolor": "white",
             "minorgridcolor": "white",
             "startlinecolor": "#2a3f5f"
            },
            "type": "carpet"
           }
          ],
          "choropleth": [
           {
            "colorbar": {
             "outlinewidth": 0,
             "ticks": ""
            },
            "type": "choropleth"
           }
          ],
          "contour": [
           {
            "colorbar": {
             "outlinewidth": 0,
             "ticks": ""
            },
            "colorscale": [
             [
              0,
              "#0d0887"
             ],
             [
              0.1111111111111111,
              "#46039f"
             ],
             [
              0.2222222222222222,
              "#7201a8"
             ],
             [
              0.3333333333333333,
              "#9c179e"
             ],
             [
              0.4444444444444444,
              "#bd3786"
             ],
             [
              0.5555555555555556,
              "#d8576b"
             ],
             [
              0.6666666666666666,
              "#ed7953"
             ],
             [
              0.7777777777777778,
              "#fb9f3a"
             ],
             [
              0.8888888888888888,
              "#fdca26"
             ],
             [
              1,
              "#f0f921"
             ]
            ],
            "type": "contour"
           }
          ],
          "contourcarpet": [
           {
            "colorbar": {
             "outlinewidth": 0,
             "ticks": ""
            },
            "type": "contourcarpet"
           }
          ],
          "heatmap": [
           {
            "colorbar": {
             "outlinewidth": 0,
             "ticks": ""
            },
            "colorscale": [
             [
              0,
              "#0d0887"
             ],
             [
              0.1111111111111111,
              "#46039f"
             ],
             [
              0.2222222222222222,
              "#7201a8"
             ],
             [
              0.3333333333333333,
              "#9c179e"
             ],
             [
              0.4444444444444444,
              "#bd3786"
             ],
             [
              0.5555555555555556,
              "#d8576b"
             ],
             [
              0.6666666666666666,
              "#ed7953"
             ],
             [
              0.7777777777777778,
              "#fb9f3a"
             ],
             [
              0.8888888888888888,
              "#fdca26"
             ],
             [
              1,
              "#f0f921"
             ]
            ],
            "type": "heatmap"
           }
          ],
          "heatmapgl": [
           {
            "colorbar": {
             "outlinewidth": 0,
             "ticks": ""
            },
            "colorscale": [
             [
              0,
              "#0d0887"
             ],
             [
              0.1111111111111111,
              "#46039f"
             ],
             [
              0.2222222222222222,
              "#7201a8"
             ],
             [
              0.3333333333333333,
              "#9c179e"
             ],
             [
              0.4444444444444444,
              "#bd3786"
             ],
             [
              0.5555555555555556,
              "#d8576b"
             ],
             [
              0.6666666666666666,
              "#ed7953"
             ],
             [
              0.7777777777777778,
              "#fb9f3a"
             ],
             [
              0.8888888888888888,
              "#fdca26"
             ],
             [
              1,
              "#f0f921"
             ]
            ],
            "type": "heatmapgl"
           }
          ],
          "histogram": [
           {
            "marker": {
             "pattern": {
              "fillmode": "overlay",
              "size": 10,
              "solidity": 0.2
             }
            },
            "type": "histogram"
           }
          ],
          "histogram2d": [
           {
            "colorbar": {
             "outlinewidth": 0,
             "ticks": ""
            },
            "colorscale": [
             [
              0,
              "#0d0887"
             ],
             [
              0.1111111111111111,
              "#46039f"
             ],
             [
              0.2222222222222222,
              "#7201a8"
             ],
             [
              0.3333333333333333,
              "#9c179e"
             ],
             [
              0.4444444444444444,
              "#bd3786"
             ],
             [
              0.5555555555555556,
              "#d8576b"
             ],
             [
              0.6666666666666666,
              "#ed7953"
             ],
             [
              0.7777777777777778,
              "#fb9f3a"
             ],
             [
              0.8888888888888888,
              "#fdca26"
             ],
             [
              1,
              "#f0f921"
             ]
            ],
            "type": "histogram2d"
           }
          ],
          "histogram2dcontour": [
           {
            "colorbar": {
             "outlinewidth": 0,
             "ticks": ""
            },
            "colorscale": [
             [
              0,
              "#0d0887"
             ],
             [
              0.1111111111111111,
              "#46039f"
             ],
             [
              0.2222222222222222,
              "#7201a8"
             ],
             [
              0.3333333333333333,
              "#9c179e"
             ],
             [
              0.4444444444444444,
              "#bd3786"
             ],
             [
              0.5555555555555556,
              "#d8576b"
             ],
             [
              0.6666666666666666,
              "#ed7953"
             ],
             [
              0.7777777777777778,
              "#fb9f3a"
             ],
             [
              0.8888888888888888,
              "#fdca26"
             ],
             [
              1,
              "#f0f921"
             ]
            ],
            "type": "histogram2dcontour"
           }
          ],
          "mesh3d": [
           {
            "colorbar": {
             "outlinewidth": 0,
             "ticks": ""
            },
            "type": "mesh3d"
           }
          ],
          "parcoords": [
           {
            "line": {
             "colorbar": {
              "outlinewidth": 0,
              "ticks": ""
             }
            },
            "type": "parcoords"
           }
          ],
          "pie": [
           {
            "automargin": true,
            "type": "pie"
           }
          ],
          "scatter": [
           {
            "fillpattern": {
             "fillmode": "overlay",
             "size": 10,
             "solidity": 0.2
            },
            "type": "scatter"
           }
          ],
          "scatter3d": [
           {
            "line": {
             "colorbar": {
              "outlinewidth": 0,
              "ticks": ""
             }
            },
            "marker": {
             "colorbar": {
              "outlinewidth": 0,
              "ticks": ""
             }
            },
            "type": "scatter3d"
           }
          ],
          "scattercarpet": [
           {
            "marker": {
             "colorbar": {
              "outlinewidth": 0,
              "ticks": ""
             }
            },
            "type": "scattercarpet"
           }
          ],
          "scattergeo": [
           {
            "marker": {
             "colorbar": {
              "outlinewidth": 0,
              "ticks": ""
             }
            },
            "type": "scattergeo"
           }
          ],
          "scattergl": [
           {
            "marker": {
             "colorbar": {
              "outlinewidth": 0,
              "ticks": ""
             }
            },
            "type": "scattergl"
           }
          ],
          "scattermapbox": [
           {
            "marker": {
             "colorbar": {
              "outlinewidth": 0,
              "ticks": ""
             }
            },
            "type": "scattermapbox"
           }
          ],
          "scatterpolar": [
           {
            "marker": {
             "colorbar": {
              "outlinewidth": 0,
              "ticks": ""
             }
            },
            "type": "scatterpolar"
           }
          ],
          "scatterpolargl": [
           {
            "marker": {
             "colorbar": {
              "outlinewidth": 0,
              "ticks": ""
             }
            },
            "type": "scatterpolargl"
           }
          ],
          "scatterternary": [
           {
            "marker": {
             "colorbar": {
              "outlinewidth": 0,
              "ticks": ""
             }
            },
            "type": "scatterternary"
           }
          ],
          "surface": [
           {
            "colorbar": {
             "outlinewidth": 0,
             "ticks": ""
            },
            "colorscale": [
             [
              0,
              "#0d0887"
             ],
             [
              0.1111111111111111,
              "#46039f"
             ],
             [
              0.2222222222222222,
              "#7201a8"
             ],
             [
              0.3333333333333333,
              "#9c179e"
             ],
             [
              0.4444444444444444,
              "#bd3786"
             ],
             [
              0.5555555555555556,
              "#d8576b"
             ],
             [
              0.6666666666666666,
              "#ed7953"
             ],
             [
              0.7777777777777778,
              "#fb9f3a"
             ],
             [
              0.8888888888888888,
              "#fdca26"
             ],
             [
              1,
              "#f0f921"
             ]
            ],
            "type": "surface"
           }
          ],
          "table": [
           {
            "cells": {
             "fill": {
              "color": "#EBF0F8"
             },
             "line": {
              "color": "white"
             }
            },
            "header": {
             "fill": {
              "color": "#C8D4E3"
             },
             "line": {
              "color": "white"
             }
            },
            "type": "table"
           }
          ]
         },
         "layout": {
          "annotationdefaults": {
           "arrowcolor": "#2a3f5f",
           "arrowhead": 0,
           "arrowwidth": 1
          },
          "autotypenumbers": "strict",
          "coloraxis": {
           "colorbar": {
            "outlinewidth": 0,
            "ticks": ""
           }
          },
          "colorscale": {
           "diverging": [
            [
             0,
             "#8e0152"
            ],
            [
             0.1,
             "#c51b7d"
            ],
            [
             0.2,
             "#de77ae"
            ],
            [
             0.3,
             "#f1b6da"
            ],
            [
             0.4,
             "#fde0ef"
            ],
            [
             0.5,
             "#f7f7f7"
            ],
            [
             0.6,
             "#e6f5d0"
            ],
            [
             0.7,
             "#b8e186"
            ],
            [
             0.8,
             "#7fbc41"
            ],
            [
             0.9,
             "#4d9221"
            ],
            [
             1,
             "#276419"
            ]
           ],
           "sequential": [
            [
             0,
             "#0d0887"
            ],
            [
             0.1111111111111111,
             "#46039f"
            ],
            [
             0.2222222222222222,
             "#7201a8"
            ],
            [
             0.3333333333333333,
             "#9c179e"
            ],
            [
             0.4444444444444444,
             "#bd3786"
            ],
            [
             0.5555555555555556,
             "#d8576b"
            ],
            [
             0.6666666666666666,
             "#ed7953"
            ],
            [
             0.7777777777777778,
             "#fb9f3a"
            ],
            [
             0.8888888888888888,
             "#fdca26"
            ],
            [
             1,
             "#f0f921"
            ]
           ],
           "sequentialminus": [
            [
             0,
             "#0d0887"
            ],
            [
             0.1111111111111111,
             "#46039f"
            ],
            [
             0.2222222222222222,
             "#7201a8"
            ],
            [
             0.3333333333333333,
             "#9c179e"
            ],
            [
             0.4444444444444444,
             "#bd3786"
            ],
            [
             0.5555555555555556,
             "#d8576b"
            ],
            [
             0.6666666666666666,
             "#ed7953"
            ],
            [
             0.7777777777777778,
             "#fb9f3a"
            ],
            [
             0.8888888888888888,
             "#fdca26"
            ],
            [
             1,
             "#f0f921"
            ]
           ]
          },
          "colorway": [
           "#636efa",
           "#EF553B",
           "#00cc96",
           "#ab63fa",
           "#FFA15A",
           "#19d3f3",
           "#FF6692",
           "#B6E880",
           "#FF97FF",
           "#FECB52"
          ],
          "font": {
           "color": "#2a3f5f"
          },
          "geo": {
           "bgcolor": "white",
           "lakecolor": "white",
           "landcolor": "#E5ECF6",
           "showlakes": true,
           "showland": true,
           "subunitcolor": "white"
          },
          "hoverlabel": {
           "align": "left"
          },
          "hovermode": "closest",
          "mapbox": {
           "style": "light"
          },
          "paper_bgcolor": "white",
          "plot_bgcolor": "#E5ECF6",
          "polar": {
           "angularaxis": {
            "gridcolor": "white",
            "linecolor": "white",
            "ticks": ""
           },
           "bgcolor": "#E5ECF6",
           "radialaxis": {
            "gridcolor": "white",
            "linecolor": "white",
            "ticks": ""
           }
          },
          "scene": {
           "xaxis": {
            "backgroundcolor": "#E5ECF6",
            "gridcolor": "white",
            "gridwidth": 2,
            "linecolor": "white",
            "showbackground": true,
            "ticks": "",
            "zerolinecolor": "white"
           },
           "yaxis": {
            "backgroundcolor": "#E5ECF6",
            "gridcolor": "white",
            "gridwidth": 2,
            "linecolor": "white",
            "showbackground": true,
            "ticks": "",
            "zerolinecolor": "white"
           },
           "zaxis": {
            "backgroundcolor": "#E5ECF6",
            "gridcolor": "white",
            "gridwidth": 2,
            "linecolor": "white",
            "showbackground": true,
            "ticks": "",
            "zerolinecolor": "white"
           }
          },
          "shapedefaults": {
           "line": {
            "color": "#2a3f5f"
           }
          },
          "ternary": {
           "aaxis": {
            "gridcolor": "white",
            "linecolor": "white",
            "ticks": ""
           },
           "baxis": {
            "gridcolor": "white",
            "linecolor": "white",
            "ticks": ""
           },
           "bgcolor": "#E5ECF6",
           "caxis": {
            "gridcolor": "white",
            "linecolor": "white",
            "ticks": ""
           }
          },
          "title": {
           "x": 0.05
          },
          "xaxis": {
           "automargin": true,
           "gridcolor": "white",
           "linecolor": "white",
           "ticks": "",
           "title": {
            "standoff": 15
           },
           "zerolinecolor": "white",
           "zerolinewidth": 2
          },
          "yaxis": {
           "automargin": true,
           "gridcolor": "white",
           "linecolor": "white",
           "ticks": "",
           "title": {
            "standoff": 15
           },
           "zerolinecolor": "white",
           "zerolinewidth": 2
          }
         }
        },
        "title": {
         "text": "Total Movies By Genre"
        },
        "xaxis": {
         "anchor": "y",
         "domain": [
          0,
          1
         ],
         "title": {
          "text": "Genre"
         }
        },
        "yaxis": {
         "anchor": "x",
         "domain": [
          0,
          1
         ],
         "title": {
          "text": "Number of Movies"
         }
        }
       }
      }
     },
     "metadata": {},
     "output_type": "display_data"
    }
   ],
   "source": [
    "# Find total movies by genre\n",
    "genre_disney = disney['genre'].value_counts(sort=True) \n",
    "\n",
    "fig = px.bar(genre_disney, title=\"Total Movies By Genre\")\n",
    "\n",
    "# Update axis titles\n",
    "fig.update_layout(\n",
    "    xaxis_title=\"Genre\",\n",
    "    yaxis_title=\"Number of Movies\",\n",
    "    showlegend=False\n",
    ")\n",
    "\n",
    "# Change the color of the first bar\n",
    "colors = ['royalblue'] + ['lightblue'] * (len(genre_disney) - 1)  \n",
    "fig.update_traces(marker_color=colors)\n",
    "\n",
    "fig.show()"
   ]
  },
  {
   "cell_type": "markdown",
   "metadata": {},
   "source": [
    "Comedy movies are the most prevalent, with the highest number of movies which is 182 movies, followed by adventure and drama movies."
   ]
  },
  {
   "cell_type": "code",
   "execution_count": 134,
   "metadata": {},
   "outputs": [
    {
     "data": {
      "application/vnd.plotly.v1+json": {
       "config": {
        "plotlyServerURL": "https://plot.ly"
       },
       "data": [
        {
         "alignmentgroup": "True",
         "hovertemplate": "variable=count<br>mpaa_rating=%{x}<br>value=%{y}<extra></extra>",
         "legendgroup": "count",
         "marker": {
          "color": [
           "royalblue",
           "lightblue",
           "lightblue",
           "lightblue",
           "lightblue",
           "lightblue",
           "lightblue",
           "lightblue",
           "lightblue",
           "lightblue",
           "lightblue",
           "lightblue",
           "lightblue"
          ],
          "pattern": {
           "shape": ""
          }
         },
         "name": "count",
         "offsetgroup": "count",
         "orientation": "v",
         "showlegend": true,
         "textposition": "auto",
         "type": "bar",
         "x": [
          "PG",
          "PG-13",
          "R",
          "G",
          "Not Rated"
         ],
         "xaxis": "x",
         "y": [
          187,
          145,
          102,
          86,
          59
         ],
         "yaxis": "y"
        }
       ],
       "layout": {
        "barmode": "relative",
        "legend": {
         "title": {
          "text": "variable"
         },
         "tracegroupgap": 0
        },
        "showlegend": false,
        "template": {
         "data": {
          "bar": [
           {
            "error_x": {
             "color": "#2a3f5f"
            },
            "error_y": {
             "color": "#2a3f5f"
            },
            "marker": {
             "line": {
              "color": "#E5ECF6",
              "width": 0.5
             },
             "pattern": {
              "fillmode": "overlay",
              "size": 10,
              "solidity": 0.2
             }
            },
            "type": "bar"
           }
          ],
          "barpolar": [
           {
            "marker": {
             "line": {
              "color": "#E5ECF6",
              "width": 0.5
             },
             "pattern": {
              "fillmode": "overlay",
              "size": 10,
              "solidity": 0.2
             }
            },
            "type": "barpolar"
           }
          ],
          "carpet": [
           {
            "aaxis": {
             "endlinecolor": "#2a3f5f",
             "gridcolor": "white",
             "linecolor": "white",
             "minorgridcolor": "white",
             "startlinecolor": "#2a3f5f"
            },
            "baxis": {
             "endlinecolor": "#2a3f5f",
             "gridcolor": "white",
             "linecolor": "white",
             "minorgridcolor": "white",
             "startlinecolor": "#2a3f5f"
            },
            "type": "carpet"
           }
          ],
          "choropleth": [
           {
            "colorbar": {
             "outlinewidth": 0,
             "ticks": ""
            },
            "type": "choropleth"
           }
          ],
          "contour": [
           {
            "colorbar": {
             "outlinewidth": 0,
             "ticks": ""
            },
            "colorscale": [
             [
              0,
              "#0d0887"
             ],
             [
              0.1111111111111111,
              "#46039f"
             ],
             [
              0.2222222222222222,
              "#7201a8"
             ],
             [
              0.3333333333333333,
              "#9c179e"
             ],
             [
              0.4444444444444444,
              "#bd3786"
             ],
             [
              0.5555555555555556,
              "#d8576b"
             ],
             [
              0.6666666666666666,
              "#ed7953"
             ],
             [
              0.7777777777777778,
              "#fb9f3a"
             ],
             [
              0.8888888888888888,
              "#fdca26"
             ],
             [
              1,
              "#f0f921"
             ]
            ],
            "type": "contour"
           }
          ],
          "contourcarpet": [
           {
            "colorbar": {
             "outlinewidth": 0,
             "ticks": ""
            },
            "type": "contourcarpet"
           }
          ],
          "heatmap": [
           {
            "colorbar": {
             "outlinewidth": 0,
             "ticks": ""
            },
            "colorscale": [
             [
              0,
              "#0d0887"
             ],
             [
              0.1111111111111111,
              "#46039f"
             ],
             [
              0.2222222222222222,
              "#7201a8"
             ],
             [
              0.3333333333333333,
              "#9c179e"
             ],
             [
              0.4444444444444444,
              "#bd3786"
             ],
             [
              0.5555555555555556,
              "#d8576b"
             ],
             [
              0.6666666666666666,
              "#ed7953"
             ],
             [
              0.7777777777777778,
              "#fb9f3a"
             ],
             [
              0.8888888888888888,
              "#fdca26"
             ],
             [
              1,
              "#f0f921"
             ]
            ],
            "type": "heatmap"
           }
          ],
          "heatmapgl": [
           {
            "colorbar": {
             "outlinewidth": 0,
             "ticks": ""
            },
            "colorscale": [
             [
              0,
              "#0d0887"
             ],
             [
              0.1111111111111111,
              "#46039f"
             ],
             [
              0.2222222222222222,
              "#7201a8"
             ],
             [
              0.3333333333333333,
              "#9c179e"
             ],
             [
              0.4444444444444444,
              "#bd3786"
             ],
             [
              0.5555555555555556,
              "#d8576b"
             ],
             [
              0.6666666666666666,
              "#ed7953"
             ],
             [
              0.7777777777777778,
              "#fb9f3a"
             ],
             [
              0.8888888888888888,
              "#fdca26"
             ],
             [
              1,
              "#f0f921"
             ]
            ],
            "type": "heatmapgl"
           }
          ],
          "histogram": [
           {
            "marker": {
             "pattern": {
              "fillmode": "overlay",
              "size": 10,
              "solidity": 0.2
             }
            },
            "type": "histogram"
           }
          ],
          "histogram2d": [
           {
            "colorbar": {
             "outlinewidth": 0,
             "ticks": ""
            },
            "colorscale": [
             [
              0,
              "#0d0887"
             ],
             [
              0.1111111111111111,
              "#46039f"
             ],
             [
              0.2222222222222222,
              "#7201a8"
             ],
             [
              0.3333333333333333,
              "#9c179e"
             ],
             [
              0.4444444444444444,
              "#bd3786"
             ],
             [
              0.5555555555555556,
              "#d8576b"
             ],
             [
              0.6666666666666666,
              "#ed7953"
             ],
             [
              0.7777777777777778,
              "#fb9f3a"
             ],
             [
              0.8888888888888888,
              "#fdca26"
             ],
             [
              1,
              "#f0f921"
             ]
            ],
            "type": "histogram2d"
           }
          ],
          "histogram2dcontour": [
           {
            "colorbar": {
             "outlinewidth": 0,
             "ticks": ""
            },
            "colorscale": [
             [
              0,
              "#0d0887"
             ],
             [
              0.1111111111111111,
              "#46039f"
             ],
             [
              0.2222222222222222,
              "#7201a8"
             ],
             [
              0.3333333333333333,
              "#9c179e"
             ],
             [
              0.4444444444444444,
              "#bd3786"
             ],
             [
              0.5555555555555556,
              "#d8576b"
             ],
             [
              0.6666666666666666,
              "#ed7953"
             ],
             [
              0.7777777777777778,
              "#fb9f3a"
             ],
             [
              0.8888888888888888,
              "#fdca26"
             ],
             [
              1,
              "#f0f921"
             ]
            ],
            "type": "histogram2dcontour"
           }
          ],
          "mesh3d": [
           {
            "colorbar": {
             "outlinewidth": 0,
             "ticks": ""
            },
            "type": "mesh3d"
           }
          ],
          "parcoords": [
           {
            "line": {
             "colorbar": {
              "outlinewidth": 0,
              "ticks": ""
             }
            },
            "type": "parcoords"
           }
          ],
          "pie": [
           {
            "automargin": true,
            "type": "pie"
           }
          ],
          "scatter": [
           {
            "fillpattern": {
             "fillmode": "overlay",
             "size": 10,
             "solidity": 0.2
            },
            "type": "scatter"
           }
          ],
          "scatter3d": [
           {
            "line": {
             "colorbar": {
              "outlinewidth": 0,
              "ticks": ""
             }
            },
            "marker": {
             "colorbar": {
              "outlinewidth": 0,
              "ticks": ""
             }
            },
            "type": "scatter3d"
           }
          ],
          "scattercarpet": [
           {
            "marker": {
             "colorbar": {
              "outlinewidth": 0,
              "ticks": ""
             }
            },
            "type": "scattercarpet"
           }
          ],
          "scattergeo": [
           {
            "marker": {
             "colorbar": {
              "outlinewidth": 0,
              "ticks": ""
             }
            },
            "type": "scattergeo"
           }
          ],
          "scattergl": [
           {
            "marker": {
             "colorbar": {
              "outlinewidth": 0,
              "ticks": ""
             }
            },
            "type": "scattergl"
           }
          ],
          "scattermapbox": [
           {
            "marker": {
             "colorbar": {
              "outlinewidth": 0,
              "ticks": ""
             }
            },
            "type": "scattermapbox"
           }
          ],
          "scatterpolar": [
           {
            "marker": {
             "colorbar": {
              "outlinewidth": 0,
              "ticks": ""
             }
            },
            "type": "scatterpolar"
           }
          ],
          "scatterpolargl": [
           {
            "marker": {
             "colorbar": {
              "outlinewidth": 0,
              "ticks": ""
             }
            },
            "type": "scatterpolargl"
           }
          ],
          "scatterternary": [
           {
            "marker": {
             "colorbar": {
              "outlinewidth": 0,
              "ticks": ""
             }
            },
            "type": "scatterternary"
           }
          ],
          "surface": [
           {
            "colorbar": {
             "outlinewidth": 0,
             "ticks": ""
            },
            "colorscale": [
             [
              0,
              "#0d0887"
             ],
             [
              0.1111111111111111,
              "#46039f"
             ],
             [
              0.2222222222222222,
              "#7201a8"
             ],
             [
              0.3333333333333333,
              "#9c179e"
             ],
             [
              0.4444444444444444,
              "#bd3786"
             ],
             [
              0.5555555555555556,
              "#d8576b"
             ],
             [
              0.6666666666666666,
              "#ed7953"
             ],
             [
              0.7777777777777778,
              "#fb9f3a"
             ],
             [
              0.8888888888888888,
              "#fdca26"
             ],
             [
              1,
              "#f0f921"
             ]
            ],
            "type": "surface"
           }
          ],
          "table": [
           {
            "cells": {
             "fill": {
              "color": "#EBF0F8"
             },
             "line": {
              "color": "white"
             }
            },
            "header": {
             "fill": {
              "color": "#C8D4E3"
             },
             "line": {
              "color": "white"
             }
            },
            "type": "table"
           }
          ]
         },
         "layout": {
          "annotationdefaults": {
           "arrowcolor": "#2a3f5f",
           "arrowhead": 0,
           "arrowwidth": 1
          },
          "autotypenumbers": "strict",
          "coloraxis": {
           "colorbar": {
            "outlinewidth": 0,
            "ticks": ""
           }
          },
          "colorscale": {
           "diverging": [
            [
             0,
             "#8e0152"
            ],
            [
             0.1,
             "#c51b7d"
            ],
            [
             0.2,
             "#de77ae"
            ],
            [
             0.3,
             "#f1b6da"
            ],
            [
             0.4,
             "#fde0ef"
            ],
            [
             0.5,
             "#f7f7f7"
            ],
            [
             0.6,
             "#e6f5d0"
            ],
            [
             0.7,
             "#b8e186"
            ],
            [
             0.8,
             "#7fbc41"
            ],
            [
             0.9,
             "#4d9221"
            ],
            [
             1,
             "#276419"
            ]
           ],
           "sequential": [
            [
             0,
             "#0d0887"
            ],
            [
             0.1111111111111111,
             "#46039f"
            ],
            [
             0.2222222222222222,
             "#7201a8"
            ],
            [
             0.3333333333333333,
             "#9c179e"
            ],
            [
             0.4444444444444444,
             "#bd3786"
            ],
            [
             0.5555555555555556,
             "#d8576b"
            ],
            [
             0.6666666666666666,
             "#ed7953"
            ],
            [
             0.7777777777777778,
             "#fb9f3a"
            ],
            [
             0.8888888888888888,
             "#fdca26"
            ],
            [
             1,
             "#f0f921"
            ]
           ],
           "sequentialminus": [
            [
             0,
             "#0d0887"
            ],
            [
             0.1111111111111111,
             "#46039f"
            ],
            [
             0.2222222222222222,
             "#7201a8"
            ],
            [
             0.3333333333333333,
             "#9c179e"
            ],
            [
             0.4444444444444444,
             "#bd3786"
            ],
            [
             0.5555555555555556,
             "#d8576b"
            ],
            [
             0.6666666666666666,
             "#ed7953"
            ],
            [
             0.7777777777777778,
             "#fb9f3a"
            ],
            [
             0.8888888888888888,
             "#fdca26"
            ],
            [
             1,
             "#f0f921"
            ]
           ]
          },
          "colorway": [
           "#636efa",
           "#EF553B",
           "#00cc96",
           "#ab63fa",
           "#FFA15A",
           "#19d3f3",
           "#FF6692",
           "#B6E880",
           "#FF97FF",
           "#FECB52"
          ],
          "font": {
           "color": "#2a3f5f"
          },
          "geo": {
           "bgcolor": "white",
           "lakecolor": "white",
           "landcolor": "#E5ECF6",
           "showlakes": true,
           "showland": true,
           "subunitcolor": "white"
          },
          "hoverlabel": {
           "align": "left"
          },
          "hovermode": "closest",
          "mapbox": {
           "style": "light"
          },
          "paper_bgcolor": "white",
          "plot_bgcolor": "#E5ECF6",
          "polar": {
           "angularaxis": {
            "gridcolor": "white",
            "linecolor": "white",
            "ticks": ""
           },
           "bgcolor": "#E5ECF6",
           "radialaxis": {
            "gridcolor": "white",
            "linecolor": "white",
            "ticks": ""
           }
          },
          "scene": {
           "xaxis": {
            "backgroundcolor": "#E5ECF6",
            "gridcolor": "white",
            "gridwidth": 2,
            "linecolor": "white",
            "showbackground": true,
            "ticks": "",
            "zerolinecolor": "white"
           },
           "yaxis": {
            "backgroundcolor": "#E5ECF6",
            "gridcolor": "white",
            "gridwidth": 2,
            "linecolor": "white",
            "showbackground": true,
            "ticks": "",
            "zerolinecolor": "white"
           },
           "zaxis": {
            "backgroundcolor": "#E5ECF6",
            "gridcolor": "white",
            "gridwidth": 2,
            "linecolor": "white",
            "showbackground": true,
            "ticks": "",
            "zerolinecolor": "white"
           }
          },
          "shapedefaults": {
           "line": {
            "color": "#2a3f5f"
           }
          },
          "ternary": {
           "aaxis": {
            "gridcolor": "white",
            "linecolor": "white",
            "ticks": ""
           },
           "baxis": {
            "gridcolor": "white",
            "linecolor": "white",
            "ticks": ""
           },
           "bgcolor": "#E5ECF6",
           "caxis": {
            "gridcolor": "white",
            "linecolor": "white",
            "ticks": ""
           }
          },
          "title": {
           "x": 0.05
          },
          "xaxis": {
           "automargin": true,
           "gridcolor": "white",
           "linecolor": "white",
           "ticks": "",
           "title": {
            "standoff": 15
           },
           "zerolinecolor": "white",
           "zerolinewidth": 2
          },
          "yaxis": {
           "automargin": true,
           "gridcolor": "white",
           "linecolor": "white",
           "ticks": "",
           "title": {
            "standoff": 15
           },
           "zerolinecolor": "white",
           "zerolinewidth": 2
          }
         }
        },
        "title": {
         "text": "Total Movies By MPAA rating"
        },
        "xaxis": {
         "anchor": "y",
         "domain": [
          0,
          1
         ],
         "title": {
          "text": "MPAA Rating"
         }
        },
        "yaxis": {
         "anchor": "x",
         "domain": [
          0,
          1
         ],
         "title": {
          "text": "Number of Movies"
         }
        }
       }
      }
     },
     "metadata": {},
     "output_type": "display_data"
    }
   ],
   "source": [
    "# Find total movies by mpaa rating\n",
    "rating_disney = disney['mpaa_rating'].value_counts(sort=True)\n",
    "\n",
    "fig = px.bar(rating_disney, title=\"Total Movies By MPAA rating\")\n",
    "\n",
    "# Update axis titles\n",
    "fig.update_layout(\n",
    "    xaxis_title=\"MPAA Rating\",\n",
    "    yaxis_title=\"Number of Movies\",\n",
    "    showlegend=False\n",
    ")\n",
    "\n",
    "# Change the color of the first bar\n",
    "colors = ['royalblue'] + ['lightblue'] * (len(genre_disney) - 1)  \n",
    "fig.update_traces(marker_color=colors)\n",
    "\n",
    "fig.show()"
   ]
  },
  {
   "cell_type": "markdown",
   "metadata": {},
   "source": [
    "PG-rated Disney movies are the most common, followed by PG-13 and R-rated movies."
   ]
  },
  {
   "cell_type": "code",
   "execution_count": 135,
   "metadata": {},
   "outputs": [],
   "source": [
    "# Extract the year from the datetime column\n",
    "disney['year'] = disney['release_date'].dt.year  \n",
    "\n",
    "# Find the number of movies released per year\n",
    "movies_per_year = disney['year'].value_counts().sort_index()  # Sort index to have years in ascending order"
   ]
  },
  {
   "cell_type": "code",
   "execution_count": 136,
   "metadata": {},
   "outputs": [
    {
     "data": {
      "application/vnd.plotly.v1+json": {
       "config": {
        "plotlyServerURL": "https://plot.ly"
       },
       "data": [
        {
         "hovertemplate": "variable=count<br>year=%{x}<br>value=%{y}<extra></extra>",
         "legendgroup": "count",
         "line": {
          "color": "#636efa",
          "dash": "solid"
         },
         "marker": {
          "symbol": "circle"
         },
         "mode": "lines",
         "name": "count",
         "orientation": "v",
         "showlegend": true,
         "type": "scatter",
         "x": [
          1937,
          1940,
          1946,
          1950,
          1954,
          1955,
          1959,
          1961,
          1962,
          1963,
          1967,
          1968,
          1970,
          1971,
          1975,
          1977,
          1979,
          1980,
          1981,
          1982,
          1983,
          1984,
          1985,
          1986,
          1987,
          1988,
          1989,
          1990,
          1991,
          1992,
          1993,
          1994,
          1995,
          1996,
          1997,
          1998,
          1999,
          2000,
          2001,
          2002,
          2003,
          2004,
          2005,
          2006,
          2007,
          2008,
          2009,
          2010,
          2011,
          2012,
          2013,
          2014,
          2015,
          2016
         ],
         "xaxis": "x",
         "y": [
          1,
          2,
          1,
          1,
          1,
          1,
          1,
          3,
          1,
          1,
          1,
          1,
          2,
          1,
          1,
          4,
          1,
          2,
          4,
          3,
          4,
          2,
          6,
          7,
          10,
          12,
          11,
          15,
          16,
          22,
          27,
          30,
          32,
          28,
          23,
          22,
          21,
          19,
          14,
          22,
          19,
          19,
          17,
          19,
          14,
          13,
          16,
          14,
          14,
          10,
          11,
          12,
          11,
          14
         ],
         "yaxis": "y"
        }
       ],
       "layout": {
        "hovermode": "x unified",
        "legend": {
         "title": {
          "text": "variable"
         },
         "tracegroupgap": 0
        },
        "showlegend": false,
        "template": {
         "data": {
          "bar": [
           {
            "error_x": {
             "color": "#2a3f5f"
            },
            "error_y": {
             "color": "#2a3f5f"
            },
            "marker": {
             "line": {
              "color": "#E5ECF6",
              "width": 0.5
             },
             "pattern": {
              "fillmode": "overlay",
              "size": 10,
              "solidity": 0.2
             }
            },
            "type": "bar"
           }
          ],
          "barpolar": [
           {
            "marker": {
             "line": {
              "color": "#E5ECF6",
              "width": 0.5
             },
             "pattern": {
              "fillmode": "overlay",
              "size": 10,
              "solidity": 0.2
             }
            },
            "type": "barpolar"
           }
          ],
          "carpet": [
           {
            "aaxis": {
             "endlinecolor": "#2a3f5f",
             "gridcolor": "white",
             "linecolor": "white",
             "minorgridcolor": "white",
             "startlinecolor": "#2a3f5f"
            },
            "baxis": {
             "endlinecolor": "#2a3f5f",
             "gridcolor": "white",
             "linecolor": "white",
             "minorgridcolor": "white",
             "startlinecolor": "#2a3f5f"
            },
            "type": "carpet"
           }
          ],
          "choropleth": [
           {
            "colorbar": {
             "outlinewidth": 0,
             "ticks": ""
            },
            "type": "choropleth"
           }
          ],
          "contour": [
           {
            "colorbar": {
             "outlinewidth": 0,
             "ticks": ""
            },
            "colorscale": [
             [
              0,
              "#0d0887"
             ],
             [
              0.1111111111111111,
              "#46039f"
             ],
             [
              0.2222222222222222,
              "#7201a8"
             ],
             [
              0.3333333333333333,
              "#9c179e"
             ],
             [
              0.4444444444444444,
              "#bd3786"
             ],
             [
              0.5555555555555556,
              "#d8576b"
             ],
             [
              0.6666666666666666,
              "#ed7953"
             ],
             [
              0.7777777777777778,
              "#fb9f3a"
             ],
             [
              0.8888888888888888,
              "#fdca26"
             ],
             [
              1,
              "#f0f921"
             ]
            ],
            "type": "contour"
           }
          ],
          "contourcarpet": [
           {
            "colorbar": {
             "outlinewidth": 0,
             "ticks": ""
            },
            "type": "contourcarpet"
           }
          ],
          "heatmap": [
           {
            "colorbar": {
             "outlinewidth": 0,
             "ticks": ""
            },
            "colorscale": [
             [
              0,
              "#0d0887"
             ],
             [
              0.1111111111111111,
              "#46039f"
             ],
             [
              0.2222222222222222,
              "#7201a8"
             ],
             [
              0.3333333333333333,
              "#9c179e"
             ],
             [
              0.4444444444444444,
              "#bd3786"
             ],
             [
              0.5555555555555556,
              "#d8576b"
             ],
             [
              0.6666666666666666,
              "#ed7953"
             ],
             [
              0.7777777777777778,
              "#fb9f3a"
             ],
             [
              0.8888888888888888,
              "#fdca26"
             ],
             [
              1,
              "#f0f921"
             ]
            ],
            "type": "heatmap"
           }
          ],
          "heatmapgl": [
           {
            "colorbar": {
             "outlinewidth": 0,
             "ticks": ""
            },
            "colorscale": [
             [
              0,
              "#0d0887"
             ],
             [
              0.1111111111111111,
              "#46039f"
             ],
             [
              0.2222222222222222,
              "#7201a8"
             ],
             [
              0.3333333333333333,
              "#9c179e"
             ],
             [
              0.4444444444444444,
              "#bd3786"
             ],
             [
              0.5555555555555556,
              "#d8576b"
             ],
             [
              0.6666666666666666,
              "#ed7953"
             ],
             [
              0.7777777777777778,
              "#fb9f3a"
             ],
             [
              0.8888888888888888,
              "#fdca26"
             ],
             [
              1,
              "#f0f921"
             ]
            ],
            "type": "heatmapgl"
           }
          ],
          "histogram": [
           {
            "marker": {
             "pattern": {
              "fillmode": "overlay",
              "size": 10,
              "solidity": 0.2
             }
            },
            "type": "histogram"
           }
          ],
          "histogram2d": [
           {
            "colorbar": {
             "outlinewidth": 0,
             "ticks": ""
            },
            "colorscale": [
             [
              0,
              "#0d0887"
             ],
             [
              0.1111111111111111,
              "#46039f"
             ],
             [
              0.2222222222222222,
              "#7201a8"
             ],
             [
              0.3333333333333333,
              "#9c179e"
             ],
             [
              0.4444444444444444,
              "#bd3786"
             ],
             [
              0.5555555555555556,
              "#d8576b"
             ],
             [
              0.6666666666666666,
              "#ed7953"
             ],
             [
              0.7777777777777778,
              "#fb9f3a"
             ],
             [
              0.8888888888888888,
              "#fdca26"
             ],
             [
              1,
              "#f0f921"
             ]
            ],
            "type": "histogram2d"
           }
          ],
          "histogram2dcontour": [
           {
            "colorbar": {
             "outlinewidth": 0,
             "ticks": ""
            },
            "colorscale": [
             [
              0,
              "#0d0887"
             ],
             [
              0.1111111111111111,
              "#46039f"
             ],
             [
              0.2222222222222222,
              "#7201a8"
             ],
             [
              0.3333333333333333,
              "#9c179e"
             ],
             [
              0.4444444444444444,
              "#bd3786"
             ],
             [
              0.5555555555555556,
              "#d8576b"
             ],
             [
              0.6666666666666666,
              "#ed7953"
             ],
             [
              0.7777777777777778,
              "#fb9f3a"
             ],
             [
              0.8888888888888888,
              "#fdca26"
             ],
             [
              1,
              "#f0f921"
             ]
            ],
            "type": "histogram2dcontour"
           }
          ],
          "mesh3d": [
           {
            "colorbar": {
             "outlinewidth": 0,
             "ticks": ""
            },
            "type": "mesh3d"
           }
          ],
          "parcoords": [
           {
            "line": {
             "colorbar": {
              "outlinewidth": 0,
              "ticks": ""
             }
            },
            "type": "parcoords"
           }
          ],
          "pie": [
           {
            "automargin": true,
            "type": "pie"
           }
          ],
          "scatter": [
           {
            "fillpattern": {
             "fillmode": "overlay",
             "size": 10,
             "solidity": 0.2
            },
            "type": "scatter"
           }
          ],
          "scatter3d": [
           {
            "line": {
             "colorbar": {
              "outlinewidth": 0,
              "ticks": ""
             }
            },
            "marker": {
             "colorbar": {
              "outlinewidth": 0,
              "ticks": ""
             }
            },
            "type": "scatter3d"
           }
          ],
          "scattercarpet": [
           {
            "marker": {
             "colorbar": {
              "outlinewidth": 0,
              "ticks": ""
             }
            },
            "type": "scattercarpet"
           }
          ],
          "scattergeo": [
           {
            "marker": {
             "colorbar": {
              "outlinewidth": 0,
              "ticks": ""
             }
            },
            "type": "scattergeo"
           }
          ],
          "scattergl": [
           {
            "marker": {
             "colorbar": {
              "outlinewidth": 0,
              "ticks": ""
             }
            },
            "type": "scattergl"
           }
          ],
          "scattermapbox": [
           {
            "marker": {
             "colorbar": {
              "outlinewidth": 0,
              "ticks": ""
             }
            },
            "type": "scattermapbox"
           }
          ],
          "scatterpolar": [
           {
            "marker": {
             "colorbar": {
              "outlinewidth": 0,
              "ticks": ""
             }
            },
            "type": "scatterpolar"
           }
          ],
          "scatterpolargl": [
           {
            "marker": {
             "colorbar": {
              "outlinewidth": 0,
              "ticks": ""
             }
            },
            "type": "scatterpolargl"
           }
          ],
          "scatterternary": [
           {
            "marker": {
             "colorbar": {
              "outlinewidth": 0,
              "ticks": ""
             }
            },
            "type": "scatterternary"
           }
          ],
          "surface": [
           {
            "colorbar": {
             "outlinewidth": 0,
             "ticks": ""
            },
            "colorscale": [
             [
              0,
              "#0d0887"
             ],
             [
              0.1111111111111111,
              "#46039f"
             ],
             [
              0.2222222222222222,
              "#7201a8"
             ],
             [
              0.3333333333333333,
              "#9c179e"
             ],
             [
              0.4444444444444444,
              "#bd3786"
             ],
             [
              0.5555555555555556,
              "#d8576b"
             ],
             [
              0.6666666666666666,
              "#ed7953"
             ],
             [
              0.7777777777777778,
              "#fb9f3a"
             ],
             [
              0.8888888888888888,
              "#fdca26"
             ],
             [
              1,
              "#f0f921"
             ]
            ],
            "type": "surface"
           }
          ],
          "table": [
           {
            "cells": {
             "fill": {
              "color": "#EBF0F8"
             },
             "line": {
              "color": "white"
             }
            },
            "header": {
             "fill": {
              "color": "#C8D4E3"
             },
             "line": {
              "color": "white"
             }
            },
            "type": "table"
           }
          ]
         },
         "layout": {
          "annotationdefaults": {
           "arrowcolor": "#2a3f5f",
           "arrowhead": 0,
           "arrowwidth": 1
          },
          "autotypenumbers": "strict",
          "coloraxis": {
           "colorbar": {
            "outlinewidth": 0,
            "ticks": ""
           }
          },
          "colorscale": {
           "diverging": [
            [
             0,
             "#8e0152"
            ],
            [
             0.1,
             "#c51b7d"
            ],
            [
             0.2,
             "#de77ae"
            ],
            [
             0.3,
             "#f1b6da"
            ],
            [
             0.4,
             "#fde0ef"
            ],
            [
             0.5,
             "#f7f7f7"
            ],
            [
             0.6,
             "#e6f5d0"
            ],
            [
             0.7,
             "#b8e186"
            ],
            [
             0.8,
             "#7fbc41"
            ],
            [
             0.9,
             "#4d9221"
            ],
            [
             1,
             "#276419"
            ]
           ],
           "sequential": [
            [
             0,
             "#0d0887"
            ],
            [
             0.1111111111111111,
             "#46039f"
            ],
            [
             0.2222222222222222,
             "#7201a8"
            ],
            [
             0.3333333333333333,
             "#9c179e"
            ],
            [
             0.4444444444444444,
             "#bd3786"
            ],
            [
             0.5555555555555556,
             "#d8576b"
            ],
            [
             0.6666666666666666,
             "#ed7953"
            ],
            [
             0.7777777777777778,
             "#fb9f3a"
            ],
            [
             0.8888888888888888,
             "#fdca26"
            ],
            [
             1,
             "#f0f921"
            ]
           ],
           "sequentialminus": [
            [
             0,
             "#0d0887"
            ],
            [
             0.1111111111111111,
             "#46039f"
            ],
            [
             0.2222222222222222,
             "#7201a8"
            ],
            [
             0.3333333333333333,
             "#9c179e"
            ],
            [
             0.4444444444444444,
             "#bd3786"
            ],
            [
             0.5555555555555556,
             "#d8576b"
            ],
            [
             0.6666666666666666,
             "#ed7953"
            ],
            [
             0.7777777777777778,
             "#fb9f3a"
            ],
            [
             0.8888888888888888,
             "#fdca26"
            ],
            [
             1,
             "#f0f921"
            ]
           ]
          },
          "colorway": [
           "#636efa",
           "#EF553B",
           "#00cc96",
           "#ab63fa",
           "#FFA15A",
           "#19d3f3",
           "#FF6692",
           "#B6E880",
           "#FF97FF",
           "#FECB52"
          ],
          "font": {
           "color": "#2a3f5f"
          },
          "geo": {
           "bgcolor": "white",
           "lakecolor": "white",
           "landcolor": "#E5ECF6",
           "showlakes": true,
           "showland": true,
           "subunitcolor": "white"
          },
          "hoverlabel": {
           "align": "left"
          },
          "hovermode": "closest",
          "mapbox": {
           "style": "light"
          },
          "paper_bgcolor": "white",
          "plot_bgcolor": "#E5ECF6",
          "polar": {
           "angularaxis": {
            "gridcolor": "white",
            "linecolor": "white",
            "ticks": ""
           },
           "bgcolor": "#E5ECF6",
           "radialaxis": {
            "gridcolor": "white",
            "linecolor": "white",
            "ticks": ""
           }
          },
          "scene": {
           "xaxis": {
            "backgroundcolor": "#E5ECF6",
            "gridcolor": "white",
            "gridwidth": 2,
            "linecolor": "white",
            "showbackground": true,
            "ticks": "",
            "zerolinecolor": "white"
           },
           "yaxis": {
            "backgroundcolor": "#E5ECF6",
            "gridcolor": "white",
            "gridwidth": 2,
            "linecolor": "white",
            "showbackground": true,
            "ticks": "",
            "zerolinecolor": "white"
           },
           "zaxis": {
            "backgroundcolor": "#E5ECF6",
            "gridcolor": "white",
            "gridwidth": 2,
            "linecolor": "white",
            "showbackground": true,
            "ticks": "",
            "zerolinecolor": "white"
           }
          },
          "shapedefaults": {
           "line": {
            "color": "#2a3f5f"
           }
          },
          "ternary": {
           "aaxis": {
            "gridcolor": "white",
            "linecolor": "white",
            "ticks": ""
           },
           "baxis": {
            "gridcolor": "white",
            "linecolor": "white",
            "ticks": ""
           },
           "bgcolor": "#E5ECF6",
           "caxis": {
            "gridcolor": "white",
            "linecolor": "white",
            "ticks": ""
           }
          },
          "title": {
           "x": 0.05
          },
          "xaxis": {
           "automargin": true,
           "gridcolor": "white",
           "linecolor": "white",
           "ticks": "",
           "title": {
            "standoff": 15
           },
           "zerolinecolor": "white",
           "zerolinewidth": 2
          },
          "yaxis": {
           "automargin": true,
           "gridcolor": "white",
           "linecolor": "white",
           "ticks": "",
           "title": {
            "standoff": 15
           },
           "zerolinecolor": "white",
           "zerolinewidth": 2
          }
         }
        },
        "title": {
         "text": "Total Movies Released Over the Years"
        },
        "xaxis": {
         "anchor": "y",
         "domain": [
          0,
          1
         ],
         "title": {
          "text": "Year"
         }
        },
        "yaxis": {
         "anchor": "x",
         "domain": [
          0,
          1
         ],
         "title": {
          "text": "Number of Movies"
         }
        }
       }
      }
     },
     "metadata": {},
     "output_type": "display_data"
    }
   ],
   "source": [
    "fig = px.line(movies_per_year, title='Total Movies Released Over the Years')\n",
    "\n",
    "fig.update_layout(\n",
    "    xaxis_title='Year',\n",
    "    yaxis_title='Number of Movies',\n",
    "    hovermode='x unified',  # This makes the hover tooltip appear for all points on the x-axis\n",
    "    showlegend=False\n",
    ")\n",
    "\n",
    "fig.show()"
   ]
  },
  {
   "cell_type": "markdown",
   "metadata": {},
   "source": [
    "1995 marked the peak year for Disney movie releases, with the highest number of movies launched that year which is 32 movies."
   ]
  },
  {
   "cell_type": "code",
   "execution_count": 137,
   "metadata": {},
   "outputs": [
    {
     "data": {
      "application/vnd.plotly.v1+json": {
       "config": {
        "plotlyServerURL": "https://plot.ly"
       },
       "data": [
        {
         "alignmentgroup": "True",
         "hovertemplate": "movie_title=%{x}<br>total_gross=%{y}<extra></extra>",
         "legendgroup": "",
         "marker": {
          "color": [
           "royalblue",
           "lightblue",
           "lightblue",
           "lightblue",
           "lightblue",
           "lightblue",
           "lightblue",
           "lightblue",
           "lightblue",
           "lightblue",
           "lightblue",
           "lightblue",
           "lightblue"
          ],
          "pattern": {
           "shape": ""
          }
         },
         "name": "",
         "offsetgroup": "",
         "orientation": "v",
         "showlegend": false,
         "textposition": "auto",
         "type": "bar",
         "x": [
          "Star Wars Ep. VII: The Force Awakens",
          "The Avengers",
          "Rogue One: A Star Wars Story",
          "Finding Dory",
          "Avengers: Age of Ultron",
          "Pirates of the Caribbean: Dead Man’…",
          "The Lion King",
          "Toy Story 3",
          "Iron Man 3",
          "Captain America: Civil War"
         ],
         "xaxis": "x",
         "y": [
          936662225,
          623279547,
          529483936,
          486295561,
          459005868,
          423315812,
          422780140,
          415004880,
          408992272,
          408084349
         ],
         "yaxis": "y"
        }
       ],
       "layout": {
        "barmode": "relative",
        "legend": {
         "tracegroupgap": 0
        },
        "showlegend": false,
        "template": {
         "data": {
          "bar": [
           {
            "error_x": {
             "color": "#2a3f5f"
            },
            "error_y": {
             "color": "#2a3f5f"
            },
            "marker": {
             "line": {
              "color": "#E5ECF6",
              "width": 0.5
             },
             "pattern": {
              "fillmode": "overlay",
              "size": 10,
              "solidity": 0.2
             }
            },
            "type": "bar"
           }
          ],
          "barpolar": [
           {
            "marker": {
             "line": {
              "color": "#E5ECF6",
              "width": 0.5
             },
             "pattern": {
              "fillmode": "overlay",
              "size": 10,
              "solidity": 0.2
             }
            },
            "type": "barpolar"
           }
          ],
          "carpet": [
           {
            "aaxis": {
             "endlinecolor": "#2a3f5f",
             "gridcolor": "white",
             "linecolor": "white",
             "minorgridcolor": "white",
             "startlinecolor": "#2a3f5f"
            },
            "baxis": {
             "endlinecolor": "#2a3f5f",
             "gridcolor": "white",
             "linecolor": "white",
             "minorgridcolor": "white",
             "startlinecolor": "#2a3f5f"
            },
            "type": "carpet"
           }
          ],
          "choropleth": [
           {
            "colorbar": {
             "outlinewidth": 0,
             "ticks": ""
            },
            "type": "choropleth"
           }
          ],
          "contour": [
           {
            "colorbar": {
             "outlinewidth": 0,
             "ticks": ""
            },
            "colorscale": [
             [
              0,
              "#0d0887"
             ],
             [
              0.1111111111111111,
              "#46039f"
             ],
             [
              0.2222222222222222,
              "#7201a8"
             ],
             [
              0.3333333333333333,
              "#9c179e"
             ],
             [
              0.4444444444444444,
              "#bd3786"
             ],
             [
              0.5555555555555556,
              "#d8576b"
             ],
             [
              0.6666666666666666,
              "#ed7953"
             ],
             [
              0.7777777777777778,
              "#fb9f3a"
             ],
             [
              0.8888888888888888,
              "#fdca26"
             ],
             [
              1,
              "#f0f921"
             ]
            ],
            "type": "contour"
           }
          ],
          "contourcarpet": [
           {
            "colorbar": {
             "outlinewidth": 0,
             "ticks": ""
            },
            "type": "contourcarpet"
           }
          ],
          "heatmap": [
           {
            "colorbar": {
             "outlinewidth": 0,
             "ticks": ""
            },
            "colorscale": [
             [
              0,
              "#0d0887"
             ],
             [
              0.1111111111111111,
              "#46039f"
             ],
             [
              0.2222222222222222,
              "#7201a8"
             ],
             [
              0.3333333333333333,
              "#9c179e"
             ],
             [
              0.4444444444444444,
              "#bd3786"
             ],
             [
              0.5555555555555556,
              "#d8576b"
             ],
             [
              0.6666666666666666,
              "#ed7953"
             ],
             [
              0.7777777777777778,
              "#fb9f3a"
             ],
             [
              0.8888888888888888,
              "#fdca26"
             ],
             [
              1,
              "#f0f921"
             ]
            ],
            "type": "heatmap"
           }
          ],
          "heatmapgl": [
           {
            "colorbar": {
             "outlinewidth": 0,
             "ticks": ""
            },
            "colorscale": [
             [
              0,
              "#0d0887"
             ],
             [
              0.1111111111111111,
              "#46039f"
             ],
             [
              0.2222222222222222,
              "#7201a8"
             ],
             [
              0.3333333333333333,
              "#9c179e"
             ],
             [
              0.4444444444444444,
              "#bd3786"
             ],
             [
              0.5555555555555556,
              "#d8576b"
             ],
             [
              0.6666666666666666,
              "#ed7953"
             ],
             [
              0.7777777777777778,
              "#fb9f3a"
             ],
             [
              0.8888888888888888,
              "#fdca26"
             ],
             [
              1,
              "#f0f921"
             ]
            ],
            "type": "heatmapgl"
           }
          ],
          "histogram": [
           {
            "marker": {
             "pattern": {
              "fillmode": "overlay",
              "size": 10,
              "solidity": 0.2
             }
            },
            "type": "histogram"
           }
          ],
          "histogram2d": [
           {
            "colorbar": {
             "outlinewidth": 0,
             "ticks": ""
            },
            "colorscale": [
             [
              0,
              "#0d0887"
             ],
             [
              0.1111111111111111,
              "#46039f"
             ],
             [
              0.2222222222222222,
              "#7201a8"
             ],
             [
              0.3333333333333333,
              "#9c179e"
             ],
             [
              0.4444444444444444,
              "#bd3786"
             ],
             [
              0.5555555555555556,
              "#d8576b"
             ],
             [
              0.6666666666666666,
              "#ed7953"
             ],
             [
              0.7777777777777778,
              "#fb9f3a"
             ],
             [
              0.8888888888888888,
              "#fdca26"
             ],
             [
              1,
              "#f0f921"
             ]
            ],
            "type": "histogram2d"
           }
          ],
          "histogram2dcontour": [
           {
            "colorbar": {
             "outlinewidth": 0,
             "ticks": ""
            },
            "colorscale": [
             [
              0,
              "#0d0887"
             ],
             [
              0.1111111111111111,
              "#46039f"
             ],
             [
              0.2222222222222222,
              "#7201a8"
             ],
             [
              0.3333333333333333,
              "#9c179e"
             ],
             [
              0.4444444444444444,
              "#bd3786"
             ],
             [
              0.5555555555555556,
              "#d8576b"
             ],
             [
              0.6666666666666666,
              "#ed7953"
             ],
             [
              0.7777777777777778,
              "#fb9f3a"
             ],
             [
              0.8888888888888888,
              "#fdca26"
             ],
             [
              1,
              "#f0f921"
             ]
            ],
            "type": "histogram2dcontour"
           }
          ],
          "mesh3d": [
           {
            "colorbar": {
             "outlinewidth": 0,
             "ticks": ""
            },
            "type": "mesh3d"
           }
          ],
          "parcoords": [
           {
            "line": {
             "colorbar": {
              "outlinewidth": 0,
              "ticks": ""
             }
            },
            "type": "parcoords"
           }
          ],
          "pie": [
           {
            "automargin": true,
            "type": "pie"
           }
          ],
          "scatter": [
           {
            "fillpattern": {
             "fillmode": "overlay",
             "size": 10,
             "solidity": 0.2
            },
            "type": "scatter"
           }
          ],
          "scatter3d": [
           {
            "line": {
             "colorbar": {
              "outlinewidth": 0,
              "ticks": ""
             }
            },
            "marker": {
             "colorbar": {
              "outlinewidth": 0,
              "ticks": ""
             }
            },
            "type": "scatter3d"
           }
          ],
          "scattercarpet": [
           {
            "marker": {
             "colorbar": {
              "outlinewidth": 0,
              "ticks": ""
             }
            },
            "type": "scattercarpet"
           }
          ],
          "scattergeo": [
           {
            "marker": {
             "colorbar": {
              "outlinewidth": 0,
              "ticks": ""
             }
            },
            "type": "scattergeo"
           }
          ],
          "scattergl": [
           {
            "marker": {
             "colorbar": {
              "outlinewidth": 0,
              "ticks": ""
             }
            },
            "type": "scattergl"
           }
          ],
          "scattermapbox": [
           {
            "marker": {
             "colorbar": {
              "outlinewidth": 0,
              "ticks": ""
             }
            },
            "type": "scattermapbox"
           }
          ],
          "scatterpolar": [
           {
            "marker": {
             "colorbar": {
              "outlinewidth": 0,
              "ticks": ""
             }
            },
            "type": "scatterpolar"
           }
          ],
          "scatterpolargl": [
           {
            "marker": {
             "colorbar": {
              "outlinewidth": 0,
              "ticks": ""
             }
            },
            "type": "scatterpolargl"
           }
          ],
          "scatterternary": [
           {
            "marker": {
             "colorbar": {
              "outlinewidth": 0,
              "ticks": ""
             }
            },
            "type": "scatterternary"
           }
          ],
          "surface": [
           {
            "colorbar": {
             "outlinewidth": 0,
             "ticks": ""
            },
            "colorscale": [
             [
              0,
              "#0d0887"
             ],
             [
              0.1111111111111111,
              "#46039f"
             ],
             [
              0.2222222222222222,
              "#7201a8"
             ],
             [
              0.3333333333333333,
              "#9c179e"
             ],
             [
              0.4444444444444444,
              "#bd3786"
             ],
             [
              0.5555555555555556,
              "#d8576b"
             ],
             [
              0.6666666666666666,
              "#ed7953"
             ],
             [
              0.7777777777777778,
              "#fb9f3a"
             ],
             [
              0.8888888888888888,
              "#fdca26"
             ],
             [
              1,
              "#f0f921"
             ]
            ],
            "type": "surface"
           }
          ],
          "table": [
           {
            "cells": {
             "fill": {
              "color": "#EBF0F8"
             },
             "line": {
              "color": "white"
             }
            },
            "header": {
             "fill": {
              "color": "#C8D4E3"
             },
             "line": {
              "color": "white"
             }
            },
            "type": "table"
           }
          ]
         },
         "layout": {
          "annotationdefaults": {
           "arrowcolor": "#2a3f5f",
           "arrowhead": 0,
           "arrowwidth": 1
          },
          "autotypenumbers": "strict",
          "coloraxis": {
           "colorbar": {
            "outlinewidth": 0,
            "ticks": ""
           }
          },
          "colorscale": {
           "diverging": [
            [
             0,
             "#8e0152"
            ],
            [
             0.1,
             "#c51b7d"
            ],
            [
             0.2,
             "#de77ae"
            ],
            [
             0.3,
             "#f1b6da"
            ],
            [
             0.4,
             "#fde0ef"
            ],
            [
             0.5,
             "#f7f7f7"
            ],
            [
             0.6,
             "#e6f5d0"
            ],
            [
             0.7,
             "#b8e186"
            ],
            [
             0.8,
             "#7fbc41"
            ],
            [
             0.9,
             "#4d9221"
            ],
            [
             1,
             "#276419"
            ]
           ],
           "sequential": [
            [
             0,
             "#0d0887"
            ],
            [
             0.1111111111111111,
             "#46039f"
            ],
            [
             0.2222222222222222,
             "#7201a8"
            ],
            [
             0.3333333333333333,
             "#9c179e"
            ],
            [
             0.4444444444444444,
             "#bd3786"
            ],
            [
             0.5555555555555556,
             "#d8576b"
            ],
            [
             0.6666666666666666,
             "#ed7953"
            ],
            [
             0.7777777777777778,
             "#fb9f3a"
            ],
            [
             0.8888888888888888,
             "#fdca26"
            ],
            [
             1,
             "#f0f921"
            ]
           ],
           "sequentialminus": [
            [
             0,
             "#0d0887"
            ],
            [
             0.1111111111111111,
             "#46039f"
            ],
            [
             0.2222222222222222,
             "#7201a8"
            ],
            [
             0.3333333333333333,
             "#9c179e"
            ],
            [
             0.4444444444444444,
             "#bd3786"
            ],
            [
             0.5555555555555556,
             "#d8576b"
            ],
            [
             0.6666666666666666,
             "#ed7953"
            ],
            [
             0.7777777777777778,
             "#fb9f3a"
            ],
            [
             0.8888888888888888,
             "#fdca26"
            ],
            [
             1,
             "#f0f921"
            ]
           ]
          },
          "colorway": [
           "#636efa",
           "#EF553B",
           "#00cc96",
           "#ab63fa",
           "#FFA15A",
           "#19d3f3",
           "#FF6692",
           "#B6E880",
           "#FF97FF",
           "#FECB52"
          ],
          "font": {
           "color": "#2a3f5f"
          },
          "geo": {
           "bgcolor": "white",
           "lakecolor": "white",
           "landcolor": "#E5ECF6",
           "showlakes": true,
           "showland": true,
           "subunitcolor": "white"
          },
          "hoverlabel": {
           "align": "left"
          },
          "hovermode": "closest",
          "mapbox": {
           "style": "light"
          },
          "paper_bgcolor": "white",
          "plot_bgcolor": "#E5ECF6",
          "polar": {
           "angularaxis": {
            "gridcolor": "white",
            "linecolor": "white",
            "ticks": ""
           },
           "bgcolor": "#E5ECF6",
           "radialaxis": {
            "gridcolor": "white",
            "linecolor": "white",
            "ticks": ""
           }
          },
          "scene": {
           "xaxis": {
            "backgroundcolor": "#E5ECF6",
            "gridcolor": "white",
            "gridwidth": 2,
            "linecolor": "white",
            "showbackground": true,
            "ticks": "",
            "zerolinecolor": "white"
           },
           "yaxis": {
            "backgroundcolor": "#E5ECF6",
            "gridcolor": "white",
            "gridwidth": 2,
            "linecolor": "white",
            "showbackground": true,
            "ticks": "",
            "zerolinecolor": "white"
           },
           "zaxis": {
            "backgroundcolor": "#E5ECF6",
            "gridcolor": "white",
            "gridwidth": 2,
            "linecolor": "white",
            "showbackground": true,
            "ticks": "",
            "zerolinecolor": "white"
           }
          },
          "shapedefaults": {
           "line": {
            "color": "#2a3f5f"
           }
          },
          "ternary": {
           "aaxis": {
            "gridcolor": "white",
            "linecolor": "white",
            "ticks": ""
           },
           "baxis": {
            "gridcolor": "white",
            "linecolor": "white",
            "ticks": ""
           },
           "bgcolor": "#E5ECF6",
           "caxis": {
            "gridcolor": "white",
            "linecolor": "white",
            "ticks": ""
           }
          },
          "title": {
           "x": 0.05
          },
          "xaxis": {
           "automargin": true,
           "gridcolor": "white",
           "linecolor": "white",
           "ticks": "",
           "title": {
            "standoff": 15
           },
           "zerolinecolor": "white",
           "zerolinewidth": 2
          },
          "yaxis": {
           "automargin": true,
           "gridcolor": "white",
           "linecolor": "white",
           "ticks": "",
           "title": {
            "standoff": 15
           },
           "zerolinecolor": "white",
           "zerolinewidth": 2
          }
         }
        },
        "title": {
         "text": "Top 10 Highest Grossing Movies"
        },
        "xaxis": {
         "anchor": "y",
         "domain": [
          0,
          1
         ],
         "title": {
          "text": "Movie"
         }
        },
        "yaxis": {
         "anchor": "x",
         "domain": [
          0,
          1
         ],
         "title": {
          "text": "Total Gross"
         }
        }
       }
      }
     },
     "metadata": {},
     "output_type": "display_data"
    }
   ],
   "source": [
    "# Sort movies by total_gross in descending order\n",
    "sorted_movies = disney.sort_values(by='total_gross', ascending=False)\n",
    "\n",
    "top_10_movies = sorted_movies.head(10) # Subset only top 10 movies\n",
    "\n",
    "fig = px.bar(top_10_movies, x='movie_title', y='total_gross', title=\"Top 10 Highest Grossing Movies\")\n",
    "\n",
    "# Update axis titles\n",
    "fig.update_layout(\n",
    "    xaxis_title=\"Movie\",\n",
    "    yaxis_title=\"Total Gross\",\n",
    "    showlegend=False\n",
    ")\n",
    "\n",
    "# Change the color of the first bar\n",
    "colors = ['royalblue'] + ['lightblue'] * (len(genre_disney) - 1)  \n",
    "fig.update_traces(marker_color=colors)\n",
    "\n",
    "fig.show()"
   ]
  },
  {
   "cell_type": "markdown",
   "metadata": {},
   "source": [
    "\"Star Wars Episode VII: The Force Awakens\" achieved the highest total gross among all Disney movies, with a remarkable $936.7 million in revenue."
   ]
  },
  {
   "cell_type": "code",
   "execution_count": 138,
   "metadata": {},
   "outputs": [
    {
     "data": {
      "application/vnd.plotly.v1+json": {
       "config": {
        "plotlyServerURL": "https://plot.ly"
       },
       "data": [
        {
         "alignmentgroup": "True",
         "hovertemplate": "movie_title=%{x}<br>total_gross=%{y}<extra></extra>",
         "legendgroup": "",
         "marker": {
          "color": [
           "lightblue",
           "lightblue",
           "lightblue",
           "lightblue",
           "lightblue",
           "lightblue",
           "lightblue",
           "lightblue",
           "lightblue",
           "lightblue",
           "lightblue",
           "lightblue",
           "royalblue"
          ],
          "pattern": {
           "shape": ""
          }
         },
         "name": "",
         "offsetgroup": "",
         "orientation": "v",
         "showlegend": false,
         "textposition": "auto",
         "type": "bar",
         "x": [
          "It's Pat",
          "Gedo Senki (Tales from Earthsea)",
          "An Alan Smithee Film: Burn Hollywood …",
          "The War at Home",
          "Walt and El Grupo",
          "Zokkomon",
          "The Many Adventures of Winnie the Pooh",
          "Condorman",
          "Frank McKlusky C.I.",
          "Amy"
         ],
         "xaxis": "x",
         "y": [
          60822,
          48658,
          45779,
          34368,
          20521,
          2815,
          0,
          0,
          0,
          0
         ],
         "yaxis": "y"
        }
       ],
       "layout": {
        "barmode": "relative",
        "legend": {
         "tracegroupgap": 0
        },
        "showlegend": false,
        "template": {
         "data": {
          "bar": [
           {
            "error_x": {
             "color": "#2a3f5f"
            },
            "error_y": {
             "color": "#2a3f5f"
            },
            "marker": {
             "line": {
              "color": "#E5ECF6",
              "width": 0.5
             },
             "pattern": {
              "fillmode": "overlay",
              "size": 10,
              "solidity": 0.2
             }
            },
            "type": "bar"
           }
          ],
          "barpolar": [
           {
            "marker": {
             "line": {
              "color": "#E5ECF6",
              "width": 0.5
             },
             "pattern": {
              "fillmode": "overlay",
              "size": 10,
              "solidity": 0.2
             }
            },
            "type": "barpolar"
           }
          ],
          "carpet": [
           {
            "aaxis": {
             "endlinecolor": "#2a3f5f",
             "gridcolor": "white",
             "linecolor": "white",
             "minorgridcolor": "white",
             "startlinecolor": "#2a3f5f"
            },
            "baxis": {
             "endlinecolor": "#2a3f5f",
             "gridcolor": "white",
             "linecolor": "white",
             "minorgridcolor": "white",
             "startlinecolor": "#2a3f5f"
            },
            "type": "carpet"
           }
          ],
          "choropleth": [
           {
            "colorbar": {
             "outlinewidth": 0,
             "ticks": ""
            },
            "type": "choropleth"
           }
          ],
          "contour": [
           {
            "colorbar": {
             "outlinewidth": 0,
             "ticks": ""
            },
            "colorscale": [
             [
              0,
              "#0d0887"
             ],
             [
              0.1111111111111111,
              "#46039f"
             ],
             [
              0.2222222222222222,
              "#7201a8"
             ],
             [
              0.3333333333333333,
              "#9c179e"
             ],
             [
              0.4444444444444444,
              "#bd3786"
             ],
             [
              0.5555555555555556,
              "#d8576b"
             ],
             [
              0.6666666666666666,
              "#ed7953"
             ],
             [
              0.7777777777777778,
              "#fb9f3a"
             ],
             [
              0.8888888888888888,
              "#fdca26"
             ],
             [
              1,
              "#f0f921"
             ]
            ],
            "type": "contour"
           }
          ],
          "contourcarpet": [
           {
            "colorbar": {
             "outlinewidth": 0,
             "ticks": ""
            },
            "type": "contourcarpet"
           }
          ],
          "heatmap": [
           {
            "colorbar": {
             "outlinewidth": 0,
             "ticks": ""
            },
            "colorscale": [
             [
              0,
              "#0d0887"
             ],
             [
              0.1111111111111111,
              "#46039f"
             ],
             [
              0.2222222222222222,
              "#7201a8"
             ],
             [
              0.3333333333333333,
              "#9c179e"
             ],
             [
              0.4444444444444444,
              "#bd3786"
             ],
             [
              0.5555555555555556,
              "#d8576b"
             ],
             [
              0.6666666666666666,
              "#ed7953"
             ],
             [
              0.7777777777777778,
              "#fb9f3a"
             ],
             [
              0.8888888888888888,
              "#fdca26"
             ],
             [
              1,
              "#f0f921"
             ]
            ],
            "type": "heatmap"
           }
          ],
          "heatmapgl": [
           {
            "colorbar": {
             "outlinewidth": 0,
             "ticks": ""
            },
            "colorscale": [
             [
              0,
              "#0d0887"
             ],
             [
              0.1111111111111111,
              "#46039f"
             ],
             [
              0.2222222222222222,
              "#7201a8"
             ],
             [
              0.3333333333333333,
              "#9c179e"
             ],
             [
              0.4444444444444444,
              "#bd3786"
             ],
             [
              0.5555555555555556,
              "#d8576b"
             ],
             [
              0.6666666666666666,
              "#ed7953"
             ],
             [
              0.7777777777777778,
              "#fb9f3a"
             ],
             [
              0.8888888888888888,
              "#fdca26"
             ],
             [
              1,
              "#f0f921"
             ]
            ],
            "type": "heatmapgl"
           }
          ],
          "histogram": [
           {
            "marker": {
             "pattern": {
              "fillmode": "overlay",
              "size": 10,
              "solidity": 0.2
             }
            },
            "type": "histogram"
           }
          ],
          "histogram2d": [
           {
            "colorbar": {
             "outlinewidth": 0,
             "ticks": ""
            },
            "colorscale": [
             [
              0,
              "#0d0887"
             ],
             [
              0.1111111111111111,
              "#46039f"
             ],
             [
              0.2222222222222222,
              "#7201a8"
             ],
             [
              0.3333333333333333,
              "#9c179e"
             ],
             [
              0.4444444444444444,
              "#bd3786"
             ],
             [
              0.5555555555555556,
              "#d8576b"
             ],
             [
              0.6666666666666666,
              "#ed7953"
             ],
             [
              0.7777777777777778,
              "#fb9f3a"
             ],
             [
              0.8888888888888888,
              "#fdca26"
             ],
             [
              1,
              "#f0f921"
             ]
            ],
            "type": "histogram2d"
           }
          ],
          "histogram2dcontour": [
           {
            "colorbar": {
             "outlinewidth": 0,
             "ticks": ""
            },
            "colorscale": [
             [
              0,
              "#0d0887"
             ],
             [
              0.1111111111111111,
              "#46039f"
             ],
             [
              0.2222222222222222,
              "#7201a8"
             ],
             [
              0.3333333333333333,
              "#9c179e"
             ],
             [
              0.4444444444444444,
              "#bd3786"
             ],
             [
              0.5555555555555556,
              "#d8576b"
             ],
             [
              0.6666666666666666,
              "#ed7953"
             ],
             [
              0.7777777777777778,
              "#fb9f3a"
             ],
             [
              0.8888888888888888,
              "#fdca26"
             ],
             [
              1,
              "#f0f921"
             ]
            ],
            "type": "histogram2dcontour"
           }
          ],
          "mesh3d": [
           {
            "colorbar": {
             "outlinewidth": 0,
             "ticks": ""
            },
            "type": "mesh3d"
           }
          ],
          "parcoords": [
           {
            "line": {
             "colorbar": {
              "outlinewidth": 0,
              "ticks": ""
             }
            },
            "type": "parcoords"
           }
          ],
          "pie": [
           {
            "automargin": true,
            "type": "pie"
           }
          ],
          "scatter": [
           {
            "fillpattern": {
             "fillmode": "overlay",
             "size": 10,
             "solidity": 0.2
            },
            "type": "scatter"
           }
          ],
          "scatter3d": [
           {
            "line": {
             "colorbar": {
              "outlinewidth": 0,
              "ticks": ""
             }
            },
            "marker": {
             "colorbar": {
              "outlinewidth": 0,
              "ticks": ""
             }
            },
            "type": "scatter3d"
           }
          ],
          "scattercarpet": [
           {
            "marker": {
             "colorbar": {
              "outlinewidth": 0,
              "ticks": ""
             }
            },
            "type": "scattercarpet"
           }
          ],
          "scattergeo": [
           {
            "marker": {
             "colorbar": {
              "outlinewidth": 0,
              "ticks": ""
             }
            },
            "type": "scattergeo"
           }
          ],
          "scattergl": [
           {
            "marker": {
             "colorbar": {
              "outlinewidth": 0,
              "ticks": ""
             }
            },
            "type": "scattergl"
           }
          ],
          "scattermapbox": [
           {
            "marker": {
             "colorbar": {
              "outlinewidth": 0,
              "ticks": ""
             }
            },
            "type": "scattermapbox"
           }
          ],
          "scatterpolar": [
           {
            "marker": {
             "colorbar": {
              "outlinewidth": 0,
              "ticks": ""
             }
            },
            "type": "scatterpolar"
           }
          ],
          "scatterpolargl": [
           {
            "marker": {
             "colorbar": {
              "outlinewidth": 0,
              "ticks": ""
             }
            },
            "type": "scatterpolargl"
           }
          ],
          "scatterternary": [
           {
            "marker": {
             "colorbar": {
              "outlinewidth": 0,
              "ticks": ""
             }
            },
            "type": "scatterternary"
           }
          ],
          "surface": [
           {
            "colorbar": {
             "outlinewidth": 0,
             "ticks": ""
            },
            "colorscale": [
             [
              0,
              "#0d0887"
             ],
             [
              0.1111111111111111,
              "#46039f"
             ],
             [
              0.2222222222222222,
              "#7201a8"
             ],
             [
              0.3333333333333333,
              "#9c179e"
             ],
             [
              0.4444444444444444,
              "#bd3786"
             ],
             [
              0.5555555555555556,
              "#d8576b"
             ],
             [
              0.6666666666666666,
              "#ed7953"
             ],
             [
              0.7777777777777778,
              "#fb9f3a"
             ],
             [
              0.8888888888888888,
              "#fdca26"
             ],
             [
              1,
              "#f0f921"
             ]
            ],
            "type": "surface"
           }
          ],
          "table": [
           {
            "cells": {
             "fill": {
              "color": "#EBF0F8"
             },
             "line": {
              "color": "white"
             }
            },
            "header": {
             "fill": {
              "color": "#C8D4E3"
             },
             "line": {
              "color": "white"
             }
            },
            "type": "table"
           }
          ]
         },
         "layout": {
          "annotationdefaults": {
           "arrowcolor": "#2a3f5f",
           "arrowhead": 0,
           "arrowwidth": 1
          },
          "autotypenumbers": "strict",
          "coloraxis": {
           "colorbar": {
            "outlinewidth": 0,
            "ticks": ""
           }
          },
          "colorscale": {
           "diverging": [
            [
             0,
             "#8e0152"
            ],
            [
             0.1,
             "#c51b7d"
            ],
            [
             0.2,
             "#de77ae"
            ],
            [
             0.3,
             "#f1b6da"
            ],
            [
             0.4,
             "#fde0ef"
            ],
            [
             0.5,
             "#f7f7f7"
            ],
            [
             0.6,
             "#e6f5d0"
            ],
            [
             0.7,
             "#b8e186"
            ],
            [
             0.8,
             "#7fbc41"
            ],
            [
             0.9,
             "#4d9221"
            ],
            [
             1,
             "#276419"
            ]
           ],
           "sequential": [
            [
             0,
             "#0d0887"
            ],
            [
             0.1111111111111111,
             "#46039f"
            ],
            [
             0.2222222222222222,
             "#7201a8"
            ],
            [
             0.3333333333333333,
             "#9c179e"
            ],
            [
             0.4444444444444444,
             "#bd3786"
            ],
            [
             0.5555555555555556,
             "#d8576b"
            ],
            [
             0.6666666666666666,
             "#ed7953"
            ],
            [
             0.7777777777777778,
             "#fb9f3a"
            ],
            [
             0.8888888888888888,
             "#fdca26"
            ],
            [
             1,
             "#f0f921"
            ]
           ],
           "sequentialminus": [
            [
             0,
             "#0d0887"
            ],
            [
             0.1111111111111111,
             "#46039f"
            ],
            [
             0.2222222222222222,
             "#7201a8"
            ],
            [
             0.3333333333333333,
             "#9c179e"
            ],
            [
             0.4444444444444444,
             "#bd3786"
            ],
            [
             0.5555555555555556,
             "#d8576b"
            ],
            [
             0.6666666666666666,
             "#ed7953"
            ],
            [
             0.7777777777777778,
             "#fb9f3a"
            ],
            [
             0.8888888888888888,
             "#fdca26"
            ],
            [
             1,
             "#f0f921"
            ]
           ]
          },
          "colorway": [
           "#636efa",
           "#EF553B",
           "#00cc96",
           "#ab63fa",
           "#FFA15A",
           "#19d3f3",
           "#FF6692",
           "#B6E880",
           "#FF97FF",
           "#FECB52"
          ],
          "font": {
           "color": "#2a3f5f"
          },
          "geo": {
           "bgcolor": "white",
           "lakecolor": "white",
           "landcolor": "#E5ECF6",
           "showlakes": true,
           "showland": true,
           "subunitcolor": "white"
          },
          "hoverlabel": {
           "align": "left"
          },
          "hovermode": "closest",
          "mapbox": {
           "style": "light"
          },
          "paper_bgcolor": "white",
          "plot_bgcolor": "#E5ECF6",
          "polar": {
           "angularaxis": {
            "gridcolor": "white",
            "linecolor": "white",
            "ticks": ""
           },
           "bgcolor": "#E5ECF6",
           "radialaxis": {
            "gridcolor": "white",
            "linecolor": "white",
            "ticks": ""
           }
          },
          "scene": {
           "xaxis": {
            "backgroundcolor": "#E5ECF6",
            "gridcolor": "white",
            "gridwidth": 2,
            "linecolor": "white",
            "showbackground": true,
            "ticks": "",
            "zerolinecolor": "white"
           },
           "yaxis": {
            "backgroundcolor": "#E5ECF6",
            "gridcolor": "white",
            "gridwidth": 2,
            "linecolor": "white",
            "showbackground": true,
            "ticks": "",
            "zerolinecolor": "white"
           },
           "zaxis": {
            "backgroundcolor": "#E5ECF6",
            "gridcolor": "white",
            "gridwidth": 2,
            "linecolor": "white",
            "showbackground": true,
            "ticks": "",
            "zerolinecolor": "white"
           }
          },
          "shapedefaults": {
           "line": {
            "color": "#2a3f5f"
           }
          },
          "ternary": {
           "aaxis": {
            "gridcolor": "white",
            "linecolor": "white",
            "ticks": ""
           },
           "baxis": {
            "gridcolor": "white",
            "linecolor": "white",
            "ticks": ""
           },
           "bgcolor": "#E5ECF6",
           "caxis": {
            "gridcolor": "white",
            "linecolor": "white",
            "ticks": ""
           }
          },
          "title": {
           "x": 0.05
          },
          "xaxis": {
           "automargin": true,
           "gridcolor": "white",
           "linecolor": "white",
           "ticks": "",
           "title": {
            "standoff": 15
           },
           "zerolinecolor": "white",
           "zerolinewidth": 2
          },
          "yaxis": {
           "automargin": true,
           "gridcolor": "white",
           "linecolor": "white",
           "ticks": "",
           "title": {
            "standoff": 15
           },
           "zerolinecolor": "white",
           "zerolinewidth": 2
          }
         }
        },
        "title": {
         "text": "Top 10 Lowest-Grossing Disney Movies"
        },
        "xaxis": {
         "anchor": "y",
         "domain": [
          0,
          1
         ],
         "title": {
          "text": "Movie"
         }
        },
        "yaxis": {
         "anchor": "x",
         "domain": [
          0,
          1
         ],
         "title": {
          "text": "Total Gross"
         }
        }
       }
      }
     },
     "metadata": {},
     "output_type": "display_data"
    }
   ],
   "source": [
    "bottom_10_movies = sorted_movies.tail(10) # Subset only bottom 10 movies\n",
    "\n",
    "fig = px.bar(bottom_10_movies, x='movie_title', y='total_gross', title=\"Top 10 Lowest-Grossing Disney Movies\")\n",
    "\n",
    "# Update axis titles\n",
    "fig.update_layout(\n",
    "    xaxis_title=\"Movie\",\n",
    "    yaxis_title=\"Total Gross\",\n",
    "    showlegend=False\n",
    ")\n",
    "\n",
    "# Change the color of the first bar\n",
    "colors = ['lightblue'] * (len(genre_disney) - 1) + ['royalblue']\n",
    "fig.update_traces(marker_color=colors)\n",
    "\n",
    "fig.show()"
   ]
  },
  {
   "cell_type": "markdown",
   "metadata": {},
   "source": [
    "No information can be found on the total gross of the bottom 4 movies, likely because they did not perform notably at the box office, and their total gross are not widely documented."
   ]
  },
  {
   "cell_type": "code",
   "execution_count": 139,
   "metadata": {},
   "outputs": [
    {
     "data": {
      "application/vnd.plotly.v1+json": {
       "config": {
        "plotlyServerURL": "https://plot.ly"
       },
       "data": [
        {
         "hovertemplate": "genre=Musical<br>release_date=%{x}<br>total_gross=%{y}<extra></extra>",
         "legendgroup": "Musical",
         "marker": {
          "color": "#636efa",
          "symbol": "circle"
         },
         "mode": "markers",
         "name": "Musical",
         "orientation": "v",
         "showlegend": true,
         "type": "scatter",
         "x": [
          "1937-12-21T00:00:00",
          "1940-11-13T00:00:00",
          "1961-12-14T00:00:00",
          "1967-10-18T00:00:00",
          "1970-04-24T00:00:00",
          "1971-10-07T00:00:00",
          "1991-11-13T00:00:00",
          "1993-03-05T00:00:00",
          "1993-10-13T00:00:00",
          "1996-12-25T00:00:00",
          "2000-01-01T00:00:00",
          "2000-06-16T00:00:00",
          "2002-01-01T00:00:00",
          "2006-10-20T00:00:00",
          "2008-10-24T00:00:00",
          "2014-12-25T00:00:00"
         ],
         "xaxis": "x",
         "y": [
          184925485,
          83320000,
          10218316,
          141843000,
          55675257,
          17871174,
          218951625,
          5632086,
          50408318,
          50047179,
          60507228,
          9103630,
          25487028,
          24732041,
          90559416,
          128002372
         ],
         "yaxis": "y"
        },
        {
         "hovertemplate": "genre=Adventure<br>release_date=%{x}<br>total_gross=%{y}<extra></extra>",
         "legendgroup": "Adventure",
         "marker": {
          "color": "#EF553B",
          "symbol": "circle"
         },
         "mode": "markers",
         "name": "Adventure",
         "orientation": "v",
         "showlegend": true,
         "type": "scatter",
         "x": [
          "1940-02-09T00:00:00",
          "1946-11-12T00:00:00",
          "1954-12-23T00:00:00",
          "1963-12-25T00:00:00",
          "1977-06-22T00:00:00",
          "1985-03-22T00:00:00",
          "1985-06-21T00:00:00",
          "1985-07-24T00:00:00",
          "1986-07-02T00:00:00",
          "1986-07-30T00:00:00",
          "1987-06-05T00:00:00",
          "1988-04-15T00:00:00",
          "1988-11-18T00:00:00",
          "1989-06-23T00:00:00",
          "1989-08-18T00:00:00",
          "1989-11-15T00:00:00",
          "1990-08-03T00:00:00",
          "1990-11-16T00:00:00",
          "1991-01-18T00:00:00",
          "1991-03-01T00:00:00",
          "1992-10-09T00:00:00",
          "1993-01-15T00:00:00",
          "1993-02-03T00:00:00",
          "1993-03-12T00:00:00",
          "1993-04-02T00:00:00",
          "1993-11-12T00:00:00",
          "1994-04-15T00:00:00",
          "1994-06-15T00:00:00",
          "1994-12-25T00:00:00",
          "1995-06-10T00:00:00",
          "1995-07-28T00:00:00",
          "1995-08-11T00:00:00",
          "1995-11-22T00:00:00",
          "1995-12-22T00:00:00",
          "1996-02-02T00:00:00",
          "1996-02-16T00:00:00",
          "1996-03-08T00:00:00",
          "1996-04-12T00:00:00",
          "1996-06-21T00:00:00",
          "1997-06-13T00:00:00",
          "1998-06-19T00:00:00",
          "1998-07-01T00:00:00",
          "1998-11-20T00:00:00",
          "1998-12-25T00:00:00",
          "1999-03-26T00:00:00",
          "1999-06-16T00:00:00",
          "1999-11-19T00:00:00",
          "2000-02-11T00:00:00",
          "2000-03-10T00:00:00",
          "2000-05-19T00:00:00",
          "2000-12-15T00:00:00",
          "2001-06-08T00:00:00",
          "2001-11-02T00:00:00",
          "2002-02-15T00:00:00",
          "2002-06-21T00:00:00",
          "2002-07-26T00:00:00",
          "2002-09-20T00:00:00",
          "2002-11-27T00:00:00",
          "2003-02-07T00:00:00",
          "2003-02-14T00:00:00",
          "2003-05-30T00:00:00",
          "2003-07-09T00:00:00",
          "2003-10-24T00:00:00",
          "2003-12-25T00:00:00",
          "2004-06-16T00:00:00",
          "2004-07-07T00:00:00",
          "2004-11-05T00:00:00",
          "2004-11-19T00:00:00",
          "2005-02-11T00:00:00",
          "2005-06-10T00:00:00",
          "2005-07-29T00:00:00",
          "2005-08-19T00:00:00",
          "2005-11-04T00:00:00",
          "2005-12-09T00:00:00",
          "2006-02-17T00:00:00",
          "2006-04-14T00:00:00",
          "2006-07-07T00:00:00",
          "2006-12-08T00:00:00",
          "2007-01-12T00:00:00",
          "2007-03-30T00:00:00",
          "2007-05-24T00:00:00",
          "2007-08-03T00:00:00",
          "2007-12-21T00:00:00",
          "2008-05-16T00:00:00",
          "2008-06-27T00:00:00",
          "2009-03-13T00:00:00",
          "2009-05-29T00:00:00",
          "2009-07-24T00:00:00",
          "2009-08-14T00:00:00",
          "2009-10-02T00:00:00",
          "2009-11-25T00:00:00",
          "2010-03-05T00:00:00",
          "2010-06-18T00:00:00",
          "2010-07-14T00:00:00",
          "2010-08-13T00:00:00",
          "2010-11-24T00:00:00",
          "2010-12-17T00:00:00",
          "2011-02-18T00:00:00",
          "2011-03-11T00:00:00",
          "2011-04-22T00:00:00",
          "2011-05-20T00:00:00",
          "2011-06-24T00:00:00",
          "2011-07-15T00:00:00",
          "2012-02-17T00:00:00",
          "2012-03-09T00:00:00",
          "2012-06-22T00:00:00",
          "2012-11-02T00:00:00",
          "2013-03-08T00:00:00",
          "2013-06-21T00:00:00",
          "2013-11-08T00:00:00",
          "2013-11-22T00:00:00",
          "2014-05-30T00:00:00",
          "2014-07-18T00:00:00",
          "2014-08-01T00:00:00",
          "2014-11-07T00:00:00",
          "2015-01-23T00:00:00",
          "2015-05-22T00:00:00",
          "2015-06-19T00:00:00",
          "2015-11-25T00:00:00",
          "2015-12-18T00:00:00",
          "2016-03-04T00:00:00",
          "2016-04-15T00:00:00",
          "2016-05-27T00:00:00",
          "2016-06-17T00:00:00",
          "2016-07-01T00:00:00",
          "2016-08-12T00:00:00",
          "2016-11-04T00:00:00",
          "2016-11-23T00:00:00",
          "2016-12-16T00:00:00"
         ],
         "xaxis": "x",
         "y": [
          84300000,
          65000000,
          28200000,
          22182353,
          48775599,
          14276095,
          10618813,
          21288692,
          23605534,
          18564613,
          15212539,
          13687027,
          49576671,
          130724172,
          7882250,
          111543479,
          18075331,
          27931461,
          34729091,
          15024232,
          7099531,
          36299670,
          41833324,
          12890752,
          24103594,
          53661805,
          8752399,
          422780140,
          44342956,
          141579773,
          24670346,
          13406717,
          191796233,
          23837227,
          10229300,
          34327391,
          32709423,
          28921264,
          100138851,
          99112101,
          120620254,
          201578182,
          162798565,
          50632037,
          19421271,
          171091819,
          245852179,
          45542421,
          60874615,
          137748063,
          89296573,
          84052762,
          289423425,
          48430258,
          145771527,
          16988996,
          10049886,
          38120554,
          60470220,
          47901582,
          380529370,
          305411224,
          85336277,
          6751389,
          24004159,
          51877963,
          261441092,
          173005002,
          18098433,
          4710455,
          63939454,
          19478106,
          135386665,
          291710957,
          81612565,
          37384046,
          423315812,
          50866635,
          10597734,
          97822171,
          309420425,
          43760605,
          219961501,
          141621490,
          223808164,
          67172594,
          293004164,
          119436770,
          15090399,
          30702446,
          104400899,
          334191110,
          415004880,
          63150991,
          48658,
          200821936,
          172062763,
          55100437,
          21392758,
          2815,
          241063875,
          191450875,
          26692846,
          19192510,
          73058679,
          237282182,
          189412677,
          234770996,
          268488329,
          206362140,
          400738009,
          241407328,
          59157732,
          333172112,
          222527828,
          12429583,
          93436322,
          356461711,
          123087120,
          936662225,
          341268248,
          364001123,
          77042381,
          486295561,
          55483770,
          76233151,
          232532923,
          246082029,
          529483936
         ],
         "yaxis": "y"
        },
        {
         "hovertemplate": "genre=Drama<br>release_date=%{x}<br>total_gross=%{y}<extra></extra>",
         "legendgroup": "Drama",
         "marker": {
          "color": "#00cc96",
          "symbol": "circle"
         },
         "mode": "markers",
         "name": "Drama",
         "orientation": "v",
         "showlegend": true,
         "type": "scatter",
         "x": [
          "1950-02-15T00:00:00",
          "1955-06-22T00:00:00",
          "1959-01-29T00:00:00",
          "1981-03-20T00:00:00",
          "1982-02-05T00:00:00",
          "1982-11-19T00:00:00",
          "1983-10-07T00:00:00",
          "1983-11-04T00:00:00",
          "1984-09-29T00:00:00",
          "1985-09-27T00:00:00",
          "1985-11-22T00:00:00",
          "1986-10-17T00:00:00",
          "1988-07-29T00:00:00",
          "1988-11-04T00:00:00",
          "1988-12-21T00:00:00",
          "1989-03-01T00:00:00",
          "1989-06-02T00:00:00",
          "1989-10-06T00:00:00",
          "1989-10-20T00:00:00",
          "1989-12-13T00:00:00",
          "1990-02-02T00:00:00",
          "1991-05-24T00:00:00",
          "1991-07-24T00:00:00",
          "1991-09-18T00:00:00",
          "1991-11-01T00:00:00",
          "1992-02-07T00:00:00",
          "1992-07-17T00:00:00",
          "1992-09-18T00:00:00",
          "1992-10-16T00:00:00",
          "1993-06-09T00:00:00",
          "1993-09-08T00:00:00",
          "1994-01-14T00:00:00",
          "1994-04-29T00:00:00",
          "1994-09-02T00:00:00",
          "1994-09-14T00:00:00",
          "1994-10-28T00:00:00",
          "1995-03-31T00:00:00",
          "1995-05-26T00:00:00",
          "1995-08-11T00:00:00",
          "1995-09-15T00:00:00",
          "1995-10-04T00:00:00",
          "1995-10-13T00:00:00",
          "1995-10-13T00:00:00",
          "1995-10-27T00:00:00",
          "1995-12-20T00:00:00",
          "1995-12-29T00:00:00",
          "1996-02-23T00:00:00",
          "1996-03-01T00:00:00",
          "1996-05-03T00:00:00",
          "1996-05-10T00:00:00",
          "1996-07-05T00:00:00",
          "1996-08-09T00:00:00",
          "1996-12-13T00:00:00",
          "1997-01-24T00:00:00",
          "1997-08-22T00:00:00",
          "1997-09-19T00:00:00",
          "1997-10-05T00:00:00",
          "1997-12-25T00:00:00",
          "1998-05-01T00:00:00",
          "1998-05-15T00:00:00",
          "1998-09-04T00:00:00",
          "1998-09-11T00:00:00",
          "1998-10-16T00:00:00",
          "1998-12-25T00:00:00",
          "1999-06-04T00:00:00",
          "1999-07-02T00:00:00",
          "1999-10-15T00:00:00",
          "1999-11-05T00:00:00",
          "1999-12-08T00:00:00",
          "1999-12-17T00:00:00",
          "2000-08-04T00:00:00",
          "2000-09-15T00:00:00",
          "2000-09-29T00:00:00",
          "2001-06-29T00:00:00",
          "2002-01-25T00:00:00",
          "2002-03-29T00:00:00",
          "2002-09-27T00:00:00",
          "2002-10-11T00:00:00",
          "2002-12-19T00:00:00",
          "2003-04-18T00:00:00",
          "2003-10-17T00:00:00",
          "2004-02-06T00:00:00",
          "2005-09-30T00:00:00",
          "2005-10-21T00:00:00",
          "2005-12-25T00:00:00",
          "2006-01-13T00:00:00",
          "2006-01-27T00:00:00",
          "2006-05-12T00:00:00",
          "2006-08-11T00:00:00",
          "2006-08-25T00:00:00",
          "2007-02-16T00:00:00",
          "2007-03-30T00:00:00",
          "2007-04-06T00:00:00",
          "2008-02-14T00:00:00",
          "2008-08-29T00:00:00",
          "2008-09-26T00:00:00",
          "2009-04-10T00:00:00",
          "2009-11-06T00:00:00",
          "2010-03-31T00:00:00",
          "2010-08-06T00:00:00",
          "2010-10-08T00:00:00",
          "2011-08-10T00:00:00",
          "2011-12-25T00:00:00",
          "2012-06-29T00:00:00",
          "2012-08-15T00:00:00",
          "2012-11-09T00:00:00",
          "2013-10-18T00:00:00",
          "2013-11-08T00:00:00",
          "2013-12-13T00:00:00",
          "2014-05-10T00:00:00",
          "2015-02-20T00:00:00",
          "2015-03-13T00:00:00",
          "2016-09-02T00:00:00",
          "2016-09-23T00:00:00"
         ],
         "xaxis": "x",
         "y": [
          85000000,
          93600000,
          9464608,
          0,
          4500000,
          7199408,
          27668764,
          1204595,
          8400000,
          9468512,
          13229514,
          52293000,
          78222753,
          4764606,
          57041866,
          10763469,
          95860116,
          19397847,
          11346186,
          19049727,
          20062347,
          7300000,
          37497480,
          18634643,
          15565363,
          44948240,
          12282994,
          7306242,
          21591728,
          39100956,
          32790064,
          20623071,
          50021959,
          3404935,
          24787282,
          3319344,
          2461628,
          15446532,
          84919401,
          7929000,
          24120194,
          10359006,
          293274,
          30833914,
          13668249,
          82582604,
          8642118,
          51045801,
          5857534,
          21930418,
          104636382,
          58617334,
          48102795,
          590817,
          48169156,
          7928412,
          1775644,
          5686694,
          21567853,
          75383563,
          784419,
          18253415,
          22852487,
          56709981,
          34105207,
          19288130,
          6197866,
          28965197,
          2899970,
          58220776,
          60786269,
          4734235,
          115654751,
          16929123,
          54228104,
          75600072,
          6830957,
          19161999,
          13084595,
          67383924,
          1569918,
          64378093,
          15331289,
          10284523,
          11304403,
          42647449,
          17127992,
          4283255,
          65328121,
          57806952,
          82234139,
          4600585,
          7164995,
          58017783,
          225067,
          7916887,
          79576189,
          137855863,
          62950384,
          42400223,
          59699513,
          169705587,
          79883359,
          12431792,
          51853450,
          182207973,
          3254172,
          5201879,
          83299761,
          36447959,
          44480275,
          201151353,
          12545979,
          8874389
         ],
         "yaxis": "y"
        },
        {
         "hovertemplate": "genre=Comedy<br>release_date=%{x}<br>total_gross=%{y}<extra></extra>",
         "legendgroup": "Comedy",
         "marker": {
          "color": "#ab63fa",
          "symbol": "circle"
         },
         "mode": "markers",
         "name": "Comedy",
         "orientation": "v",
         "showlegend": true,
         "type": "scatter",
         "x": [
          "1961-01-25T00:00:00",
          "1961-03-16T00:00:00",
          "1962-05-17T00:00:00",
          "1968-02-08T00:00:00",
          "1970-07-01T00:00:00",
          "1975-07-01T00:00:00",
          "1977-01-21T00:00:00",
          "1981-07-10T00:00:00",
          "1983-03-11T00:00:00",
          "1984-03-09T00:00:00",
          "1985-08-09T00:00:00",
          "1986-01-31T00:00:00",
          "1986-04-11T00:00:00",
          "1986-06-27T00:00:00",
          "1986-10-03T00:00:00",
          "1987-01-30T00:00:00",
          "1987-03-06T00:00:00",
          "1987-05-22T00:00:00",
          "1987-07-03T00:00:00",
          "1987-08-05T00:00:00",
          "1987-11-06T00:00:00",
          "1987-11-25T00:00:00",
          "1987-12-23T00:00:00",
          "1988-06-10T00:00:00",
          "1988-06-22T00:00:00",
          "1988-09-30T00:00:00",
          "1988-11-11T00:00:00",
          "1989-01-27T00:00:00",
          "1989-04-14T00:00:00",
          "1989-07-28T00:00:00",
          "1990-02-23T00:00:00",
          "1990-04-06T00:00:00",
          "1990-04-27T00:00:00",
          "1990-06-22T00:00:00",
          "1990-08-17T00:00:00",
          "1990-10-12T00:00:00",
          "1990-11-21T00:00:00",
          "1991-02-22T00:00:00",
          "1991-04-26T00:00:00",
          "1991-05-17T00:00:00",
          "1991-10-11T00:00:00",
          "1991-12-20T00:00:00",
          "1992-03-06T00:00:00",
          "1992-03-20T00:00:00",
          "1992-04-03T00:00:00",
          "1992-05-22T00:00:00",
          "1992-05-29T00:00:00",
          "1992-07-17T00:00:00",
          "1992-09-18T00:00:00",
          "1992-10-02T00:00:00",
          "1992-11-11T00:00:00",
          "1992-12-04T00:00:00",
          "1992-12-11T00:00:00",
          "1993-02-03T00:00:00",
          "1993-04-23T00:00:00",
          "1993-06-04T00:00:00",
          "1993-07-02T00:00:00",
          "1993-07-16T00:00:00",
          "1993-07-23T00:00:00",
          "1993-09-10T00:00:00",
          "1993-10-01T00:00:00",
          "1993-12-10T00:00:00",
          "1994-01-07T00:00:00",
          "1994-01-07T00:00:00",
          "1994-02-11T00:00:00",
          "1994-03-04T00:00:00",
          "1994-03-09T00:00:00",
          "1994-03-25T00:00:00",
          "1994-04-08T00:00:00",
          "1994-04-22T00:00:00",
          "1994-06-03T00:00:00",
          "1994-07-15T00:00:00",
          "1994-08-12T00:00:00",
          "1994-08-26T00:00:00",
          "1994-08-26T00:00:00",
          "1994-09-30T00:00:00",
          "1994-11-11T00:00:00",
          "1995-01-06T00:00:00",
          "1995-02-03T00:00:00",
          "1995-02-17T00:00:00",
          "1995-03-03T00:00:00",
          "1995-03-03T00:00:00",
          "1995-03-31T00:00:00",
          "1995-04-07T00:00:00",
          "1995-09-29T00:00:00",
          "1995-12-08T00:00:00",
          "1996-03-22T00:00:00",
          "1996-04-19T00:00:00",
          "1996-05-24T00:00:00",
          "1996-05-31T00:00:00",
          "1996-07-17T00:00:00",
          "1996-08-30T00:00:00",
          "1996-10-04T00:00:00",
          "1996-10-25T00:00:00",
          "1996-11-27T00:00:00",
          "1997-02-14T00:00:00",
          "1997-03-07T00:00:00",
          "1997-03-28T00:00:00",
          "1997-04-25T00:00:00",
          "1997-05-30T00:00:00",
          "1997-07-16T00:00:00",
          "1997-07-18T00:00:00",
          "1997-08-01T00:00:00",
          "1997-10-10T00:00:00",
          "1997-11-26T00:00:00",
          "1997-12-25T00:00:00",
          "1998-02-27T00:00:00",
          "1998-02-27T00:00:00",
          "1998-03-27T00:00:00",
          "1998-07-24T00:00:00",
          "1998-07-29T00:00:00",
          "1998-10-09T00:00:00",
          "1998-11-06T00:00:00",
          "1998-11-13T00:00:00",
          "1999-02-12T00:00:00",
          "1999-07-23T00:00:00",
          "1999-09-17T00:00:00",
          "1999-09-24T00:00:00",
          "1999-10-01T00:00:00",
          "1999-12-10T00:00:00",
          "1999-12-24T00:00:00",
          "2000-02-04T00:00:00",
          "2000-03-31T00:00:00",
          "2000-07-07T00:00:00",
          "2000-08-25T00:00:00",
          "2000-11-22T00:00:00",
          "2000-12-22T00:00:00",
          "2001-02-16T00:00:00",
          "2001-04-06T00:00:00",
          "2001-08-03T00:00:00",
          "2001-08-24T00:00:00",
          "2001-10-05T00:00:00",
          "2001-10-12T00:00:00",
          "2001-11-21T00:00:00",
          "2002-01-18T00:00:00",
          "2002-03-22T00:00:00",
          "2002-04-05T00:00:00",
          "2002-09-27T00:00:00",
          "2002-11-01T00:00:00",
          "2002-12-13T00:00:00",
          "2003-03-07T00:00:00",
          "2003-03-21T00:00:00",
          "2003-05-02T00:00:00",
          "2003-08-06T00:00:00",
          "2003-09-26T00:00:00",
          "2003-11-26T00:00:00",
          "2003-12-19T00:00:00",
          "2004-01-16T00:00:00",
          "2004-02-20T00:00:00",
          "2004-03-26T00:00:00",
          "2004-04-02T00:00:00",
          "2004-05-28T00:00:00",
          "2004-09-17T00:00:00",
          "2004-09-24T00:00:00",
          "2004-12-10T00:00:00",
          "2005-03-04T00:00:00",
          "2005-03-18T00:00:00",
          "2005-04-22T00:00:00",
          "2005-04-29T00:00:00",
          "2005-06-22T00:00:00",
          "2006-03-10T00:00:00",
          "2006-04-28T00:00:00",
          "2006-06-09T00:00:00",
          "2006-11-03T00:00:00",
          "2007-03-02T00:00:00",
          "2007-06-29T00:00:00",
          "2007-09-22T00:00:00",
          "2008-03-07T00:00:00",
          "2008-08-01T00:00:00",
          "2008-10-03T00:00:00",
          "2008-11-21T00:00:00",
          "2008-12-25T00:00:00",
          "2009-11-25T00:00:00",
          "2010-09-24T00:00:00",
          "2011-02-11T00:00:00",
          "2011-04-29T00:00:00",
          "2011-11-23T00:00:00",
          "2012-10-05T00:00:00",
          "2013-08-09T00:00:00",
          "2013-11-22T00:00:00",
          "2014-03-21T00:00:00",
          "2014-10-10T00:00:00"
         ],
         "xaxis": "x",
         "y": [
          153000000,
          25381407,
          9230769,
          21540050,
          18607492,
          31916500,
          25942000,
          43899231,
          4304286,
          62599495,
          4100000,
          62134225,
          4842778,
          71624879,
          21458229,
          52864741,
          25411386,
          23509382,
          33790923,
          65673233,
          20419446,
          167780960,
          123922370,
          40150487,
          154112492,
          5509417,
          28202109,
          40590000,
          7210149,
          71079915,
          1106475,
          25029569,
          15000000,
          19740070,
          20005435,
          15379253,
          71609321,
          9563393,
          23562716,
          63710000,
          14143280,
          89325780,
          2891055,
          2280148,
          21202099,
          40057130,
          139605150,
          58662452,
          22518097,
          50752337,
          217350219,
          46434570,
          27281507,
          5583621,
          14717851,
          12349549,
          25989889,
          39360491,
          20107504,
          1044824,
          68856263,
          57319029,
          20782439,
          3469493,
          30573770,
          9252349,
          11325885,
          45604206,
          713234,
          8864699,
          24172899,
          50236831,
          28881266,
          10442641,
          60822,
          5828466,
          144833357,
          26325256,
          7555256,
          17671310,
          40029009,
          12076989,
          529135,
          35336439,
          17736619,
          76578911,
          1029731,
          9240378,
          26936265,
          31369401,
          18880508,
          26465920,
          22936273,
          12772657,
          136189294,
          18301828,
          59925026,
          14765099,
          29235353,
          19745922,
          105263257,
          44480039,
          24646936,
          15448043,
          92993801,
          21437192,
          7571115,
          45779,
          4356126,
          19843795,
          66308518,
          12069719,
          161491646,
          12214338,
          36850101,
          97387965,
          178287,
          4559569,
          8891623,
          65535067,
          8427204,
          1638202,
          27277055,
          69688384,
          13019253,
          66941559,
          45506619,
          36696761,
          4777007,
          108244774,
          5002310,
          17292381,
          23978402,
          13906394,
          81150692,
          10198766,
          7262288,
          127214072,
          139225854,
          35081550,
          132675402,
          23103423,
          42734455,
          110222438,
          43601508,
          75817994,
          31011616,
          6491969,
          29331068,
          39692139,
          50026353,
          37485528,
          21800302,
          463730,
          24006726,
          113006880,
          24381334,
          21835784,
          51019112,
          66010682,
          61123569,
          26910736,
          244082982,
          84500122,
          168213584,
          206445654,
          90648202,
          45610425,
          16289867,
          94514402,
          114053759,
          110101975,
          49492060,
          25702053,
          99967670,
          10130219,
          88625922,
          35287788,
          90282580,
          30659817,
          51178893,
          66954149
         ],
         "yaxis": "y"
        },
        {
         "hovertemplate": "genre=NaN<br>release_date=%{x}<br>total_gross=%{y}<extra></extra>",
         "legendgroup": "NaN",
         "marker": {
          "color": "#FFA15A",
          "symbol": "circle"
         },
         "mode": "markers",
         "name": "NaN",
         "orientation": "v",
         "showlegend": true,
         "type": "scatter",
         "x": [
          "1977-03-11T00:00:00",
          "1977-06-24T00:00:00",
          "1979-12-21T00:00:00",
          "1980-02-08T00:00:00",
          "1980-06-25T00:00:00",
          "1981-01-01T00:00:00",
          "1992-04-08T00:00:00",
          "1992-04-24T00:00:00",
          "1992-08-21T00:00:00",
          "1993-04-16T00:00:00",
          "1993-08-06T00:00:00",
          "1993-08-27T00:00:00",
          "1994-01-28T00:00:00",
          "1996-11-20T00:00:00",
          "1999-05-14T00:00:00",
          "2001-10-26T00:00:00",
          "2002-01-01T00:00:00"
         ],
         "xaxis": "x",
         "y": [
          0,
          28000000,
          35841901,
          2900000,
          11000000,
          16000000,
          2706352,
          4030793,
          3591460,
          4496583,
          3218882,
          3268203,
          2502551,
          34368,
          229128,
          226792,
          0
         ],
         "yaxis": "y"
        },
        {
         "hovertemplate": "genre=Action<br>release_date=%{x}<br>total_gross=%{y}<extra></extra>",
         "legendgroup": "Action",
         "marker": {
          "color": "#19d3f3",
          "symbol": "circle"
         },
         "mode": "markers",
         "name": "Action",
         "orientation": "v",
         "showlegend": true,
         "type": "scatter",
         "x": [
          "1981-08-07T00:00:00",
          "1982-07-09T00:00:00",
          "1988-02-12T00:00:00",
          "1988-08-05T00:00:00",
          "1990-05-24T00:00:00",
          "1990-06-15T00:00:00",
          "1991-05-03T00:00:00",
          "1991-06-21T00:00:00",
          "1992-08-07T00:00:00",
          "1993-05-28T00:00:00",
          "1993-09-24T00:00:00",
          "1994-05-06T00:00:00",
          "1994-09-23T00:00:00",
          "1994-11-23T00:00:00",
          "1995-05-12T00:00:00",
          "1995-06-30T00:00:00",
          "1996-06-07T00:00:00",
          "1996-11-08T00:00:00",
          "1997-01-17T00:00:00",
          "1997-06-06T00:00:00",
          "1998-01-30T00:00:00",
          "1998-11-20T00:00:00",
          "1999-08-27T00:00:00",
          "2000-06-09T00:00:00",
          "2001-01-12T00:00:00",
          "2001-05-25T00:00:00",
          "2002-02-19T00:00:00",
          "2002-06-07T00:00:00",
          "2004-10-01T00:00:00",
          "2006-09-29T00:00:00",
          "2009-09-25T00:00:00",
          "2010-05-28T00:00:00",
          "2011-10-07T00:00:00",
          "2012-05-04T00:00:00",
          "2013-05-03T00:00:00",
          "2014-03-14T00:00:00",
          "2014-04-04T00:00:00",
          "2015-05-01T00:00:00",
          "2015-07-17T00:00:00",
          "2016-05-06T00:00:00"
         ],
         "xaxis": "x",
         "y": [
          0,
          26918576,
          29300000,
          5855392,
          14760451,
          103738726,
          11276846,
          46573027,
          29028000,
          20844907,
          23042200,
          11744960,
          16478900,
          29317886,
          91387195,
          34687912,
          134069511,
          136492681,
          32017895,
          101117573,
          11203026,
          111549836,
          32698899,
          101643008,
          29823162,
          198539855,
          43061982,
          30157016,
          74541707,
          55011732,
          38577772,
          90759676,
          85463309,
          623279547,
          408992272,
          43568507,
          259746958,
          459005868,
          180202163,
          408084349
         ],
         "yaxis": "y"
        },
        {
         "hovertemplate": "genre=Horror<br>release_date=%{x}<br>total_gross=%{y}<extra></extra>",
         "legendgroup": "Horror",
         "marker": {
          "color": "#FF6692",
          "symbol": "circle"
         },
         "mode": "markers",
         "name": "Horror",
         "orientation": "v",
         "showlegend": true,
         "type": "scatter",
         "x": [
          "1983-04-29T00:00:00",
          "1992-09-25T00:00:00",
          "1994-10-21T00:00:00",
          "1997-12-25T00:00:00",
          "2006-03-24T00:00:00",
          "2011-08-19T00:00:00"
         ],
         "xaxis": "x",
         "y": [
          5656087,
          4877567,
          8579626,
          26570463,
          23086480,
          18298649
         ],
         "yaxis": "y"
        },
        {
         "hovertemplate": "genre=Romantic Comedy<br>release_date=%{x}<br>total_gross=%{y}<extra></extra>",
         "legendgroup": "Romantic Comedy",
         "marker": {
          "color": "#B6E880",
          "symbol": "circle"
         },
         "mode": "markers",
         "name": "Romantic Comedy",
         "orientation": "v",
         "showlegend": true,
         "type": "scatter",
         "x": [
          "1987-08-14T00:00:00",
          "1990-03-23T00:00:00",
          "1990-12-25T00:00:00",
          "1991-04-05T00:00:00",
          "1993-01-22T00:00:00",
          "1993-03-26T00:00:00",
          "1994-06-29T00:00:00",
          "1995-01-27T00:00:00",
          "1995-03-28T00:00:00",
          "1995-04-21T00:00:00",
          "1996-02-16T00:00:00",
          "1996-03-15T00:00:00",
          "1998-06-12T00:00:00",
          "1999-02-26T00:00:00",
          "1999-03-31T00:00:00",
          "2000-04-14T00:00:00",
          "2004-08-11T00:00:00",
          "2007-10-20T00:00:00",
          "2007-11-21T00:00:00",
          "2009-02-13T00:00:00",
          "2009-06-19T00:00:00",
          "2010-01-29T00:00:00",
          "2014-08-08T00:00:00"
         ],
         "xaxis": "x",
         "y": [
          31623833,
          178406268,
          29804169,
          12454768,
          7843388,
          17760754,
          30806194,
          5086578,
          468240,
          81057016,
          12805071,
          1078555,
          74339294,
          27807627,
          38177966,
          37036404,
          95149435,
          47642963,
          127706877,
          44277350,
          163958031,
          32680633,
          54235441
         ],
         "yaxis": "y"
        },
        {
         "hovertemplate": "genre=Thriller/Suspense<br>release_date=%{x}<br>total_gross=%{y}<extra></extra>",
         "legendgroup": "Thriller/Suspense",
         "marker": {
          "color": "#FF97FF",
          "symbol": "circle"
         },
         "mode": "markers",
         "name": "Thriller/Suspense",
         "orientation": "v",
         "showlegend": true,
         "type": "scatter",
         "x": [
          "1988-03-18T00:00:00",
          "1990-07-18T00:00:00",
          "1991-09-27T00:00:00",
          "1992-01-10T00:00:00",
          "1993-06-04T00:00:00",
          "1994-08-19T00:00:00",
          "1995-01-20T00:00:00",
          "1995-09-08T00:00:00",
          "1996-09-13T00:00:00",
          "1997-01-31T00:00:00",
          "1997-10-17T00:00:00",
          "1999-08-06T00:00:00",
          "2000-11-22T00:00:00",
          "2002-08-02T00:00:00",
          "2003-01-31T00:00:00",
          "2003-09-19T00:00:00",
          "2004-07-30T00:00:00",
          "2005-07-08T00:00:00",
          "2005-09-23T00:00:00",
          "2006-10-20T00:00:00",
          "2006-11-22T00:00:00",
          "2007-04-27T00:00:00",
          "2015-10-16T00:00:00",
          "2016-01-29T00:00:00"
         ],
         "xaxis": "x",
         "y": [
          12706478,
          53208180,
          28738096,
          88036683,
          22622537,
          19750470,
          3523909,
          5762795,
          8538318,
          2154540,
          4166918,
          293506292,
          94999143,
          227965690,
          52784696,
          21384035,
          114197520,
          25473093,
          89706988,
          53089891,
          64038616,
          20568319,
          72313754,
          27569558
         ],
         "yaxis": "y"
        },
        {
         "hovertemplate": "genre=Western<br>release_date=%{x}<br>total_gross=%{y}<extra></extra>",
         "legendgroup": "Western",
         "marker": {
          "color": "#FECB52",
          "symbol": "circle"
         },
         "mode": "markers",
         "name": "Western",
         "orientation": "v",
         "showlegend": true,
         "type": "scatter",
         "x": [
          "1993-12-25T00:00:00",
          "1995-03-24T00:00:00",
          "2000-05-26T00:00:00",
          "2003-08-15T00:00:00",
          "2004-03-05T00:00:00",
          "2004-04-09T00:00:00",
          "2013-07-02T00:00:00"
         ],
         "xaxis": "x",
         "y": [
          56505065,
          8247627,
          56932305,
          58331254,
          67286731,
          22406362,
          89302115
         ],
         "yaxis": "y"
        },
        {
         "hovertemplate": "genre=Black Comedy<br>release_date=%{x}<br>total_gross=%{y}<extra></extra>",
         "legendgroup": "Black Comedy",
         "marker": {
          "color": "#636efa",
          "symbol": "circle"
         },
         "mode": "markers",
         "name": "Black Comedy",
         "orientation": "v",
         "showlegend": true,
         "type": "scatter",
         "x": [
          "1997-04-11T00:00:00",
          "1998-12-11T00:00:00",
          "2001-12-14T00:00:00"
         ],
         "xaxis": "x",
         "y": [
          28084357,
          17105219,
          52353636
         ],
         "yaxis": "y"
        },
        {
         "hovertemplate": "genre=Documentary<br>release_date=%{x}<br>total_gross=%{y}<extra></extra>",
         "legendgroup": "Documentary",
         "marker": {
          "color": "#EF553B",
          "symbol": "circle"
         },
         "mode": "markers",
         "name": "Documentary",
         "orientation": "v",
         "showlegend": true,
         "type": "scatter",
         "x": [
          "2002-05-10T00:00:00",
          "2003-04-11T00:00:00",
          "2004-07-02T00:00:00",
          "2005-01-28T00:00:00",
          "2006-01-27T00:00:00",
          "2008-10-17T00:00:00",
          "2009-04-22T00:00:00",
          "2009-08-21T00:00:00",
          "2009-09-10T00:00:00",
          "2010-03-26T00:00:00",
          "2010-04-22T00:00:00",
          "2011-04-22T00:00:00",
          "2012-04-20T00:00:00",
          "2014-04-18T00:00:00",
          "2015-04-17T00:00:00",
          "2016-04-29T00:00:00"
         ],
         "xaxis": "x",
         "y": [
          4197175,
          17093668,
          314000,
          8968684,
          10407978,
          275093,
          32011576,
          1391434,
          20521,
          80741,
          19422319,
          15428747,
          28965459,
          17780194,
          16432322,
          7895708
         ],
         "yaxis": "y"
        },
        {
         "hovertemplate": "genre=Concert/Performance<br>release_date=%{x}<br>total_gross=%{y}<extra></extra>",
         "legendgroup": "Concert/Performance",
         "marker": {
          "color": "#00cc96",
          "symbol": "circle"
         },
         "mode": "markers",
         "name": "Concert/Performance",
         "orientation": "v",
         "showlegend": true,
         "type": "scatter",
         "x": [
          "2008-02-01T00:00:00",
          "2009-02-27T00:00:00"
         ],
         "xaxis": "x",
         "y": [
          65281781,
          38174685
         ],
         "yaxis": "y"
        }
       ],
       "layout": {
        "legend": {
         "title": {
          "text": "Movie Genre"
         },
         "tracegroupgap": 0
        },
        "template": {
         "data": {
          "bar": [
           {
            "error_x": {
             "color": "#2a3f5f"
            },
            "error_y": {
             "color": "#2a3f5f"
            },
            "marker": {
             "line": {
              "color": "#E5ECF6",
              "width": 0.5
             },
             "pattern": {
              "fillmode": "overlay",
              "size": 10,
              "solidity": 0.2
             }
            },
            "type": "bar"
           }
          ],
          "barpolar": [
           {
            "marker": {
             "line": {
              "color": "#E5ECF6",
              "width": 0.5
             },
             "pattern": {
              "fillmode": "overlay",
              "size": 10,
              "solidity": 0.2
             }
            },
            "type": "barpolar"
           }
          ],
          "carpet": [
           {
            "aaxis": {
             "endlinecolor": "#2a3f5f",
             "gridcolor": "white",
             "linecolor": "white",
             "minorgridcolor": "white",
             "startlinecolor": "#2a3f5f"
            },
            "baxis": {
             "endlinecolor": "#2a3f5f",
             "gridcolor": "white",
             "linecolor": "white",
             "minorgridcolor": "white",
             "startlinecolor": "#2a3f5f"
            },
            "type": "carpet"
           }
          ],
          "choropleth": [
           {
            "colorbar": {
             "outlinewidth": 0,
             "ticks": ""
            },
            "type": "choropleth"
           }
          ],
          "contour": [
           {
            "colorbar": {
             "outlinewidth": 0,
             "ticks": ""
            },
            "colorscale": [
             [
              0,
              "#0d0887"
             ],
             [
              0.1111111111111111,
              "#46039f"
             ],
             [
              0.2222222222222222,
              "#7201a8"
             ],
             [
              0.3333333333333333,
              "#9c179e"
             ],
             [
              0.4444444444444444,
              "#bd3786"
             ],
             [
              0.5555555555555556,
              "#d8576b"
             ],
             [
              0.6666666666666666,
              "#ed7953"
             ],
             [
              0.7777777777777778,
              "#fb9f3a"
             ],
             [
              0.8888888888888888,
              "#fdca26"
             ],
             [
              1,
              "#f0f921"
             ]
            ],
            "type": "contour"
           }
          ],
          "contourcarpet": [
           {
            "colorbar": {
             "outlinewidth": 0,
             "ticks": ""
            },
            "type": "contourcarpet"
           }
          ],
          "heatmap": [
           {
            "colorbar": {
             "outlinewidth": 0,
             "ticks": ""
            },
            "colorscale": [
             [
              0,
              "#0d0887"
             ],
             [
              0.1111111111111111,
              "#46039f"
             ],
             [
              0.2222222222222222,
              "#7201a8"
             ],
             [
              0.3333333333333333,
              "#9c179e"
             ],
             [
              0.4444444444444444,
              "#bd3786"
             ],
             [
              0.5555555555555556,
              "#d8576b"
             ],
             [
              0.6666666666666666,
              "#ed7953"
             ],
             [
              0.7777777777777778,
              "#fb9f3a"
             ],
             [
              0.8888888888888888,
              "#fdca26"
             ],
             [
              1,
              "#f0f921"
             ]
            ],
            "type": "heatmap"
           }
          ],
          "heatmapgl": [
           {
            "colorbar": {
             "outlinewidth": 0,
             "ticks": ""
            },
            "colorscale": [
             [
              0,
              "#0d0887"
             ],
             [
              0.1111111111111111,
              "#46039f"
             ],
             [
              0.2222222222222222,
              "#7201a8"
             ],
             [
              0.3333333333333333,
              "#9c179e"
             ],
             [
              0.4444444444444444,
              "#bd3786"
             ],
             [
              0.5555555555555556,
              "#d8576b"
             ],
             [
              0.6666666666666666,
              "#ed7953"
             ],
             [
              0.7777777777777778,
              "#fb9f3a"
             ],
             [
              0.8888888888888888,
              "#fdca26"
             ],
             [
              1,
              "#f0f921"
             ]
            ],
            "type": "heatmapgl"
           }
          ],
          "histogram": [
           {
            "marker": {
             "pattern": {
              "fillmode": "overlay",
              "size": 10,
              "solidity": 0.2
             }
            },
            "type": "histogram"
           }
          ],
          "histogram2d": [
           {
            "colorbar": {
             "outlinewidth": 0,
             "ticks": ""
            },
            "colorscale": [
             [
              0,
              "#0d0887"
             ],
             [
              0.1111111111111111,
              "#46039f"
             ],
             [
              0.2222222222222222,
              "#7201a8"
             ],
             [
              0.3333333333333333,
              "#9c179e"
             ],
             [
              0.4444444444444444,
              "#bd3786"
             ],
             [
              0.5555555555555556,
              "#d8576b"
             ],
             [
              0.6666666666666666,
              "#ed7953"
             ],
             [
              0.7777777777777778,
              "#fb9f3a"
             ],
             [
              0.8888888888888888,
              "#fdca26"
             ],
             [
              1,
              "#f0f921"
             ]
            ],
            "type": "histogram2d"
           }
          ],
          "histogram2dcontour": [
           {
            "colorbar": {
             "outlinewidth": 0,
             "ticks": ""
            },
            "colorscale": [
             [
              0,
              "#0d0887"
             ],
             [
              0.1111111111111111,
              "#46039f"
             ],
             [
              0.2222222222222222,
              "#7201a8"
             ],
             [
              0.3333333333333333,
              "#9c179e"
             ],
             [
              0.4444444444444444,
              "#bd3786"
             ],
             [
              0.5555555555555556,
              "#d8576b"
             ],
             [
              0.6666666666666666,
              "#ed7953"
             ],
             [
              0.7777777777777778,
              "#fb9f3a"
             ],
             [
              0.8888888888888888,
              "#fdca26"
             ],
             [
              1,
              "#f0f921"
             ]
            ],
            "type": "histogram2dcontour"
           }
          ],
          "mesh3d": [
           {
            "colorbar": {
             "outlinewidth": 0,
             "ticks": ""
            },
            "type": "mesh3d"
           }
          ],
          "parcoords": [
           {
            "line": {
             "colorbar": {
              "outlinewidth": 0,
              "ticks": ""
             }
            },
            "type": "parcoords"
           }
          ],
          "pie": [
           {
            "automargin": true,
            "type": "pie"
           }
          ],
          "scatter": [
           {
            "fillpattern": {
             "fillmode": "overlay",
             "size": 10,
             "solidity": 0.2
            },
            "type": "scatter"
           }
          ],
          "scatter3d": [
           {
            "line": {
             "colorbar": {
              "outlinewidth": 0,
              "ticks": ""
             }
            },
            "marker": {
             "colorbar": {
              "outlinewidth": 0,
              "ticks": ""
             }
            },
            "type": "scatter3d"
           }
          ],
          "scattercarpet": [
           {
            "marker": {
             "colorbar": {
              "outlinewidth": 0,
              "ticks": ""
             }
            },
            "type": "scattercarpet"
           }
          ],
          "scattergeo": [
           {
            "marker": {
             "colorbar": {
              "outlinewidth": 0,
              "ticks": ""
             }
            },
            "type": "scattergeo"
           }
          ],
          "scattergl": [
           {
            "marker": {
             "colorbar": {
              "outlinewidth": 0,
              "ticks": ""
             }
            },
            "type": "scattergl"
           }
          ],
          "scattermapbox": [
           {
            "marker": {
             "colorbar": {
              "outlinewidth": 0,
              "ticks": ""
             }
            },
            "type": "scattermapbox"
           }
          ],
          "scatterpolar": [
           {
            "marker": {
             "colorbar": {
              "outlinewidth": 0,
              "ticks": ""
             }
            },
            "type": "scatterpolar"
           }
          ],
          "scatterpolargl": [
           {
            "marker": {
             "colorbar": {
              "outlinewidth": 0,
              "ticks": ""
             }
            },
            "type": "scatterpolargl"
           }
          ],
          "scatterternary": [
           {
            "marker": {
             "colorbar": {
              "outlinewidth": 0,
              "ticks": ""
             }
            },
            "type": "scatterternary"
           }
          ],
          "surface": [
           {
            "colorbar": {
             "outlinewidth": 0,
             "ticks": ""
            },
            "colorscale": [
             [
              0,
              "#0d0887"
             ],
             [
              0.1111111111111111,
              "#46039f"
             ],
             [
              0.2222222222222222,
              "#7201a8"
             ],
             [
              0.3333333333333333,
              "#9c179e"
             ],
             [
              0.4444444444444444,
              "#bd3786"
             ],
             [
              0.5555555555555556,
              "#d8576b"
             ],
             [
              0.6666666666666666,
              "#ed7953"
             ],
             [
              0.7777777777777778,
              "#fb9f3a"
             ],
             [
              0.8888888888888888,
              "#fdca26"
             ],
             [
              1,
              "#f0f921"
             ]
            ],
            "type": "surface"
           }
          ],
          "table": [
           {
            "cells": {
             "fill": {
              "color": "#EBF0F8"
             },
             "line": {
              "color": "white"
             }
            },
            "header": {
             "fill": {
              "color": "#C8D4E3"
             },
             "line": {
              "color": "white"
             }
            },
            "type": "table"
           }
          ]
         },
         "layout": {
          "annotationdefaults": {
           "arrowcolor": "#2a3f5f",
           "arrowhead": 0,
           "arrowwidth": 1
          },
          "autotypenumbers": "strict",
          "coloraxis": {
           "colorbar": {
            "outlinewidth": 0,
            "ticks": ""
           }
          },
          "colorscale": {
           "diverging": [
            [
             0,
             "#8e0152"
            ],
            [
             0.1,
             "#c51b7d"
            ],
            [
             0.2,
             "#de77ae"
            ],
            [
             0.3,
             "#f1b6da"
            ],
            [
             0.4,
             "#fde0ef"
            ],
            [
             0.5,
             "#f7f7f7"
            ],
            [
             0.6,
             "#e6f5d0"
            ],
            [
             0.7,
             "#b8e186"
            ],
            [
             0.8,
             "#7fbc41"
            ],
            [
             0.9,
             "#4d9221"
            ],
            [
             1,
             "#276419"
            ]
           ],
           "sequential": [
            [
             0,
             "#0d0887"
            ],
            [
             0.1111111111111111,
             "#46039f"
            ],
            [
             0.2222222222222222,
             "#7201a8"
            ],
            [
             0.3333333333333333,
             "#9c179e"
            ],
            [
             0.4444444444444444,
             "#bd3786"
            ],
            [
             0.5555555555555556,
             "#d8576b"
            ],
            [
             0.6666666666666666,
             "#ed7953"
            ],
            [
             0.7777777777777778,
             "#fb9f3a"
            ],
            [
             0.8888888888888888,
             "#fdca26"
            ],
            [
             1,
             "#f0f921"
            ]
           ],
           "sequentialminus": [
            [
             0,
             "#0d0887"
            ],
            [
             0.1111111111111111,
             "#46039f"
            ],
            [
             0.2222222222222222,
             "#7201a8"
            ],
            [
             0.3333333333333333,
             "#9c179e"
            ],
            [
             0.4444444444444444,
             "#bd3786"
            ],
            [
             0.5555555555555556,
             "#d8576b"
            ],
            [
             0.6666666666666666,
             "#ed7953"
            ],
            [
             0.7777777777777778,
             "#fb9f3a"
            ],
            [
             0.8888888888888888,
             "#fdca26"
            ],
            [
             1,
             "#f0f921"
            ]
           ]
          },
          "colorway": [
           "#636efa",
           "#EF553B",
           "#00cc96",
           "#ab63fa",
           "#FFA15A",
           "#19d3f3",
           "#FF6692",
           "#B6E880",
           "#FF97FF",
           "#FECB52"
          ],
          "font": {
           "color": "#2a3f5f"
          },
          "geo": {
           "bgcolor": "white",
           "lakecolor": "white",
           "landcolor": "#E5ECF6",
           "showlakes": true,
           "showland": true,
           "subunitcolor": "white"
          },
          "hoverlabel": {
           "align": "left"
          },
          "hovermode": "closest",
          "mapbox": {
           "style": "light"
          },
          "paper_bgcolor": "white",
          "plot_bgcolor": "#E5ECF6",
          "polar": {
           "angularaxis": {
            "gridcolor": "white",
            "linecolor": "white",
            "ticks": ""
           },
           "bgcolor": "#E5ECF6",
           "radialaxis": {
            "gridcolor": "white",
            "linecolor": "white",
            "ticks": ""
           }
          },
          "scene": {
           "xaxis": {
            "backgroundcolor": "#E5ECF6",
            "gridcolor": "white",
            "gridwidth": 2,
            "linecolor": "white",
            "showbackground": true,
            "ticks": "",
            "zerolinecolor": "white"
           },
           "yaxis": {
            "backgroundcolor": "#E5ECF6",
            "gridcolor": "white",
            "gridwidth": 2,
            "linecolor": "white",
            "showbackground": true,
            "ticks": "",
            "zerolinecolor": "white"
           },
           "zaxis": {
            "backgroundcolor": "#E5ECF6",
            "gridcolor": "white",
            "gridwidth": 2,
            "linecolor": "white",
            "showbackground": true,
            "ticks": "",
            "zerolinecolor": "white"
           }
          },
          "shapedefaults": {
           "line": {
            "color": "#2a3f5f"
           }
          },
          "ternary": {
           "aaxis": {
            "gridcolor": "white",
            "linecolor": "white",
            "ticks": ""
           },
           "baxis": {
            "gridcolor": "white",
            "linecolor": "white",
            "ticks": ""
           },
           "bgcolor": "#E5ECF6",
           "caxis": {
            "gridcolor": "white",
            "linecolor": "white",
            "ticks": ""
           }
          },
          "title": {
           "x": 0.05
          },
          "xaxis": {
           "automargin": true,
           "gridcolor": "white",
           "linecolor": "white",
           "ticks": "",
           "title": {
            "standoff": 15
           },
           "zerolinecolor": "white",
           "zerolinewidth": 2
          },
          "yaxis": {
           "automargin": true,
           "gridcolor": "white",
           "linecolor": "white",
           "ticks": "",
           "title": {
            "standoff": 15
           },
           "zerolinecolor": "white",
           "zerolinewidth": 2
          }
         }
        },
        "title": {
         "text": "Total Gross of Disney Movies by Genre Over the Years"
        },
        "xaxis": {
         "anchor": "y",
         "domain": [
          0,
          1
         ],
         "title": {
          "text": "Year"
         }
        },
        "yaxis": {
         "anchor": "x",
         "domain": [
          0,
          1
         ],
         "title": {
          "text": "Total Gross"
         }
        }
       }
      }
     },
     "metadata": {},
     "output_type": "display_data"
    }
   ],
   "source": [
    "fig = px.scatter(disney, x='release_date', y='total_gross', color='genre', title='Total Gross of Disney Movies by Genre Over the Years')\n",
    "\n",
    "fig.update_layout(\n",
    "    xaxis_title='Year',\n",
    "    yaxis_title='Total Gross',\n",
    "    legend_title_text='Movie Genre'\n",
    ")\n",
    "\n",
    "fig.show() "
   ]
  },
  {
   "cell_type": "markdown",
   "metadata": {},
   "source": [
    "The amount of movies produced by Disney as well as the total gross increases by year. Besides, it can also be seen that over the past two decades, the highest-grossing Disney movies have predominantly been of the adventure genre."
   ]
  },
  {
   "cell_type": "code",
   "execution_count": 140,
   "metadata": {},
   "outputs": [
    {
     "data": {
      "application/vnd.plotly.v1+json": {
       "config": {
        "plotlyServerURL": "https://plot.ly"
       },
       "data": [
        {
         "hovertemplate": "genre=Musical<br>release_date=%{x}<br>inflation_adjusted_gross=%{y}<extra></extra>",
         "legendgroup": "Musical",
         "marker": {
          "color": "#636efa",
          "symbol": "circle"
         },
         "mode": "markers",
         "name": "Musical",
         "orientation": "v",
         "showlegend": true,
         "type": "scatter",
         "x": [
          "1937-12-21T00:00:00",
          "1940-11-13T00:00:00",
          "1961-12-14T00:00:00",
          "1967-10-18T00:00:00",
          "1970-04-24T00:00:00",
          "1971-10-07T00:00:00",
          "1991-11-13T00:00:00",
          "1993-03-05T00:00:00",
          "1993-10-13T00:00:00",
          "1996-12-25T00:00:00",
          "2000-01-01T00:00:00",
          "2000-06-16T00:00:00",
          "2002-01-01T00:00:00",
          "2006-10-20T00:00:00",
          "2008-10-24T00:00:00",
          "2014-12-25T00:00:00"
         ],
         "xaxis": "x",
         "y": [
          5228953251,
          2187090808,
          124841160,
          789612346,
          255161499,
          91305448,
          363017667,
          11468231,
          100026637,
          92077628,
          94852354,
          14238144,
          36980311,
          30737517,
          106308538,
          130894237
         ],
         "yaxis": "y"
        },
        {
         "hovertemplate": "genre=Adventure<br>release_date=%{x}<br>inflation_adjusted_gross=%{y}<extra></extra>",
         "legendgroup": "Adventure",
         "marker": {
          "color": "#EF553B",
          "symbol": "circle"
         },
         "mode": "markers",
         "name": "Adventure",
         "orientation": "v",
         "showlegend": true,
         "type": "scatter",
         "x": [
          "1940-02-09T00:00:00",
          "1946-11-12T00:00:00",
          "1954-12-23T00:00:00",
          "1963-12-25T00:00:00",
          "1977-06-22T00:00:00",
          "1985-03-22T00:00:00",
          "1985-06-21T00:00:00",
          "1985-07-24T00:00:00",
          "1986-07-02T00:00:00",
          "1986-07-30T00:00:00",
          "1987-06-05T00:00:00",
          "1988-04-15T00:00:00",
          "1988-11-18T00:00:00",
          "1989-06-23T00:00:00",
          "1989-08-18T00:00:00",
          "1989-11-15T00:00:00",
          "1990-08-03T00:00:00",
          "1990-11-16T00:00:00",
          "1991-01-18T00:00:00",
          "1991-03-01T00:00:00",
          "1992-10-09T00:00:00",
          "1993-01-15T00:00:00",
          "1993-02-03T00:00:00",
          "1993-03-12T00:00:00",
          "1993-04-02T00:00:00",
          "1993-11-12T00:00:00",
          "1994-04-15T00:00:00",
          "1994-06-15T00:00:00",
          "1994-12-25T00:00:00",
          "1995-06-10T00:00:00",
          "1995-07-28T00:00:00",
          "1995-08-11T00:00:00",
          "1995-11-22T00:00:00",
          "1995-12-22T00:00:00",
          "1996-02-02T00:00:00",
          "1996-02-16T00:00:00",
          "1996-03-08T00:00:00",
          "1996-04-12T00:00:00",
          "1996-06-21T00:00:00",
          "1997-06-13T00:00:00",
          "1998-06-19T00:00:00",
          "1998-07-01T00:00:00",
          "1998-11-20T00:00:00",
          "1998-12-25T00:00:00",
          "1999-03-26T00:00:00",
          "1999-06-16T00:00:00",
          "1999-11-19T00:00:00",
          "2000-02-11T00:00:00",
          "2000-03-10T00:00:00",
          "2000-05-19T00:00:00",
          "2000-12-15T00:00:00",
          "2001-06-08T00:00:00",
          "2001-11-02T00:00:00",
          "2002-02-15T00:00:00",
          "2002-06-21T00:00:00",
          "2002-07-26T00:00:00",
          "2002-09-20T00:00:00",
          "2002-11-27T00:00:00",
          "2003-02-07T00:00:00",
          "2003-02-14T00:00:00",
          "2003-05-30T00:00:00",
          "2003-07-09T00:00:00",
          "2003-10-24T00:00:00",
          "2003-12-25T00:00:00",
          "2004-06-16T00:00:00",
          "2004-07-07T00:00:00",
          "2004-11-05T00:00:00",
          "2004-11-19T00:00:00",
          "2005-02-11T00:00:00",
          "2005-06-10T00:00:00",
          "2005-07-29T00:00:00",
          "2005-08-19T00:00:00",
          "2005-11-04T00:00:00",
          "2005-12-09T00:00:00",
          "2006-02-17T00:00:00",
          "2006-04-14T00:00:00",
          "2006-07-07T00:00:00",
          "2006-12-08T00:00:00",
          "2007-01-12T00:00:00",
          "2007-03-30T00:00:00",
          "2007-05-24T00:00:00",
          "2007-08-03T00:00:00",
          "2007-12-21T00:00:00",
          "2008-05-16T00:00:00",
          "2008-06-27T00:00:00",
          "2009-03-13T00:00:00",
          "2009-05-29T00:00:00",
          "2009-07-24T00:00:00",
          "2009-08-14T00:00:00",
          "2009-10-02T00:00:00",
          "2009-11-25T00:00:00",
          "2010-03-05T00:00:00",
          "2010-06-18T00:00:00",
          "2010-07-14T00:00:00",
          "2010-08-13T00:00:00",
          "2010-11-24T00:00:00",
          "2010-12-17T00:00:00",
          "2011-02-18T00:00:00",
          "2011-03-11T00:00:00",
          "2011-04-22T00:00:00",
          "2011-05-20T00:00:00",
          "2011-06-24T00:00:00",
          "2011-07-15T00:00:00",
          "2012-02-17T00:00:00",
          "2012-03-09T00:00:00",
          "2012-06-22T00:00:00",
          "2012-11-02T00:00:00",
          "2013-03-08T00:00:00",
          "2013-06-21T00:00:00",
          "2013-11-08T00:00:00",
          "2013-11-22T00:00:00",
          "2014-05-30T00:00:00",
          "2014-07-18T00:00:00",
          "2014-08-01T00:00:00",
          "2014-11-07T00:00:00",
          "2015-01-23T00:00:00",
          "2015-05-22T00:00:00",
          "2015-06-19T00:00:00",
          "2015-11-25T00:00:00",
          "2015-12-18T00:00:00",
          "2016-03-04T00:00:00",
          "2016-04-15T00:00:00",
          "2016-05-27T00:00:00",
          "2016-06-17T00:00:00",
          "2016-07-01T00:00:00",
          "2016-08-12T00:00:00",
          "2016-11-04T00:00:00",
          "2016-11-23T00:00:00",
          "2016-12-16T00:00:00"
         ],
         "xaxis": "x",
         "y": [
          2188229052,
          1078510579,
          528279994,
          153870834,
          159743914,
          33900697,
          25215934,
          50553142,
          53637367,
          42183197,
          32798382,
          28073384,
          102254492,
          276191669,
          16653473,
          223726012,
          36107823,
          55796728,
          69540672,
          30084149,
          14421454,
          73914543,
          85182343,
          26248558,
          49080505,
          109310377,
          18083994,
          761640898,
          88930321,
          274370957,
          47809421,
          25981285,
          370409631,
          45911517,
          19509726,
          65470567,
          62384706,
          55159783,
          190988799,
          182029412,
          216807832,
          362324957,
          288981698,
          87906042,
          32228598,
          283900254,
          404450426,
          71228678,
          95208344,
          215438985,
          136789252,
          125188122,
          416073179,
          70269715,
          211506702,
          24650121,
          14338992,
          55189145,
          84537962,
          66966883,
          518148559,
          426967926,
          119218333,
          9254344,
          32585356,
          70423706,
          354488708,
          234069353,
          23801835,
          6194870,
          84088854,
          25616292,
          177954661,
          381557539,
          105037235,
          48114115,
          544817142,
          64959548,
          12985302,
          119860589,
          379129960,
          53619462,
          267003525,
          166277038,
          262771918,
          75501997,
          329336681,
          134246932,
          16961607,
          34509545,
          116316457,
          357063499,
          443408255,
          67473105,
          51988,
          214388548,
          183619259,
          58574607,
          22741603,
          2984,
          256263359,
          203522177,
          28375869,
          20325733,
          77372445,
          251292441,
          200354959,
          243434130,
          278395641,
          213962184,
          414997174,
          249089809,
          61040349,
          343771168,
          229249222,
          12429583,
          93436322,
          356461711,
          123087120,
          936662225,
          341268248,
          364001123,
          77042381,
          486295561,
          55483770,
          76233151,
          232532923,
          246082029,
          529483936
         ],
         "yaxis": "y"
        },
        {
         "hovertemplate": "genre=Drama<br>release_date=%{x}<br>inflation_adjusted_gross=%{y}<extra></extra>",
         "legendgroup": "Drama",
         "marker": {
          "color": "#00cc96",
          "symbol": "circle"
         },
         "mode": "markers",
         "name": "Drama",
         "orientation": "v",
         "showlegend": true,
         "type": "scatter",
         "x": [
          "1950-02-15T00:00:00",
          "1955-06-22T00:00:00",
          "1959-01-29T00:00:00",
          "1981-03-20T00:00:00",
          "1982-02-05T00:00:00",
          "1982-11-19T00:00:00",
          "1983-10-07T00:00:00",
          "1983-11-04T00:00:00",
          "1984-09-29T00:00:00",
          "1985-09-27T00:00:00",
          "1985-11-22T00:00:00",
          "1986-10-17T00:00:00",
          "1988-07-29T00:00:00",
          "1988-11-04T00:00:00",
          "1988-12-21T00:00:00",
          "1989-03-01T00:00:00",
          "1989-06-02T00:00:00",
          "1989-10-06T00:00:00",
          "1989-10-20T00:00:00",
          "1989-12-13T00:00:00",
          "1990-02-02T00:00:00",
          "1991-05-24T00:00:00",
          "1991-07-24T00:00:00",
          "1991-09-18T00:00:00",
          "1991-11-01T00:00:00",
          "1992-02-07T00:00:00",
          "1992-07-17T00:00:00",
          "1992-09-18T00:00:00",
          "1992-10-16T00:00:00",
          "1993-06-09T00:00:00",
          "1993-09-08T00:00:00",
          "1994-01-14T00:00:00",
          "1994-04-29T00:00:00",
          "1994-09-02T00:00:00",
          "1994-09-14T00:00:00",
          "1994-10-28T00:00:00",
          "1995-03-31T00:00:00",
          "1995-05-26T00:00:00",
          "1995-08-11T00:00:00",
          "1995-09-15T00:00:00",
          "1995-10-04T00:00:00",
          "1995-10-13T00:00:00",
          "1995-10-13T00:00:00",
          "1995-10-27T00:00:00",
          "1995-12-20T00:00:00",
          "1995-12-29T00:00:00",
          "1996-02-23T00:00:00",
          "1996-03-01T00:00:00",
          "1996-05-03T00:00:00",
          "1996-05-10T00:00:00",
          "1996-07-05T00:00:00",
          "1996-08-09T00:00:00",
          "1996-12-13T00:00:00",
          "1997-01-24T00:00:00",
          "1997-08-22T00:00:00",
          "1997-09-19T00:00:00",
          "1997-10-05T00:00:00",
          "1997-12-25T00:00:00",
          "1998-05-01T00:00:00",
          "1998-05-15T00:00:00",
          "1998-09-04T00:00:00",
          "1998-09-11T00:00:00",
          "1998-10-16T00:00:00",
          "1998-12-25T00:00:00",
          "1999-06-04T00:00:00",
          "1999-07-02T00:00:00",
          "1999-10-15T00:00:00",
          "1999-11-05T00:00:00",
          "1999-12-08T00:00:00",
          "1999-12-17T00:00:00",
          "2000-08-04T00:00:00",
          "2000-09-15T00:00:00",
          "2000-09-29T00:00:00",
          "2001-06-29T00:00:00",
          "2002-01-25T00:00:00",
          "2002-03-29T00:00:00",
          "2002-09-27T00:00:00",
          "2002-10-11T00:00:00",
          "2002-12-19T00:00:00",
          "2003-04-18T00:00:00",
          "2003-10-17T00:00:00",
          "2004-02-06T00:00:00",
          "2005-09-30T00:00:00",
          "2005-10-21T00:00:00",
          "2005-12-25T00:00:00",
          "2006-01-13T00:00:00",
          "2006-01-27T00:00:00",
          "2006-05-12T00:00:00",
          "2006-08-11T00:00:00",
          "2006-08-25T00:00:00",
          "2007-02-16T00:00:00",
          "2007-03-30T00:00:00",
          "2007-04-06T00:00:00",
          "2008-02-14T00:00:00",
          "2008-08-29T00:00:00",
          "2008-09-26T00:00:00",
          "2009-04-10T00:00:00",
          "2009-11-06T00:00:00",
          "2010-03-31T00:00:00",
          "2010-08-06T00:00:00",
          "2010-10-08T00:00:00",
          "2011-08-10T00:00:00",
          "2011-12-25T00:00:00",
          "2012-06-29T00:00:00",
          "2012-08-15T00:00:00",
          "2012-11-09T00:00:00",
          "2013-10-18T00:00:00",
          "2013-11-08T00:00:00",
          "2013-12-13T00:00:00",
          "2014-05-10T00:00:00",
          "2015-02-20T00:00:00",
          "2015-03-13T00:00:00",
          "2016-09-02T00:00:00",
          "2016-09-23T00:00:00"
         ],
         "xaxis": "x",
         "y": [
          920608730,
          1236035515,
          21505832,
          0,
          12903059,
          20643199,
          70669955,
          3223725,
          21075000,
          22302956,
          31415432,
          117957323,
          160442289,
          9772655,
          120381757,
          22740861,
          202531517,
          40983414,
          23972012,
          39884640,
          40077147,
          14617333,
          75084021,
          37313540,
          31167691,
          91304495,
          24950752,
          14841352,
          43859823,
          79618610,
          66768171,
          42610902,
          103354194,
          7035189,
          50840394,
          6858345,
          4770461,
          29934306,
          164552293,
          15365850,
          46741467,
          20075033,
          568342,
          59727216,
          26302005,
          157508868,
          16482589,
          97356578,
          11171714,
          41826566,
          199559799,
          111792852,
          91076877,
          1085093,
          88467531,
          14561324,
          3257546,
          10236836,
          38766948,
          135497531,
          1409943,
          32809442,
          41062682,
          94139530,
          56595842,
          32007656,
          10111144,
          47794214,
          4609153,
          94838225,
          95070168,
          7404372,
          180742479,
          25214223,
          78682079,
          109691666,
          9909094,
          27789959,
          18325463,
          94203395,
          2194759,
          87392478,
          20162672,
          13519621,
          14574087,
          54888236,
          22044113,
          5512647,
          84078780,
          74398864,
          100760721,
          5637048,
          8779196,
          68118371,
          264247,
          9295171,
          89443640,
          154927105,
          67258772,
          45302137,
          63781920,
          180404976,
          84762149,
          13165822,
          54914942,
          192122330,
          3374251,
          5367415,
          86249969,
          37607865,
          44480275,
          201151353,
          12545979,
          8874389
         ],
         "yaxis": "y"
        },
        {
         "hovertemplate": "genre=Comedy<br>release_date=%{x}<br>inflation_adjusted_gross=%{y}<extra></extra>",
         "legendgroup": "Comedy",
         "marker": {
          "color": "#ab63fa",
          "symbol": "circle"
         },
         "mode": "markers",
         "name": "Comedy",
         "orientation": "v",
         "showlegend": true,
         "type": "scatter",
         "x": [
          "1961-01-25T00:00:00",
          "1961-03-16T00:00:00",
          "1962-05-17T00:00:00",
          "1968-02-08T00:00:00",
          "1970-07-01T00:00:00",
          "1975-07-01T00:00:00",
          "1977-01-21T00:00:00",
          "1981-07-10T00:00:00",
          "1983-03-11T00:00:00",
          "1984-03-09T00:00:00",
          "1985-08-09T00:00:00",
          "1986-01-31T00:00:00",
          "1986-04-11T00:00:00",
          "1986-06-27T00:00:00",
          "1986-10-03T00:00:00",
          "1987-01-30T00:00:00",
          "1987-03-06T00:00:00",
          "1987-05-22T00:00:00",
          "1987-07-03T00:00:00",
          "1987-08-05T00:00:00",
          "1987-11-06T00:00:00",
          "1987-11-25T00:00:00",
          "1987-12-23T00:00:00",
          "1988-06-10T00:00:00",
          "1988-06-22T00:00:00",
          "1988-09-30T00:00:00",
          "1988-11-11T00:00:00",
          "1989-01-27T00:00:00",
          "1989-04-14T00:00:00",
          "1989-07-28T00:00:00",
          "1990-02-23T00:00:00",
          "1990-04-06T00:00:00",
          "1990-04-27T00:00:00",
          "1990-06-22T00:00:00",
          "1990-08-17T00:00:00",
          "1990-10-12T00:00:00",
          "1990-11-21T00:00:00",
          "1991-02-22T00:00:00",
          "1991-04-26T00:00:00",
          "1991-05-17T00:00:00",
          "1991-10-11T00:00:00",
          "1991-12-20T00:00:00",
          "1992-03-06T00:00:00",
          "1992-03-20T00:00:00",
          "1992-04-03T00:00:00",
          "1992-05-22T00:00:00",
          "1992-05-29T00:00:00",
          "1992-07-17T00:00:00",
          "1992-09-18T00:00:00",
          "1992-10-02T00:00:00",
          "1992-11-11T00:00:00",
          "1992-12-04T00:00:00",
          "1992-12-11T00:00:00",
          "1993-02-03T00:00:00",
          "1993-04-23T00:00:00",
          "1993-06-04T00:00:00",
          "1993-07-02T00:00:00",
          "1993-07-16T00:00:00",
          "1993-07-23T00:00:00",
          "1993-09-10T00:00:00",
          "1993-10-01T00:00:00",
          "1993-12-10T00:00:00",
          "1994-01-07T00:00:00",
          "1994-01-07T00:00:00",
          "1994-02-11T00:00:00",
          "1994-03-04T00:00:00",
          "1994-03-09T00:00:00",
          "1994-03-25T00:00:00",
          "1994-04-08T00:00:00",
          "1994-04-22T00:00:00",
          "1994-06-03T00:00:00",
          "1994-07-15T00:00:00",
          "1994-08-12T00:00:00",
          "1994-08-26T00:00:00",
          "1994-08-26T00:00:00",
          "1994-09-30T00:00:00",
          "1994-11-11T00:00:00",
          "1995-01-06T00:00:00",
          "1995-02-03T00:00:00",
          "1995-02-17T00:00:00",
          "1995-03-03T00:00:00",
          "1995-03-03T00:00:00",
          "1995-03-31T00:00:00",
          "1995-04-07T00:00:00",
          "1995-09-29T00:00:00",
          "1995-12-08T00:00:00",
          "1996-03-22T00:00:00",
          "1996-04-19T00:00:00",
          "1996-05-24T00:00:00",
          "1996-05-31T00:00:00",
          "1996-07-17T00:00:00",
          "1996-08-30T00:00:00",
          "1996-10-04T00:00:00",
          "1996-10-25T00:00:00",
          "1996-11-27T00:00:00",
          "1997-02-14T00:00:00",
          "1997-03-07T00:00:00",
          "1997-03-28T00:00:00",
          "1997-04-25T00:00:00",
          "1997-05-30T00:00:00",
          "1997-07-16T00:00:00",
          "1997-07-18T00:00:00",
          "1997-08-01T00:00:00",
          "1997-10-10T00:00:00",
          "1997-11-26T00:00:00",
          "1997-12-25T00:00:00",
          "1998-02-27T00:00:00",
          "1998-02-27T00:00:00",
          "1998-03-27T00:00:00",
          "1998-07-24T00:00:00",
          "1998-07-29T00:00:00",
          "1998-10-09T00:00:00",
          "1998-11-06T00:00:00",
          "1998-11-13T00:00:00",
          "1999-02-12T00:00:00",
          "1999-07-23T00:00:00",
          "1999-09-17T00:00:00",
          "1999-09-24T00:00:00",
          "1999-10-01T00:00:00",
          "1999-12-10T00:00:00",
          "1999-12-24T00:00:00",
          "2000-02-04T00:00:00",
          "2000-03-31T00:00:00",
          "2000-07-07T00:00:00",
          "2000-08-25T00:00:00",
          "2000-11-22T00:00:00",
          "2000-12-22T00:00:00",
          "2001-02-16T00:00:00",
          "2001-04-06T00:00:00",
          "2001-08-03T00:00:00",
          "2001-08-24T00:00:00",
          "2001-10-05T00:00:00",
          "2001-10-12T00:00:00",
          "2001-11-21T00:00:00",
          "2002-01-18T00:00:00",
          "2002-03-22T00:00:00",
          "2002-04-05T00:00:00",
          "2002-09-27T00:00:00",
          "2002-11-01T00:00:00",
          "2002-12-13T00:00:00",
          "2003-03-07T00:00:00",
          "2003-03-21T00:00:00",
          "2003-05-02T00:00:00",
          "2003-08-06T00:00:00",
          "2003-09-26T00:00:00",
          "2003-11-26T00:00:00",
          "2003-12-19T00:00:00",
          "2004-01-16T00:00:00",
          "2004-02-20T00:00:00",
          "2004-03-26T00:00:00",
          "2004-04-02T00:00:00",
          "2004-05-28T00:00:00",
          "2004-09-17T00:00:00",
          "2004-09-24T00:00:00",
          "2004-12-10T00:00:00",
          "2005-03-04T00:00:00",
          "2005-03-18T00:00:00",
          "2005-04-22T00:00:00",
          "2005-04-29T00:00:00",
          "2005-06-22T00:00:00",
          "2006-03-10T00:00:00",
          "2006-04-28T00:00:00",
          "2006-06-09T00:00:00",
          "2006-11-03T00:00:00",
          "2007-03-02T00:00:00",
          "2007-06-29T00:00:00",
          "2007-09-22T00:00:00",
          "2008-03-07T00:00:00",
          "2008-08-01T00:00:00",
          "2008-10-03T00:00:00",
          "2008-11-21T00:00:00",
          "2008-12-25T00:00:00",
          "2009-11-25T00:00:00",
          "2010-09-24T00:00:00",
          "2011-02-11T00:00:00",
          "2011-04-29T00:00:00",
          "2011-11-23T00:00:00",
          "2012-10-05T00:00:00",
          "2013-08-09T00:00:00",
          "2013-11-22T00:00:00",
          "2014-03-21T00:00:00",
          "2014-10-10T00:00:00"
         ],
         "xaxis": "x",
         "y": [
          1362870985,
          310094574,
          109581646,
          138612686,
          101200742,
          131246872,
          98067733,
          133118889,
          11519089,
          157057661,
          9736051,
          141183693,
          11003932,
          162748712,
          48758184,
          113976921,
          54787202,
          50686462,
          72853569,
          141592160,
          44024529,
          353334607,
          254414837,
          82352451,
          316250084,
          11300331,
          57845202,
          85757817,
          15233465,
          150176361,
          2210321,
          49999822,
          29964452,
          39433357,
          39963460,
          30722056,
          143108869,
          19149495,
          47181395,
          127571325,
          28320147,
          179821881,
          5872667,
          4631720,
          43068356,
          81369058,
          283583472,
          119162518,
          45741576,
          103120810,
          441969178,
          94349900,
          55417615,
          11369541,
          29968953,
          25146538,
          52921433,
          80147079,
          40943541,
          2127496,
          140392731,
          116965668,
          42940186,
          7168577,
          63170804,
          19116981,
          23401275,
          94226333,
          1473665,
          18316030,
          49945474,
          103798152,
          59673787,
          21576332,
          125666,
          12042634,
          298369717,
          51016522,
          14641561,
          34245779,
          77573459,
          23404369,
          1025425,
          68479579,
          34372339,
          147658438,
          1963937,
          17623615,
          51373912,
          59828966,
          36009655,
          50465108,
          43713554,
          24333094,
          258728898,
          33613158,
          110058379,
          27117599,
          53693680,
          36265379,
          193326632,
          81692095,
          45266588,
          28371890,
          170406423,
          39145784,
          13608633,
          82277,
          7829877,
          35668055,
          119185667,
          21694605,
          288691833,
          21941840,
          61150849,
          161610341,
          295851,
          7566363,
          14755189,
          106921374,
          13180524,
          2562155,
          42661516,
          108993148,
          20362201,
          104055039,
          67922002,
          54656124,
          7114869,
          161218928,
          7450434,
          25749730,
          35705805,
          20700691,
          117745317,
          14797862,
          10537188,
          184521151,
          201959095,
          50624654,
          185481530,
          32298812,
          59743191,
          154090360,
          60944053,
          105775678,
          42379650,
          8812764,
          39816568,
          53881593,
          67910166,
          50886144,
          29593641,
          629502,
          32198655,
          148619029,
          32064685,
          28716947,
          67096891,
          86812798,
          78667428,
          34634731,
          314140384,
          108694869,
          206110533,
          252955933,
          111010758,
          53550960,
          19125841,
          110932022,
          133702498,
          128039679,
          55503929,
          27461121,
          106270797,
          10768946,
          94189503,
          37363513,
          93614037,
          31787136,
          52807594,
          69055550
         ],
         "yaxis": "y"
        },
        {
         "hovertemplate": "genre=NaN<br>release_date=%{x}<br>inflation_adjusted_gross=%{y}<extra></extra>",
         "legendgroup": "NaN",
         "marker": {
          "color": "#FFA15A",
          "symbol": "circle"
         },
         "mode": "markers",
         "name": "NaN",
         "orientation": "v",
         "showlegend": true,
         "type": "scatter",
         "x": [
          "1977-03-11T00:00:00",
          "1977-06-24T00:00:00",
          "1979-12-21T00:00:00",
          "1980-02-08T00:00:00",
          "1980-06-25T00:00:00",
          "1981-01-01T00:00:00",
          "1992-04-08T00:00:00",
          "1992-04-24T00:00:00",
          "1992-08-21T00:00:00",
          "1993-04-16T00:00:00",
          "1993-08-06T00:00:00",
          "1993-08-27T00:00:00",
          "1994-01-28T00:00:00",
          "1996-11-20T00:00:00",
          "1999-05-14T00:00:00",
          "2001-10-26T00:00:00",
          "2002-01-01T00:00:00"
         ],
         "xaxis": "x",
         "y": [
          0,
          105847527,
          120377374,
          9088096,
          34472116,
          48517980,
          5497481,
          8187848,
          7295423,
          9156084,
          6554384,
          6654819,
          5170709,
          65543,
          380218,
          337782,
          0
         ],
         "yaxis": "y"
        },
        {
         "hovertemplate": "genre=Action<br>release_date=%{x}<br>inflation_adjusted_gross=%{y}<extra></extra>",
         "legendgroup": "Action",
         "marker": {
          "color": "#19d3f3",
          "symbol": "circle"
         },
         "mode": "markers",
         "name": "Action",
         "orientation": "v",
         "showlegend": true,
         "type": "scatter",
         "x": [
          "1981-08-07T00:00:00",
          "1982-07-09T00:00:00",
          "1988-02-12T00:00:00",
          "1988-08-05T00:00:00",
          "1990-05-24T00:00:00",
          "1990-06-15T00:00:00",
          "1991-05-03T00:00:00",
          "1991-06-21T00:00:00",
          "1992-08-07T00:00:00",
          "1993-05-28T00:00:00",
          "1993-09-24T00:00:00",
          "1994-05-06T00:00:00",
          "1994-09-23T00:00:00",
          "1994-11-23T00:00:00",
          "1995-05-12T00:00:00",
          "1995-06-30T00:00:00",
          "1996-06-07T00:00:00",
          "1996-11-08T00:00:00",
          "1997-01-17T00:00:00",
          "1997-06-06T00:00:00",
          "1998-01-30T00:00:00",
          "1998-11-20T00:00:00",
          "1999-08-27T00:00:00",
          "2000-06-09T00:00:00",
          "2001-01-12T00:00:00",
          "2001-05-25T00:00:00",
          "2002-02-19T00:00:00",
          "2002-06-07T00:00:00",
          "2004-10-01T00:00:00",
          "2006-09-29T00:00:00",
          "2009-09-25T00:00:00",
          "2010-05-28T00:00:00",
          "2011-10-07T00:00:00",
          "2012-05-04T00:00:00",
          "2013-05-03T00:00:00",
          "2014-03-14T00:00:00",
          "2014-04-04T00:00:00",
          "2015-05-01T00:00:00",
          "2015-07-17T00:00:00",
          "2016-05-06T00:00:00"
         ],
         "xaxis": "x",
         "y": [
          0,
          77184895,
          60097074,
          12009960,
          29485923,
          207231621,
          22580472,
          93256673,
          58965304,
          42445058,
          46919256,
          24267154,
          34048315,
          60321919,
          177102077,
          67222776,
          255702705,
          259807820,
          58804106,
          185712664,
          20136775,
          198472008,
          54262148,
          158970411,
          44418589,
          295705112,
          62480631,
          43756218,
          101161045,
          70801353,
          43361416,
          96971361,
          90848019,
          660081224,
          424084233,
          44955015,
          268013076,
          459005868,
          180202163,
          408084349
         ],
         "yaxis": "y"
        },
        {
         "hovertemplate": "genre=Horror<br>release_date=%{x}<br>inflation_adjusted_gross=%{y}<extra></extra>",
         "legendgroup": "Horror",
         "marker": {
          "color": "#FF6692",
          "symbol": "circle"
         },
         "mode": "markers",
         "name": "Horror",
         "orientation": "v",
         "showlegend": true,
         "type": "scatter",
         "x": [
          "1983-04-29T00:00:00",
          "1992-09-25T00:00:00",
          "1994-10-21T00:00:00",
          "1997-12-25T00:00:00",
          "2006-03-24T00:00:00",
          "2011-08-19T00:00:00"
         ],
         "xaxis": "x",
         "y": [
          15136765,
          9907922,
          17727017,
          48546161,
          29712825,
          19452402
         ],
         "yaxis": "y"
        },
        {
         "hovertemplate": "genre=Romantic Comedy<br>release_date=%{x}<br>inflation_adjusted_gross=%{y}<extra></extra>",
         "legendgroup": "Romantic Comedy",
         "marker": {
          "color": "#B6E880",
          "symbol": "circle"
         },
         "mode": "markers",
         "name": "Romantic Comedy",
         "orientation": "v",
         "showlegend": true,
         "type": "scatter",
         "x": [
          "1987-08-14T00:00:00",
          "1990-03-23T00:00:00",
          "1990-12-25T00:00:00",
          "1991-04-05T00:00:00",
          "1993-01-22T00:00:00",
          "1993-03-26T00:00:00",
          "1994-06-29T00:00:00",
          "1995-01-27T00:00:00",
          "1995-03-28T00:00:00",
          "1995-04-21T00:00:00",
          "1996-02-16T00:00:00",
          "1996-03-15T00:00:00",
          "1998-06-12T00:00:00",
          "1999-02-26T00:00:00",
          "1999-03-31T00:00:00",
          "2000-04-14T00:00:00",
          "2004-08-11T00:00:00",
          "2007-10-20T00:00:00",
          "2007-11-21T00:00:00",
          "2009-02-13T00:00:00",
          "2009-06-19T00:00:00",
          "2010-01-29T00:00:00",
          "2014-08-08T00:00:00"
         ],
         "xaxis": "x",
         "y": [
          68181300,
          356389765,
          59679131,
          24939118,
          15970955,
          36165012,
          63651027,
          9857435,
          907414,
          157082900,
          24422334,
          2057055,
          133620516,
          46145331,
          63354375,
          57925202,
          129164207,
          58350234,
          156074310,
          49767744,
          184288829,
          34917330,
          55961409
         ],
         "yaxis": "y"
        },
        {
         "hovertemplate": "genre=Thriller/Suspense<br>release_date=%{x}<br>inflation_adjusted_gross=%{y}<extra></extra>",
         "legendgroup": "Thriller/Suspense",
         "marker": {
          "color": "#FF97FF",
          "symbol": "circle"
         },
         "mode": "markers",
         "name": "Thriller/Suspense",
         "orientation": "v",
         "showlegend": true,
         "type": "scatter",
         "x": [
          "1988-03-18T00:00:00",
          "1990-07-18T00:00:00",
          "1991-09-27T00:00:00",
          "1992-01-10T00:00:00",
          "1993-06-04T00:00:00",
          "1994-08-19T00:00:00",
          "1995-01-20T00:00:00",
          "1995-09-08T00:00:00",
          "1996-09-13T00:00:00",
          "1997-01-31T00:00:00",
          "1997-10-17T00:00:00",
          "1999-08-06T00:00:00",
          "2000-11-22T00:00:00",
          "2002-08-02T00:00:00",
          "2003-01-31T00:00:00",
          "2003-09-19T00:00:00",
          "2004-07-30T00:00:00",
          "2005-07-08T00:00:00",
          "2005-09-23T00:00:00",
          "2006-10-20T00:00:00",
          "2006-11-22T00:00:00",
          "2007-04-27T00:00:00",
          "2015-10-16T00:00:00",
          "2016-01-29T00:00:00"
         ],
         "xaxis": "x",
         "y": [
          26062188,
          106290270,
          57544453,
          178831137,
          46064723,
          40804816,
          6829092,
          11167895,
          16284619,
          3957025,
          7652965,
          485424724,
          148208901,
          330754439,
          73793522,
          29895090,
          155021748,
          33500491,
          117960425,
          68289913,
          82267038,
          25202168,
          72313754,
          27569558
         ],
         "yaxis": "y"
        },
        {
         "hovertemplate": "genre=Western<br>release_date=%{x}<br>inflation_adjusted_gross=%{y}<extra></extra>",
         "legendgroup": "Western",
         "marker": {
          "color": "#FECB52",
          "symbol": "circle"
         },
         "mode": "markers",
         "name": "Western",
         "orientation": "v",
         "showlegend": true,
         "type": "scatter",
         "x": [
          "1993-12-25T00:00:00",
          "1995-03-24T00:00:00",
          "2000-05-26T00:00:00",
          "2003-08-15T00:00:00",
          "2004-03-05T00:00:00",
          "2004-04-09T00:00:00",
          "2013-07-02T00:00:00"
         ],
         "xaxis": "x",
         "y": [
          115781734,
          15983331,
          89042541,
          81547672,
          91340921,
          30416359,
          92597388
         ],
         "yaxis": "y"
        },
        {
         "hovertemplate": "genre=Black Comedy<br>release_date=%{x}<br>inflation_adjusted_gross=%{y}<extra></extra>",
         "legendgroup": "Black Comedy",
         "marker": {
          "color": "#636efa",
          "symbol": "circle"
         },
         "mode": "markers",
         "name": "Black Comedy",
         "orientation": "v",
         "showlegend": true,
         "type": "scatter",
         "x": [
          "1997-04-11T00:00:00",
          "1998-12-11T00:00:00",
          "2001-12-14T00:00:00"
         ],
         "xaxis": "x",
         "y": [
          51579764,
          28392518,
          76758193
         ],
         "yaxis": "y"
        },
        {
         "hovertemplate": "genre=Documentary<br>release_date=%{x}<br>inflation_adjusted_gross=%{y}<extra></extra>",
         "legendgroup": "Documentary",
         "marker": {
          "color": "#EF553B",
          "symbol": "circle"
         },
         "mode": "markers",
         "name": "Documentary",
         "orientation": "v",
         "showlegend": true,
         "type": "scatter",
         "x": [
          "2002-05-10T00:00:00",
          "2003-04-11T00:00:00",
          "2004-07-02T00:00:00",
          "2005-01-28T00:00:00",
          "2006-01-27T00:00:00",
          "2008-10-17T00:00:00",
          "2009-04-22T00:00:00",
          "2009-08-21T00:00:00",
          "2009-09-10T00:00:00",
          "2010-03-26T00:00:00",
          "2010-04-22T00:00:00",
          "2011-04-22T00:00:00",
          "2012-04-20T00:00:00",
          "2014-04-18T00:00:00",
          "2015-04-17T00:00:00",
          "2016-04-29T00:00:00"
         ],
         "xaxis": "x",
         "y": [
          6089874,
          23803108,
          426246,
          11740942,
          12948025,
          322979,
          35981010,
          1563976,
          23064,
          86264,
          20751600,
          16401551,
          30675725,
          18346024,
          16432322,
          7895708
         ],
         "yaxis": "y"
        },
        {
         "hovertemplate": "genre=Concert/Performance<br>release_date=%{x}<br>inflation_adjusted_gross=%{y}<extra></extra>",
         "legendgroup": "Concert/Performance",
         "marker": {
          "color": "#00cc96",
          "symbol": "circle"
         },
         "mode": "markers",
         "name": "Concert/Performance",
         "orientation": "v",
         "showlegend": true,
         "type": "scatter",
         "x": [
          "2008-02-01T00:00:00",
          "2009-02-27T00:00:00"
         ],
         "xaxis": "x",
         "y": [
          76646993,
          38174685
         ],
         "yaxis": "y"
        }
       ],
       "layout": {
        "legend": {
         "title": {
          "text": "Movie Genre"
         },
         "tracegroupgap": 0
        },
        "template": {
         "data": {
          "bar": [
           {
            "error_x": {
             "color": "#2a3f5f"
            },
            "error_y": {
             "color": "#2a3f5f"
            },
            "marker": {
             "line": {
              "color": "#E5ECF6",
              "width": 0.5
             },
             "pattern": {
              "fillmode": "overlay",
              "size": 10,
              "solidity": 0.2
             }
            },
            "type": "bar"
           }
          ],
          "barpolar": [
           {
            "marker": {
             "line": {
              "color": "#E5ECF6",
              "width": 0.5
             },
             "pattern": {
              "fillmode": "overlay",
              "size": 10,
              "solidity": 0.2
             }
            },
            "type": "barpolar"
           }
          ],
          "carpet": [
           {
            "aaxis": {
             "endlinecolor": "#2a3f5f",
             "gridcolor": "white",
             "linecolor": "white",
             "minorgridcolor": "white",
             "startlinecolor": "#2a3f5f"
            },
            "baxis": {
             "endlinecolor": "#2a3f5f",
             "gridcolor": "white",
             "linecolor": "white",
             "minorgridcolor": "white",
             "startlinecolor": "#2a3f5f"
            },
            "type": "carpet"
           }
          ],
          "choropleth": [
           {
            "colorbar": {
             "outlinewidth": 0,
             "ticks": ""
            },
            "type": "choropleth"
           }
          ],
          "contour": [
           {
            "colorbar": {
             "outlinewidth": 0,
             "ticks": ""
            },
            "colorscale": [
             [
              0,
              "#0d0887"
             ],
             [
              0.1111111111111111,
              "#46039f"
             ],
             [
              0.2222222222222222,
              "#7201a8"
             ],
             [
              0.3333333333333333,
              "#9c179e"
             ],
             [
              0.4444444444444444,
              "#bd3786"
             ],
             [
              0.5555555555555556,
              "#d8576b"
             ],
             [
              0.6666666666666666,
              "#ed7953"
             ],
             [
              0.7777777777777778,
              "#fb9f3a"
             ],
             [
              0.8888888888888888,
              "#fdca26"
             ],
             [
              1,
              "#f0f921"
             ]
            ],
            "type": "contour"
           }
          ],
          "contourcarpet": [
           {
            "colorbar": {
             "outlinewidth": 0,
             "ticks": ""
            },
            "type": "contourcarpet"
           }
          ],
          "heatmap": [
           {
            "colorbar": {
             "outlinewidth": 0,
             "ticks": ""
            },
            "colorscale": [
             [
              0,
              "#0d0887"
             ],
             [
              0.1111111111111111,
              "#46039f"
             ],
             [
              0.2222222222222222,
              "#7201a8"
             ],
             [
              0.3333333333333333,
              "#9c179e"
             ],
             [
              0.4444444444444444,
              "#bd3786"
             ],
             [
              0.5555555555555556,
              "#d8576b"
             ],
             [
              0.6666666666666666,
              "#ed7953"
             ],
             [
              0.7777777777777778,
              "#fb9f3a"
             ],
             [
              0.8888888888888888,
              "#fdca26"
             ],
             [
              1,
              "#f0f921"
             ]
            ],
            "type": "heatmap"
           }
          ],
          "heatmapgl": [
           {
            "colorbar": {
             "outlinewidth": 0,
             "ticks": ""
            },
            "colorscale": [
             [
              0,
              "#0d0887"
             ],
             [
              0.1111111111111111,
              "#46039f"
             ],
             [
              0.2222222222222222,
              "#7201a8"
             ],
             [
              0.3333333333333333,
              "#9c179e"
             ],
             [
              0.4444444444444444,
              "#bd3786"
             ],
             [
              0.5555555555555556,
              "#d8576b"
             ],
             [
              0.6666666666666666,
              "#ed7953"
             ],
             [
              0.7777777777777778,
              "#fb9f3a"
             ],
             [
              0.8888888888888888,
              "#fdca26"
             ],
             [
              1,
              "#f0f921"
             ]
            ],
            "type": "heatmapgl"
           }
          ],
          "histogram": [
           {
            "marker": {
             "pattern": {
              "fillmode": "overlay",
              "size": 10,
              "solidity": 0.2
             }
            },
            "type": "histogram"
           }
          ],
          "histogram2d": [
           {
            "colorbar": {
             "outlinewidth": 0,
             "ticks": ""
            },
            "colorscale": [
             [
              0,
              "#0d0887"
             ],
             [
              0.1111111111111111,
              "#46039f"
             ],
             [
              0.2222222222222222,
              "#7201a8"
             ],
             [
              0.3333333333333333,
              "#9c179e"
             ],
             [
              0.4444444444444444,
              "#bd3786"
             ],
             [
              0.5555555555555556,
              "#d8576b"
             ],
             [
              0.6666666666666666,
              "#ed7953"
             ],
             [
              0.7777777777777778,
              "#fb9f3a"
             ],
             [
              0.8888888888888888,
              "#fdca26"
             ],
             [
              1,
              "#f0f921"
             ]
            ],
            "type": "histogram2d"
           }
          ],
          "histogram2dcontour": [
           {
            "colorbar": {
             "outlinewidth": 0,
             "ticks": ""
            },
            "colorscale": [
             [
              0,
              "#0d0887"
             ],
             [
              0.1111111111111111,
              "#46039f"
             ],
             [
              0.2222222222222222,
              "#7201a8"
             ],
             [
              0.3333333333333333,
              "#9c179e"
             ],
             [
              0.4444444444444444,
              "#bd3786"
             ],
             [
              0.5555555555555556,
              "#d8576b"
             ],
             [
              0.6666666666666666,
              "#ed7953"
             ],
             [
              0.7777777777777778,
              "#fb9f3a"
             ],
             [
              0.8888888888888888,
              "#fdca26"
             ],
             [
              1,
              "#f0f921"
             ]
            ],
            "type": "histogram2dcontour"
           }
          ],
          "mesh3d": [
           {
            "colorbar": {
             "outlinewidth": 0,
             "ticks": ""
            },
            "type": "mesh3d"
           }
          ],
          "parcoords": [
           {
            "line": {
             "colorbar": {
              "outlinewidth": 0,
              "ticks": ""
             }
            },
            "type": "parcoords"
           }
          ],
          "pie": [
           {
            "automargin": true,
            "type": "pie"
           }
          ],
          "scatter": [
           {
            "fillpattern": {
             "fillmode": "overlay",
             "size": 10,
             "solidity": 0.2
            },
            "type": "scatter"
           }
          ],
          "scatter3d": [
           {
            "line": {
             "colorbar": {
              "outlinewidth": 0,
              "ticks": ""
             }
            },
            "marker": {
             "colorbar": {
              "outlinewidth": 0,
              "ticks": ""
             }
            },
            "type": "scatter3d"
           }
          ],
          "scattercarpet": [
           {
            "marker": {
             "colorbar": {
              "outlinewidth": 0,
              "ticks": ""
             }
            },
            "type": "scattercarpet"
           }
          ],
          "scattergeo": [
           {
            "marker": {
             "colorbar": {
              "outlinewidth": 0,
              "ticks": ""
             }
            },
            "type": "scattergeo"
           }
          ],
          "scattergl": [
           {
            "marker": {
             "colorbar": {
              "outlinewidth": 0,
              "ticks": ""
             }
            },
            "type": "scattergl"
           }
          ],
          "scattermapbox": [
           {
            "marker": {
             "colorbar": {
              "outlinewidth": 0,
              "ticks": ""
             }
            },
            "type": "scattermapbox"
           }
          ],
          "scatterpolar": [
           {
            "marker": {
             "colorbar": {
              "outlinewidth": 0,
              "ticks": ""
             }
            },
            "type": "scatterpolar"
           }
          ],
          "scatterpolargl": [
           {
            "marker": {
             "colorbar": {
              "outlinewidth": 0,
              "ticks": ""
             }
            },
            "type": "scatterpolargl"
           }
          ],
          "scatterternary": [
           {
            "marker": {
             "colorbar": {
              "outlinewidth": 0,
              "ticks": ""
             }
            },
            "type": "scatterternary"
           }
          ],
          "surface": [
           {
            "colorbar": {
             "outlinewidth": 0,
             "ticks": ""
            },
            "colorscale": [
             [
              0,
              "#0d0887"
             ],
             [
              0.1111111111111111,
              "#46039f"
             ],
             [
              0.2222222222222222,
              "#7201a8"
             ],
             [
              0.3333333333333333,
              "#9c179e"
             ],
             [
              0.4444444444444444,
              "#bd3786"
             ],
             [
              0.5555555555555556,
              "#d8576b"
             ],
             [
              0.6666666666666666,
              "#ed7953"
             ],
             [
              0.7777777777777778,
              "#fb9f3a"
             ],
             [
              0.8888888888888888,
              "#fdca26"
             ],
             [
              1,
              "#f0f921"
             ]
            ],
            "type": "surface"
           }
          ],
          "table": [
           {
            "cells": {
             "fill": {
              "color": "#EBF0F8"
             },
             "line": {
              "color": "white"
             }
            },
            "header": {
             "fill": {
              "color": "#C8D4E3"
             },
             "line": {
              "color": "white"
             }
            },
            "type": "table"
           }
          ]
         },
         "layout": {
          "annotationdefaults": {
           "arrowcolor": "#2a3f5f",
           "arrowhead": 0,
           "arrowwidth": 1
          },
          "autotypenumbers": "strict",
          "coloraxis": {
           "colorbar": {
            "outlinewidth": 0,
            "ticks": ""
           }
          },
          "colorscale": {
           "diverging": [
            [
             0,
             "#8e0152"
            ],
            [
             0.1,
             "#c51b7d"
            ],
            [
             0.2,
             "#de77ae"
            ],
            [
             0.3,
             "#f1b6da"
            ],
            [
             0.4,
             "#fde0ef"
            ],
            [
             0.5,
             "#f7f7f7"
            ],
            [
             0.6,
             "#e6f5d0"
            ],
            [
             0.7,
             "#b8e186"
            ],
            [
             0.8,
             "#7fbc41"
            ],
            [
             0.9,
             "#4d9221"
            ],
            [
             1,
             "#276419"
            ]
           ],
           "sequential": [
            [
             0,
             "#0d0887"
            ],
            [
             0.1111111111111111,
             "#46039f"
            ],
            [
             0.2222222222222222,
             "#7201a8"
            ],
            [
             0.3333333333333333,
             "#9c179e"
            ],
            [
             0.4444444444444444,
             "#bd3786"
            ],
            [
             0.5555555555555556,
             "#d8576b"
            ],
            [
             0.6666666666666666,
             "#ed7953"
            ],
            [
             0.7777777777777778,
             "#fb9f3a"
            ],
            [
             0.8888888888888888,
             "#fdca26"
            ],
            [
             1,
             "#f0f921"
            ]
           ],
           "sequentialminus": [
            [
             0,
             "#0d0887"
            ],
            [
             0.1111111111111111,
             "#46039f"
            ],
            [
             0.2222222222222222,
             "#7201a8"
            ],
            [
             0.3333333333333333,
             "#9c179e"
            ],
            [
             0.4444444444444444,
             "#bd3786"
            ],
            [
             0.5555555555555556,
             "#d8576b"
            ],
            [
             0.6666666666666666,
             "#ed7953"
            ],
            [
             0.7777777777777778,
             "#fb9f3a"
            ],
            [
             0.8888888888888888,
             "#fdca26"
            ],
            [
             1,
             "#f0f921"
            ]
           ]
          },
          "colorway": [
           "#636efa",
           "#EF553B",
           "#00cc96",
           "#ab63fa",
           "#FFA15A",
           "#19d3f3",
           "#FF6692",
           "#B6E880",
           "#FF97FF",
           "#FECB52"
          ],
          "font": {
           "color": "#2a3f5f"
          },
          "geo": {
           "bgcolor": "white",
           "lakecolor": "white",
           "landcolor": "#E5ECF6",
           "showlakes": true,
           "showland": true,
           "subunitcolor": "white"
          },
          "hoverlabel": {
           "align": "left"
          },
          "hovermode": "closest",
          "mapbox": {
           "style": "light"
          },
          "paper_bgcolor": "white",
          "plot_bgcolor": "#E5ECF6",
          "polar": {
           "angularaxis": {
            "gridcolor": "white",
            "linecolor": "white",
            "ticks": ""
           },
           "bgcolor": "#E5ECF6",
           "radialaxis": {
            "gridcolor": "white",
            "linecolor": "white",
            "ticks": ""
           }
          },
          "scene": {
           "xaxis": {
            "backgroundcolor": "#E5ECF6",
            "gridcolor": "white",
            "gridwidth": 2,
            "linecolor": "white",
            "showbackground": true,
            "ticks": "",
            "zerolinecolor": "white"
           },
           "yaxis": {
            "backgroundcolor": "#E5ECF6",
            "gridcolor": "white",
            "gridwidth": 2,
            "linecolor": "white",
            "showbackground": true,
            "ticks": "",
            "zerolinecolor": "white"
           },
           "zaxis": {
            "backgroundcolor": "#E5ECF6",
            "gridcolor": "white",
            "gridwidth": 2,
            "linecolor": "white",
            "showbackground": true,
            "ticks": "",
            "zerolinecolor": "white"
           }
          },
          "shapedefaults": {
           "line": {
            "color": "#2a3f5f"
           }
          },
          "ternary": {
           "aaxis": {
            "gridcolor": "white",
            "linecolor": "white",
            "ticks": ""
           },
           "baxis": {
            "gridcolor": "white",
            "linecolor": "white",
            "ticks": ""
           },
           "bgcolor": "#E5ECF6",
           "caxis": {
            "gridcolor": "white",
            "linecolor": "white",
            "ticks": ""
           }
          },
          "title": {
           "x": 0.05
          },
          "xaxis": {
           "automargin": true,
           "gridcolor": "white",
           "linecolor": "white",
           "ticks": "",
           "title": {
            "standoff": 15
           },
           "zerolinecolor": "white",
           "zerolinewidth": 2
          },
          "yaxis": {
           "automargin": true,
           "gridcolor": "white",
           "linecolor": "white",
           "ticks": "",
           "title": {
            "standoff": 15
           },
           "zerolinecolor": "white",
           "zerolinewidth": 2
          }
         }
        },
        "title": {
         "text": "Total Gross of Disney Movies After Inflation by Genre Over the Years"
        },
        "xaxis": {
         "anchor": "y",
         "domain": [
          0,
          1
         ],
         "title": {
          "text": "Year"
         }
        },
        "yaxis": {
         "anchor": "x",
         "domain": [
          0,
          1
         ],
         "title": {
          "text": "Total Gross (After Inflation)"
         }
        }
       }
      }
     },
     "metadata": {},
     "output_type": "display_data"
    }
   ],
   "source": [
    "fig = px.scatter(disney, x='release_date', y='inflation_adjusted_gross', color='genre', title='Total Gross of Disney Movies After Inflation by Genre Over the Years')\n",
    "\n",
    "fig.update_layout(\n",
    "    xaxis_title='Year',\n",
    "    yaxis_title='Total Gross (After Inflation)',\n",
    "    legend_title_text='Movie Genre'\n",
    ")\n",
    "\n",
    "fig.show() "
   ]
  },
  {
   "cell_type": "markdown",
   "metadata": {},
   "source": [
    "After adjusting for inflation, the gross income of earlier Disney movies has increased, making \"Snow White and the Seven Dwarfs\" Disney's most valuable film."
   ]
  },
  {
   "cell_type": "code",
   "execution_count": 141,
   "metadata": {},
   "outputs": [
    {
     "data": {
      "application/vnd.plotly.v1+json": {
       "config": {
        "plotlyServerURL": "https://plot.ly"
       },
       "data": [
        {
         "hovertemplate": "mpaa_rating=G<br>release_date=%{x}<br>total_gross=%{y}<extra></extra>",
         "legendgroup": "G",
         "marker": {
          "color": "#636efa",
          "symbol": "circle"
         },
         "mode": "markers",
         "name": "G",
         "orientation": "v",
         "showlegend": true,
         "type": "scatter",
         "x": [
          "1937-12-21T00:00:00",
          "1940-02-09T00:00:00",
          "1940-11-13T00:00:00",
          "1946-11-12T00:00:00",
          "1950-02-15T00:00:00",
          "1955-06-22T00:00:00",
          "1961-01-25T00:00:00",
          "1961-12-14T00:00:00",
          "1970-04-24T00:00:00",
          "1988-11-18T00:00:00",
          "1989-11-15T00:00:00",
          "1990-08-03T00:00:00",
          "1990-11-16T00:00:00",
          "1991-11-13T00:00:00",
          "1992-11-11T00:00:00",
          "1992-12-11T00:00:00",
          "1993-02-03T00:00:00",
          "1994-06-15T00:00:00",
          "1995-04-07T00:00:00",
          "1995-06-10T00:00:00",
          "1995-11-22T00:00:00",
          "1996-02-16T00:00:00",
          "1996-03-08T00:00:00",
          "1996-06-21T00:00:00",
          "1996-11-27T00:00:00",
          "1997-06-13T00:00:00",
          "1998-06-19T00:00:00",
          "1998-11-20T00:00:00",
          "1999-03-26T00:00:00",
          "1999-06-16T00:00:00",
          "1999-10-15T00:00:00",
          "1999-11-19T00:00:00",
          "2000-01-01T00:00:00",
          "2000-02-11T00:00:00",
          "2000-06-16T00:00:00",
          "2000-11-22T00:00:00",
          "2000-12-15T00:00:00",
          "2001-02-16T00:00:00",
          "2001-08-03T00:00:00",
          "2001-11-02T00:00:00",
          "2002-01-01T00:00:00",
          "2002-02-15T00:00:00",
          "2002-03-29T00:00:00",
          "2002-07-26T00:00:00",
          "2002-11-01T00:00:00",
          "2003-02-14T00:00:00",
          "2003-03-21T00:00:00",
          "2003-04-11T00:00:00",
          "2003-05-30T00:00:00",
          "2003-10-24T00:00:00",
          "2003-12-25T00:00:00",
          "2004-08-11T00:00:00",
          "2005-01-28T00:00:00",
          "2005-02-11T00:00:00",
          "2005-03-18T00:00:00",
          "2005-06-22T00:00:00",
          "2005-08-19T00:00:00",
          "2005-11-04T00:00:00",
          "2006-01-27T00:00:00",
          "2006-04-14T00:00:00",
          "2006-06-09T00:00:00",
          "2006-11-03T00:00:00",
          "2007-03-30T00:00:00",
          "2007-06-29T00:00:00",
          "2008-02-01T00:00:00",
          "2008-03-07T00:00:00",
          "2008-06-27T00:00:00",
          "2008-10-24T00:00:00",
          "2009-02-27T00:00:00",
          "2009-04-10T00:00:00",
          "2009-04-22T00:00:00",
          "2009-08-14T00:00:00",
          "2009-10-02T00:00:00",
          "2009-11-25T00:00:00",
          "2010-04-22T00:00:00",
          "2010-06-18T00:00:00",
          "2011-02-11T00:00:00",
          "2011-04-22T00:00:00",
          "2011-06-24T00:00:00",
          "2011-07-15T00:00:00",
          "2012-02-17T00:00:00",
          "2012-04-20T00:00:00",
          "2013-06-21T00:00:00",
          "2014-04-18T00:00:00",
          "2015-04-17T00:00:00",
          "2016-04-29T00:00:00"
         ],
         "xaxis": "x",
         "y": [
          184925485,
          84300000,
          83320000,
          65000000,
          85000000,
          93600000,
          153000000,
          10218316,
          55675257,
          49576671,
          111543479,
          18075331,
          27931461,
          218951625,
          217350219,
          27281507,
          41833324,
          422780140,
          35336439,
          141579773,
          191796233,
          34327391,
          32709423,
          100138851,
          136189294,
          99112101,
          120620254,
          162798565,
          19421271,
          171091819,
          6197866,
          245852179,
          60507228,
          45542421,
          9103630,
          66941559,
          89296573,
          36696761,
          108244774,
          289423425,
          25487028,
          48430258,
          75600072,
          16988996,
          139225854,
          47901582,
          23103423,
          17093668,
          380529370,
          85336277,
          6751389,
          95149435,
          8968684,
          18098433,
          24381334,
          66010682,
          19478106,
          135386665,
          10407978,
          37384046,
          244082982,
          84500122,
          97822171,
          206445654,
          65281781,
          45610425,
          223808164,
          90559416,
          38174685,
          79576189,
          32011576,
          15090399,
          30702446,
          104400899,
          19422319,
          415004880,
          99967670,
          15428747,
          191450875,
          26692846,
          19192510,
          28965459,
          268488329,
          17780194,
          16432322,
          7895708
         ],
         "yaxis": "y"
        },
        {
         "hovertemplate": "mpaa_rating=Not Rated<br>release_date=%{x}<br>total_gross=%{y}<extra></extra>",
         "legendgroup": "Not Rated",
         "marker": {
          "color": "#EF553B",
          "symbol": "circle"
         },
         "mode": "markers",
         "name": "Not Rated",
         "orientation": "v",
         "showlegend": true,
         "type": "scatter",
         "x": [
          "1954-12-23T00:00:00",
          "1959-01-29T00:00:00",
          "1961-03-16T00:00:00",
          "1962-05-17T00:00:00",
          "1963-12-25T00:00:00",
          "1967-10-18T00:00:00",
          "1968-02-08T00:00:00",
          "1970-07-01T00:00:00",
          "1971-10-07T00:00:00",
          "1975-07-01T00:00:00",
          "1977-01-21T00:00:00",
          "1977-03-11T00:00:00",
          "1977-06-22T00:00:00",
          "1977-06-24T00:00:00",
          "1979-12-21T00:00:00",
          "1980-02-08T00:00:00",
          "1980-06-25T00:00:00",
          "1981-01-01T00:00:00",
          "1981-03-20T00:00:00",
          "1981-07-10T00:00:00",
          "1981-08-07T00:00:00",
          "1982-02-05T00:00:00",
          "1982-07-09T00:00:00",
          "1982-11-19T00:00:00",
          "1983-03-11T00:00:00",
          "1983-04-29T00:00:00",
          "1983-10-07T00:00:00",
          "1983-11-04T00:00:00",
          "1984-09-29T00:00:00",
          "1985-03-22T00:00:00",
          "1985-06-21T00:00:00",
          "1985-07-24T00:00:00",
          "1985-08-09T00:00:00",
          "1985-09-27T00:00:00",
          "1985-11-22T00:00:00",
          "1986-04-11T00:00:00",
          "1986-07-02T00:00:00",
          "1986-07-30T00:00:00",
          "1986-10-03T00:00:00",
          "1987-03-06T00:00:00",
          "1987-05-22T00:00:00",
          "1987-06-05T00:00:00",
          "1987-07-03T00:00:00",
          "1987-08-14T00:00:00",
          "1987-11-06T00:00:00",
          "1988-02-12T00:00:00",
          "1988-03-18T00:00:00",
          "1988-08-05T00:00:00",
          "1988-09-30T00:00:00",
          "1988-11-04T00:00:00",
          "1989-04-14T00:00:00",
          "1989-08-18T00:00:00",
          "1990-02-23T00:00:00",
          "1991-02-22T00:00:00",
          "1991-05-24T00:00:00",
          "1994-04-08T00:00:00",
          "1994-08-26T00:00:00",
          "2002-01-01T00:00:00",
          "2004-07-02T00:00:00"
         ],
         "xaxis": "x",
         "y": [
          28200000,
          9464608,
          25381407,
          9230769,
          22182353,
          141843000,
          21540050,
          18607492,
          17871174,
          31916500,
          25942000,
          0,
          48775599,
          28000000,
          35841901,
          2900000,
          11000000,
          16000000,
          0,
          43899231,
          0,
          4500000,
          26918576,
          7199408,
          4304286,
          5656087,
          27668764,
          1204595,
          8400000,
          14276095,
          10618813,
          21288692,
          4100000,
          9468512,
          13229514,
          4842778,
          23605534,
          18564613,
          21458229,
          25411386,
          23509382,
          15212539,
          33790923,
          31623833,
          20419446,
          29300000,
          12706478,
          5855392,
          5509417,
          4764606,
          7210149,
          7882250,
          1106475,
          9563393,
          7300000,
          713234,
          60822,
          0,
          314000
         ],
         "yaxis": "y"
        },
        {
         "hovertemplate": "mpaa_rating=PG<br>release_date=%{x}<br>total_gross=%{y}<extra></extra>",
         "legendgroup": "PG",
         "marker": {
          "color": "#00cc96",
          "symbol": "circle"
         },
         "mode": "markers",
         "name": "PG",
         "orientation": "v",
         "showlegend": true,
         "type": "scatter",
         "x": [
          "1984-03-09T00:00:00",
          "1987-11-25T00:00:00",
          "1988-04-15T00:00:00",
          "1988-06-10T00:00:00",
          "1988-06-22T00:00:00",
          "1988-11-11T00:00:00",
          "1989-03-01T00:00:00",
          "1989-06-02T00:00:00",
          "1989-06-23T00:00:00",
          "1989-07-28T00:00:00",
          "1990-04-06T00:00:00",
          "1990-04-27T00:00:00",
          "1990-06-15T00:00:00",
          "1990-11-21T00:00:00",
          "1991-01-18T00:00:00",
          "1991-03-01T00:00:00",
          "1991-04-26T00:00:00",
          "1991-05-17T00:00:00",
          "1991-06-21T00:00:00",
          "1991-10-11T00:00:00",
          "1991-12-20T00:00:00",
          "1992-04-03T00:00:00",
          "1992-04-08T00:00:00",
          "1992-05-22T00:00:00",
          "1992-05-29T00:00:00",
          "1992-07-17T00:00:00",
          "1992-08-07T00:00:00",
          "1992-10-02T00:00:00",
          "1993-03-12T00:00:00",
          "1993-03-26T00:00:00",
          "1993-04-02T00:00:00",
          "1993-05-28T00:00:00",
          "1993-06-04T00:00:00",
          "1993-07-16T00:00:00",
          "1993-10-01T00:00:00",
          "1993-10-13T00:00:00",
          "1993-11-12T00:00:00",
          "1993-12-10T00:00:00",
          "1994-01-07T00:00:00",
          "1994-01-14T00:00:00",
          "1994-02-11T00:00:00",
          "1994-03-25T00:00:00",
          "1994-04-15T00:00:00",
          "1994-05-06T00:00:00",
          "1994-06-29T00:00:00",
          "1994-07-15T00:00:00",
          "1994-08-12T00:00:00",
          "1994-08-26T00:00:00",
          "1994-10-28T00:00:00",
          "1994-11-11T00:00:00",
          "1994-12-25T00:00:00",
          "1995-01-06T00:00:00",
          "1995-02-17T00:00:00",
          "1995-03-03T00:00:00",
          "1995-03-03T00:00:00",
          "1995-03-24T00:00:00",
          "1995-03-28T00:00:00",
          "1995-04-21T00:00:00",
          "1995-07-28T00:00:00",
          "1995-08-11T00:00:00",
          "1995-09-15T00:00:00",
          "1995-09-29T00:00:00",
          "1995-12-08T00:00:00",
          "1995-12-22T00:00:00",
          "1995-12-29T00:00:00",
          "1996-03-22T00:00:00",
          "1996-04-12T00:00:00",
          "1996-07-05T00:00:00",
          "1996-07-17T00:00:00",
          "1996-08-30T00:00:00",
          "1996-10-04T00:00:00",
          "1996-12-13T00:00:00",
          "1996-12-25T00:00:00",
          "1997-02-14T00:00:00",
          "1997-03-07T00:00:00",
          "1997-05-30T00:00:00",
          "1997-07-16T00:00:00",
          "1997-08-01T00:00:00",
          "1997-10-05T00:00:00",
          "1997-10-10T00:00:00",
          "1997-11-26T00:00:00",
          "1997-12-25T00:00:00",
          "1998-03-27T00:00:00",
          "1998-07-29T00:00:00",
          "1998-09-11T00:00:00",
          "1998-10-09T00:00:00",
          "1998-11-13T00:00:00",
          "1998-12-25T00:00:00",
          "1999-02-12T00:00:00",
          "1999-05-14T00:00:00",
          "1999-07-23T00:00:00",
          "1999-12-17T00:00:00",
          "2000-03-10T00:00:00",
          "2000-05-19T00:00:00",
          "2000-07-07T00:00:00",
          "2000-09-29T00:00:00",
          "2001-06-08T00:00:00",
          "2001-10-05T00:00:00",
          "2002-01-18T00:00:00",
          "2002-05-10T00:00:00",
          "2002-06-21T00:00:00",
          "2002-09-20T00:00:00",
          "2002-10-11T00:00:00",
          "2002-11-27T00:00:00",
          "2003-04-18T00:00:00",
          "2003-05-02T00:00:00",
          "2003-08-06T00:00:00",
          "2003-11-26T00:00:00",
          "2004-01-16T00:00:00",
          "2004-02-06T00:00:00",
          "2004-02-20T00:00:00",
          "2004-04-02T00:00:00",
          "2004-06-16T00:00:00",
          "2004-11-05T00:00:00",
          "2004-11-19T00:00:00",
          "2005-03-04T00:00:00",
          "2005-04-29T00:00:00",
          "2005-06-10T00:00:00",
          "2005-07-29T00:00:00",
          "2005-09-30T00:00:00",
          "2005-12-09T00:00:00",
          "2006-01-13T00:00:00",
          "2006-02-17T00:00:00",
          "2006-03-10T00:00:00",
          "2006-05-12T00:00:00",
          "2006-08-25T00:00:00",
          "2006-10-20T00:00:00",
          "2007-02-16T00:00:00",
          "2007-08-03T00:00:00",
          "2007-09-22T00:00:00",
          "2007-11-21T00:00:00",
          "2007-12-21T00:00:00",
          "2008-05-16T00:00:00",
          "2008-10-03T00:00:00",
          "2008-10-17T00:00:00",
          "2008-11-21T00:00:00",
          "2008-12-25T00:00:00",
          "2009-02-13T00:00:00",
          "2009-03-13T00:00:00",
          "2009-05-29T00:00:00",
          "2009-07-24T00:00:00",
          "2009-08-21T00:00:00",
          "2009-09-10T00:00:00",
          "2009-11-06T00:00:00",
          "2009-11-25T00:00:00",
          "2010-03-05T00:00:00",
          "2010-03-26T00:00:00",
          "2010-03-31T00:00:00",
          "2010-07-14T00:00:00",
          "2010-09-24T00:00:00",
          "2010-10-08T00:00:00",
          "2010-11-24T00:00:00",
          "2010-12-17T00:00:00",
          "2011-03-11T00:00:00",
          "2011-04-22T00:00:00",
          "2011-04-29T00:00:00",
          "2011-11-23T00:00:00",
          "2012-06-22T00:00:00",
          "2012-08-15T00:00:00",
          "2012-10-05T00:00:00",
          "2012-11-02T00:00:00",
          "2013-03-08T00:00:00",
          "2013-08-09T00:00:00",
          "2013-11-22T00:00:00",
          "2014-03-21T00:00:00",
          "2014-05-10T00:00:00",
          "2014-05-30T00:00:00",
          "2014-07-18T00:00:00",
          "2014-08-08T00:00:00",
          "2014-10-10T00:00:00",
          "2014-11-07T00:00:00",
          "2014-12-25T00:00:00",
          "2015-01-23T00:00:00",
          "2015-02-20T00:00:00",
          "2015-03-13T00:00:00",
          "2015-05-22T00:00:00",
          "2015-06-19T00:00:00",
          "2015-11-25T00:00:00",
          "2016-01-29T00:00:00",
          "2016-03-04T00:00:00",
          "2016-04-15T00:00:00",
          "2016-05-27T00:00:00",
          "2016-06-17T00:00:00",
          "2016-07-01T00:00:00",
          "2016-08-12T00:00:00",
          "2016-09-23T00:00:00",
          "2016-11-23T00:00:00"
         ],
         "xaxis": "x",
         "y": [
          62599495,
          167780960,
          13687027,
          40150487,
          154112492,
          28202109,
          10763469,
          95860116,
          130724172,
          71079915,
          25029569,
          15000000,
          103738726,
          71609321,
          34729091,
          15024232,
          23562716,
          63710000,
          46573027,
          14143280,
          89325780,
          21202099,
          2706352,
          40057130,
          139605150,
          58662452,
          29028000,
          50752337,
          12890752,
          17760754,
          24103594,
          20844907,
          12349549,
          39360491,
          68856263,
          50408318,
          53661805,
          57319029,
          20782439,
          20623071,
          30573770,
          45604206,
          8752399,
          11744960,
          30806194,
          50236831,
          28881266,
          10442641,
          3319344,
          144833357,
          44342956,
          26325256,
          17671310,
          40029009,
          12076989,
          8247627,
          468240,
          81057016,
          24670346,
          13406717,
          7929000,
          17736619,
          76578911,
          23837227,
          82582604,
          1029731,
          28921264,
          104636382,
          18880508,
          26465920,
          22936273,
          48102795,
          50047179,
          18301828,
          59925026,
          19745922,
          105263257,
          24646936,
          1775644,
          15448043,
          92993801,
          21437192,
          4356126,
          66308518,
          18253415,
          12069719,
          12214338,
          50632037,
          36850101,
          229128,
          97387965,
          58220776,
          60874615,
          137748063,
          69688384,
          115654751,
          84052762,
          17292381,
          81150692,
          4197175,
          145771527,
          10049886,
          19161999,
          38120554,
          67383924,
          42734455,
          110222438,
          75817994,
          6491969,
          64378093,
          29331068,
          50026353,
          24004159,
          261441092,
          173005002,
          113006880,
          51019112,
          4710455,
          63939454,
          15331289,
          291710957,
          42647449,
          81612565,
          61123569,
          4283255,
          57806952,
          24732041,
          82234139,
          43760605,
          90648202,
          127706877,
          219961501,
          141621490,
          94514402,
          275093,
          114053759,
          110101975,
          44277350,
          67172594,
          293004164,
          119436770,
          1391434,
          20521,
          137855863,
          49492060,
          334191110,
          80741,
          62950384,
          63150991,
          25702053,
          59699513,
          200821936,
          172062763,
          21392758,
          2815,
          10130219,
          88625922,
          237282182,
          51853450,
          35287788,
          189412677,
          234770996,
          90282580,
          400738009,
          51178893,
          36447959,
          241407328,
          59157732,
          54235441,
          66954149,
          222527828,
          128002372,
          12429583,
          44480275,
          201151353,
          93436322,
          356461711,
          123087120,
          27569558,
          341268248,
          364001123,
          77042381,
          486295561,
          55483770,
          76233151,
          8874389,
          246082029
         ],
         "yaxis": "y"
        },
        {
         "hovertemplate": "mpaa_rating=R<br>release_date=%{x}<br>total_gross=%{y}<extra></extra>",
         "legendgroup": "R",
         "marker": {
          "color": "#ab63fa",
          "symbol": "circle"
         },
         "mode": "markers",
         "name": "R",
         "orientation": "v",
         "showlegend": true,
         "type": "scatter",
         "x": [
          "1986-01-31T00:00:00",
          "1986-06-27T00:00:00",
          "1986-10-17T00:00:00",
          "1987-01-30T00:00:00",
          "1987-08-05T00:00:00",
          "1987-12-23T00:00:00",
          "1988-07-29T00:00:00",
          "1989-10-06T00:00:00",
          "1989-12-13T00:00:00",
          "1990-03-23T00:00:00",
          "1990-06-22T00:00:00",
          "1990-08-17T00:00:00",
          "1991-04-05T00:00:00",
          "1991-05-03T00:00:00",
          "1991-11-01T00:00:00",
          "1992-01-10T00:00:00",
          "1992-09-25T00:00:00",
          "1992-10-16T00:00:00",
          "1992-12-04T00:00:00",
          "1993-01-15T00:00:00",
          "1993-04-16T00:00:00",
          "1993-04-23T00:00:00",
          "1993-06-04T00:00:00",
          "1993-06-09T00:00:00",
          "1993-09-08T00:00:00",
          "1993-09-10T00:00:00",
          "1993-09-24T00:00:00",
          "1993-12-25T00:00:00",
          "1994-01-28T00:00:00",
          "1994-03-04T00:00:00",
          "1994-03-09T00:00:00",
          "1994-04-22T00:00:00",
          "1994-04-29T00:00:00",
          "1994-08-19T00:00:00",
          "1994-09-30T00:00:00",
          "1994-10-21T00:00:00",
          "1994-11-23T00:00:00",
          "1995-01-20T00:00:00",
          "1995-02-03T00:00:00",
          "1995-03-31T00:00:00",
          "1995-05-12T00:00:00",
          "1995-06-30T00:00:00",
          "1995-08-11T00:00:00",
          "1995-09-08T00:00:00",
          "1995-10-04T00:00:00",
          "1995-10-13T00:00:00",
          "1995-10-13T00:00:00",
          "1995-12-20T00:00:00",
          "1996-05-03T00:00:00",
          "1996-06-07T00:00:00",
          "1996-09-13T00:00:00",
          "1996-11-08T00:00:00",
          "1996-11-20T00:00:00",
          "1997-01-17T00:00:00",
          "1997-01-31T00:00:00",
          "1997-04-11T00:00:00",
          "1997-04-25T00:00:00",
          "1997-06-06T00:00:00",
          "1997-07-18T00:00:00",
          "1997-08-22T00:00:00",
          "1997-09-19T00:00:00",
          "1997-10-17T00:00:00",
          "1997-12-25T00:00:00",
          "1998-01-30T00:00:00",
          "1998-02-27T00:00:00",
          "1998-05-01T00:00:00",
          "1998-09-04T00:00:00",
          "1998-10-16T00:00:00",
          "1998-11-20T00:00:00",
          "1998-12-11T00:00:00",
          "1999-06-04T00:00:00",
          "1999-07-02T00:00:00",
          "1999-08-27T00:00:00",
          "1999-09-17T00:00:00",
          "1999-09-24T00:00:00",
          "1999-10-01T00:00:00",
          "1999-11-05T00:00:00",
          "1999-12-08T00:00:00",
          "1999-12-10T00:00:00",
          "1999-12-24T00:00:00",
          "2000-02-04T00:00:00",
          "2000-03-31T00:00:00",
          "2000-09-15T00:00:00",
          "2001-10-26T00:00:00",
          "2001-12-14T00:00:00",
          "2002-03-22T00:00:00",
          "2002-12-19T00:00:00",
          "2003-08-15T00:00:00",
          "2003-09-19T00:00:00",
          "2003-10-17T00:00:00",
          "2004-03-26T00:00:00",
          "2004-09-24T00:00:00",
          "2004-12-10T00:00:00",
          "2005-10-21T00:00:00",
          "2005-12-25T00:00:00",
          "2006-12-08T00:00:00",
          "2007-01-12T00:00:00",
          "2007-03-30T00:00:00",
          "2007-04-06T00:00:00",
          "2008-09-26T00:00:00",
          "2011-08-19T00:00:00",
          "2013-10-18T00:00:00"
         ],
         "xaxis": "x",
         "y": [
          62134225,
          71624879,
          52293000,
          52864741,
          65673233,
          123922370,
          78222753,
          19397847,
          19049727,
          178406268,
          19740070,
          20005435,
          12454768,
          11276846,
          15565363,
          88036683,
          4877567,
          21591728,
          46434570,
          36299670,
          4496583,
          14717851,
          22622537,
          39100956,
          32790064,
          1044824,
          23042200,
          56505065,
          2502551,
          9252349,
          11325885,
          8864699,
          50021959,
          19750470,
          5828466,
          8579626,
          29317886,
          3523909,
          7555256,
          529135,
          91387195,
          34687912,
          84919401,
          5762795,
          24120194,
          10359006,
          293274,
          13668249,
          5857534,
          134069511,
          8538318,
          136492681,
          34368,
          32017895,
          2154540,
          28084357,
          29235353,
          101117573,
          44480039,
          48169156,
          7928412,
          4166918,
          26570463,
          11203026,
          45779,
          21567853,
          784419,
          22852487,
          111549836,
          17105219,
          34105207,
          19288130,
          32698899,
          178287,
          4559569,
          8891623,
          28965197,
          2899970,
          65535067,
          8427204,
          1638202,
          27277055,
          4734235,
          226792,
          52353636,
          10198766,
          13084595,
          58331254,
          21384035,
          1569918,
          39692139,
          463730,
          24006726,
          10284523,
          11304403,
          50866635,
          10597734,
          4600585,
          7164995,
          7916887,
          18298649,
          3254172
         ],
         "yaxis": "y"
        },
        {
         "hovertemplate": "mpaa_rating=PG-13<br>release_date=%{x}<br>total_gross=%{y}<extra></extra>",
         "legendgroup": "PG-13",
         "marker": {
          "color": "#FFA15A",
          "symbol": "circle"
         },
         "mode": "markers",
         "name": "PG-13",
         "orientation": "v",
         "showlegend": true,
         "type": "scatter",
         "x": [
          "1988-12-21T00:00:00",
          "1989-01-27T00:00:00",
          "1989-10-20T00:00:00",
          "1990-02-02T00:00:00",
          "1990-05-24T00:00:00",
          "1990-07-18T00:00:00",
          "1990-10-12T00:00:00",
          "1990-12-25T00:00:00",
          "1991-07-24T00:00:00",
          "1991-09-18T00:00:00",
          "1991-09-27T00:00:00",
          "1992-02-07T00:00:00",
          "1992-03-06T00:00:00",
          "1992-03-20T00:00:00",
          "1992-04-24T00:00:00",
          "1992-07-17T00:00:00",
          "1992-08-21T00:00:00",
          "1992-09-18T00:00:00",
          "1992-09-18T00:00:00",
          "1992-10-09T00:00:00",
          "1993-01-22T00:00:00",
          "1993-02-03T00:00:00",
          "1993-03-05T00:00:00",
          "1993-07-02T00:00:00",
          "1993-07-23T00:00:00",
          "1993-08-06T00:00:00",
          "1993-08-27T00:00:00",
          "1994-01-07T00:00:00",
          "1994-06-03T00:00:00",
          "1994-09-02T00:00:00",
          "1994-09-14T00:00:00",
          "1994-09-23T00:00:00",
          "1995-01-27T00:00:00",
          "1995-03-31T00:00:00",
          "1995-05-26T00:00:00",
          "1995-10-27T00:00:00",
          "1996-02-02T00:00:00",
          "1996-02-16T00:00:00",
          "1996-02-23T00:00:00",
          "1996-03-01T00:00:00",
          "1996-03-15T00:00:00",
          "1996-04-19T00:00:00",
          "1996-05-10T00:00:00",
          "1996-05-24T00:00:00",
          "1996-05-31T00:00:00",
          "1996-08-09T00:00:00",
          "1996-10-25T00:00:00",
          "1997-01-24T00:00:00",
          "1997-03-28T00:00:00",
          "1997-12-25T00:00:00",
          "1998-02-27T00:00:00",
          "1998-05-15T00:00:00",
          "1998-06-12T00:00:00",
          "1998-07-01T00:00:00",
          "1998-07-24T00:00:00",
          "1998-11-06T00:00:00",
          "1998-12-25T00:00:00",
          "1999-02-26T00:00:00",
          "1999-03-31T00:00:00",
          "1999-08-06T00:00:00",
          "2000-04-14T00:00:00",
          "2000-05-26T00:00:00",
          "2000-06-09T00:00:00",
          "2000-08-04T00:00:00",
          "2000-08-25T00:00:00",
          "2000-11-22T00:00:00",
          "2000-12-22T00:00:00",
          "2001-01-12T00:00:00",
          "2001-04-06T00:00:00",
          "2001-05-25T00:00:00",
          "2001-06-29T00:00:00",
          "2001-08-24T00:00:00",
          "2001-10-12T00:00:00",
          "2001-11-21T00:00:00",
          "2002-01-25T00:00:00",
          "2002-02-19T00:00:00",
          "2002-04-05T00:00:00",
          "2002-06-07T00:00:00",
          "2002-08-02T00:00:00",
          "2002-09-27T00:00:00",
          "2002-09-27T00:00:00",
          "2002-12-13T00:00:00",
          "2003-01-31T00:00:00",
          "2003-02-07T00:00:00",
          "2003-03-07T00:00:00",
          "2003-07-09T00:00:00",
          "2003-09-26T00:00:00",
          "2003-12-19T00:00:00",
          "2004-03-05T00:00:00",
          "2004-04-09T00:00:00",
          "2004-05-28T00:00:00",
          "2004-07-07T00:00:00",
          "2004-07-30T00:00:00",
          "2004-09-17T00:00:00",
          "2004-10-01T00:00:00",
          "2005-04-22T00:00:00",
          "2005-07-08T00:00:00",
          "2005-09-23T00:00:00",
          "2006-01-27T00:00:00",
          "2006-03-24T00:00:00",
          "2006-04-28T00:00:00",
          "2006-07-07T00:00:00",
          "2006-08-11T00:00:00",
          "2006-09-29T00:00:00",
          "2006-10-20T00:00:00",
          "2006-11-22T00:00:00",
          "2007-03-02T00:00:00",
          "2007-04-27T00:00:00",
          "2007-05-24T00:00:00",
          "2007-10-20T00:00:00",
          "2008-02-14T00:00:00",
          "2008-08-01T00:00:00",
          "2008-08-29T00:00:00",
          "2009-06-19T00:00:00",
          "2009-09-25T00:00:00",
          "2010-01-29T00:00:00",
          "2010-05-28T00:00:00",
          "2010-08-06T00:00:00",
          "2010-08-13T00:00:00",
          "2011-02-18T00:00:00",
          "2011-05-20T00:00:00",
          "2011-08-10T00:00:00",
          "2011-10-07T00:00:00",
          "2011-12-25T00:00:00",
          "2012-03-09T00:00:00",
          "2012-05-04T00:00:00",
          "2012-06-29T00:00:00",
          "2012-11-09T00:00:00",
          "2013-05-03T00:00:00",
          "2013-07-02T00:00:00",
          "2013-11-08T00:00:00",
          "2013-11-08T00:00:00",
          "2013-11-22T00:00:00",
          "2013-12-13T00:00:00",
          "2014-03-14T00:00:00",
          "2014-04-04T00:00:00",
          "2014-08-01T00:00:00",
          "2015-05-01T00:00:00",
          "2015-07-17T00:00:00",
          "2015-10-16T00:00:00",
          "2015-12-18T00:00:00",
          "2016-05-06T00:00:00",
          "2016-09-02T00:00:00",
          "2016-11-04T00:00:00",
          "2016-12-16T00:00:00"
         ],
         "xaxis": "x",
         "y": [
          57041866,
          40590000,
          11346186,
          20062347,
          14760451,
          53208180,
          15379253,
          29804169,
          37497480,
          18634643,
          28738096,
          44948240,
          2891055,
          2280148,
          4030793,
          12282994,
          3591460,
          22518097,
          7306242,
          7099531,
          7843388,
          5583621,
          5632086,
          25989889,
          20107504,
          3218882,
          3268203,
          3469493,
          24172899,
          3404935,
          24787282,
          16478900,
          5086578,
          2461628,
          15446532,
          30833914,
          10229300,
          12805071,
          8642118,
          51045801,
          1078555,
          9240378,
          21930418,
          26936265,
          31369401,
          58617334,
          12772657,
          590817,
          14765099,
          5686694,
          7571115,
          75383563,
          74339294,
          201578182,
          19843795,
          161491646,
          56709981,
          27807627,
          38177966,
          293506292,
          37036404,
          56932305,
          101643008,
          60786269,
          13019253,
          94999143,
          45506619,
          29823162,
          4777007,
          198539855,
          16929123,
          5002310,
          23978402,
          13906394,
          54228104,
          43061982,
          7262288,
          30157016,
          227965690,
          127214072,
          6830957,
          35081550,
          52784696,
          60470220,
          132675402,
          305411224,
          43601508,
          31011616,
          67286731,
          22406362,
          37485528,
          51877963,
          114197520,
          21800302,
          74541707,
          21835784,
          25473093,
          89706988,
          17127992,
          23086480,
          26910736,
          423315812,
          65328121,
          55011732,
          53089891,
          64038616,
          168213584,
          20568319,
          309420425,
          47642963,
          58017783,
          16289867,
          225067,
          163958031,
          38577772,
          32680633,
          90759676,
          42400223,
          48658,
          55100437,
          241063875,
          169705587,
          85463309,
          79883359,
          73058679,
          623279547,
          12431792,
          182207973,
          408992272,
          89302115,
          206362140,
          5201879,
          30659817,
          83299761,
          43568507,
          259746958,
          333172112,
          459005868,
          180202163,
          72313754,
          936662225,
          408084349,
          12545979,
          232532923,
          529483936
         ],
         "yaxis": "y"
        }
       ],
       "layout": {
        "legend": {
         "title": {
          "text": "MPAA Rating"
         },
         "tracegroupgap": 0
        },
        "template": {
         "data": {
          "bar": [
           {
            "error_x": {
             "color": "#2a3f5f"
            },
            "error_y": {
             "color": "#2a3f5f"
            },
            "marker": {
             "line": {
              "color": "#E5ECF6",
              "width": 0.5
             },
             "pattern": {
              "fillmode": "overlay",
              "size": 10,
              "solidity": 0.2
             }
            },
            "type": "bar"
           }
          ],
          "barpolar": [
           {
            "marker": {
             "line": {
              "color": "#E5ECF6",
              "width": 0.5
             },
             "pattern": {
              "fillmode": "overlay",
              "size": 10,
              "solidity": 0.2
             }
            },
            "type": "barpolar"
           }
          ],
          "carpet": [
           {
            "aaxis": {
             "endlinecolor": "#2a3f5f",
             "gridcolor": "white",
             "linecolor": "white",
             "minorgridcolor": "white",
             "startlinecolor": "#2a3f5f"
            },
            "baxis": {
             "endlinecolor": "#2a3f5f",
             "gridcolor": "white",
             "linecolor": "white",
             "minorgridcolor": "white",
             "startlinecolor": "#2a3f5f"
            },
            "type": "carpet"
           }
          ],
          "choropleth": [
           {
            "colorbar": {
             "outlinewidth": 0,
             "ticks": ""
            },
            "type": "choropleth"
           }
          ],
          "contour": [
           {
            "colorbar": {
             "outlinewidth": 0,
             "ticks": ""
            },
            "colorscale": [
             [
              0,
              "#0d0887"
             ],
             [
              0.1111111111111111,
              "#46039f"
             ],
             [
              0.2222222222222222,
              "#7201a8"
             ],
             [
              0.3333333333333333,
              "#9c179e"
             ],
             [
              0.4444444444444444,
              "#bd3786"
             ],
             [
              0.5555555555555556,
              "#d8576b"
             ],
             [
              0.6666666666666666,
              "#ed7953"
             ],
             [
              0.7777777777777778,
              "#fb9f3a"
             ],
             [
              0.8888888888888888,
              "#fdca26"
             ],
             [
              1,
              "#f0f921"
             ]
            ],
            "type": "contour"
           }
          ],
          "contourcarpet": [
           {
            "colorbar": {
             "outlinewidth": 0,
             "ticks": ""
            },
            "type": "contourcarpet"
           }
          ],
          "heatmap": [
           {
            "colorbar": {
             "outlinewidth": 0,
             "ticks": ""
            },
            "colorscale": [
             [
              0,
              "#0d0887"
             ],
             [
              0.1111111111111111,
              "#46039f"
             ],
             [
              0.2222222222222222,
              "#7201a8"
             ],
             [
              0.3333333333333333,
              "#9c179e"
             ],
             [
              0.4444444444444444,
              "#bd3786"
             ],
             [
              0.5555555555555556,
              "#d8576b"
             ],
             [
              0.6666666666666666,
              "#ed7953"
             ],
             [
              0.7777777777777778,
              "#fb9f3a"
             ],
             [
              0.8888888888888888,
              "#fdca26"
             ],
             [
              1,
              "#f0f921"
             ]
            ],
            "type": "heatmap"
           }
          ],
          "heatmapgl": [
           {
            "colorbar": {
             "outlinewidth": 0,
             "ticks": ""
            },
            "colorscale": [
             [
              0,
              "#0d0887"
             ],
             [
              0.1111111111111111,
              "#46039f"
             ],
             [
              0.2222222222222222,
              "#7201a8"
             ],
             [
              0.3333333333333333,
              "#9c179e"
             ],
             [
              0.4444444444444444,
              "#bd3786"
             ],
             [
              0.5555555555555556,
              "#d8576b"
             ],
             [
              0.6666666666666666,
              "#ed7953"
             ],
             [
              0.7777777777777778,
              "#fb9f3a"
             ],
             [
              0.8888888888888888,
              "#fdca26"
             ],
             [
              1,
              "#f0f921"
             ]
            ],
            "type": "heatmapgl"
           }
          ],
          "histogram": [
           {
            "marker": {
             "pattern": {
              "fillmode": "overlay",
              "size": 10,
              "solidity": 0.2
             }
            },
            "type": "histogram"
           }
          ],
          "histogram2d": [
           {
            "colorbar": {
             "outlinewidth": 0,
             "ticks": ""
            },
            "colorscale": [
             [
              0,
              "#0d0887"
             ],
             [
              0.1111111111111111,
              "#46039f"
             ],
             [
              0.2222222222222222,
              "#7201a8"
             ],
             [
              0.3333333333333333,
              "#9c179e"
             ],
             [
              0.4444444444444444,
              "#bd3786"
             ],
             [
              0.5555555555555556,
              "#d8576b"
             ],
             [
              0.6666666666666666,
              "#ed7953"
             ],
             [
              0.7777777777777778,
              "#fb9f3a"
             ],
             [
              0.8888888888888888,
              "#fdca26"
             ],
             [
              1,
              "#f0f921"
             ]
            ],
            "type": "histogram2d"
           }
          ],
          "histogram2dcontour": [
           {
            "colorbar": {
             "outlinewidth": 0,
             "ticks": ""
            },
            "colorscale": [
             [
              0,
              "#0d0887"
             ],
             [
              0.1111111111111111,
              "#46039f"
             ],
             [
              0.2222222222222222,
              "#7201a8"
             ],
             [
              0.3333333333333333,
              "#9c179e"
             ],
             [
              0.4444444444444444,
              "#bd3786"
             ],
             [
              0.5555555555555556,
              "#d8576b"
             ],
             [
              0.6666666666666666,
              "#ed7953"
             ],
             [
              0.7777777777777778,
              "#fb9f3a"
             ],
             [
              0.8888888888888888,
              "#fdca26"
             ],
             [
              1,
              "#f0f921"
             ]
            ],
            "type": "histogram2dcontour"
           }
          ],
          "mesh3d": [
           {
            "colorbar": {
             "outlinewidth": 0,
             "ticks": ""
            },
            "type": "mesh3d"
           }
          ],
          "parcoords": [
           {
            "line": {
             "colorbar": {
              "outlinewidth": 0,
              "ticks": ""
             }
            },
            "type": "parcoords"
           }
          ],
          "pie": [
           {
            "automargin": true,
            "type": "pie"
           }
          ],
          "scatter": [
           {
            "fillpattern": {
             "fillmode": "overlay",
             "size": 10,
             "solidity": 0.2
            },
            "type": "scatter"
           }
          ],
          "scatter3d": [
           {
            "line": {
             "colorbar": {
              "outlinewidth": 0,
              "ticks": ""
             }
            },
            "marker": {
             "colorbar": {
              "outlinewidth": 0,
              "ticks": ""
             }
            },
            "type": "scatter3d"
           }
          ],
          "scattercarpet": [
           {
            "marker": {
             "colorbar": {
              "outlinewidth": 0,
              "ticks": ""
             }
            },
            "type": "scattercarpet"
           }
          ],
          "scattergeo": [
           {
            "marker": {
             "colorbar": {
              "outlinewidth": 0,
              "ticks": ""
             }
            },
            "type": "scattergeo"
           }
          ],
          "scattergl": [
           {
            "marker": {
             "colorbar": {
              "outlinewidth": 0,
              "ticks": ""
             }
            },
            "type": "scattergl"
           }
          ],
          "scattermapbox": [
           {
            "marker": {
             "colorbar": {
              "outlinewidth": 0,
              "ticks": ""
             }
            },
            "type": "scattermapbox"
           }
          ],
          "scatterpolar": [
           {
            "marker": {
             "colorbar": {
              "outlinewidth": 0,
              "ticks": ""
             }
            },
            "type": "scatterpolar"
           }
          ],
          "scatterpolargl": [
           {
            "marker": {
             "colorbar": {
              "outlinewidth": 0,
              "ticks": ""
             }
            },
            "type": "scatterpolargl"
           }
          ],
          "scatterternary": [
           {
            "marker": {
             "colorbar": {
              "outlinewidth": 0,
              "ticks": ""
             }
            },
            "type": "scatterternary"
           }
          ],
          "surface": [
           {
            "colorbar": {
             "outlinewidth": 0,
             "ticks": ""
            },
            "colorscale": [
             [
              0,
              "#0d0887"
             ],
             [
              0.1111111111111111,
              "#46039f"
             ],
             [
              0.2222222222222222,
              "#7201a8"
             ],
             [
              0.3333333333333333,
              "#9c179e"
             ],
             [
              0.4444444444444444,
              "#bd3786"
             ],
             [
              0.5555555555555556,
              "#d8576b"
             ],
             [
              0.6666666666666666,
              "#ed7953"
             ],
             [
              0.7777777777777778,
              "#fb9f3a"
             ],
             [
              0.8888888888888888,
              "#fdca26"
             ],
             [
              1,
              "#f0f921"
             ]
            ],
            "type": "surface"
           }
          ],
          "table": [
           {
            "cells": {
             "fill": {
              "color": "#EBF0F8"
             },
             "line": {
              "color": "white"
             }
            },
            "header": {
             "fill": {
              "color": "#C8D4E3"
             },
             "line": {
              "color": "white"
             }
            },
            "type": "table"
           }
          ]
         },
         "layout": {
          "annotationdefaults": {
           "arrowcolor": "#2a3f5f",
           "arrowhead": 0,
           "arrowwidth": 1
          },
          "autotypenumbers": "strict",
          "coloraxis": {
           "colorbar": {
            "outlinewidth": 0,
            "ticks": ""
           }
          },
          "colorscale": {
           "diverging": [
            [
             0,
             "#8e0152"
            ],
            [
             0.1,
             "#c51b7d"
            ],
            [
             0.2,
             "#de77ae"
            ],
            [
             0.3,
             "#f1b6da"
            ],
            [
             0.4,
             "#fde0ef"
            ],
            [
             0.5,
             "#f7f7f7"
            ],
            [
             0.6,
             "#e6f5d0"
            ],
            [
             0.7,
             "#b8e186"
            ],
            [
             0.8,
             "#7fbc41"
            ],
            [
             0.9,
             "#4d9221"
            ],
            [
             1,
             "#276419"
            ]
           ],
           "sequential": [
            [
             0,
             "#0d0887"
            ],
            [
             0.1111111111111111,
             "#46039f"
            ],
            [
             0.2222222222222222,
             "#7201a8"
            ],
            [
             0.3333333333333333,
             "#9c179e"
            ],
            [
             0.4444444444444444,
             "#bd3786"
            ],
            [
             0.5555555555555556,
             "#d8576b"
            ],
            [
             0.6666666666666666,
             "#ed7953"
            ],
            [
             0.7777777777777778,
             "#fb9f3a"
            ],
            [
             0.8888888888888888,
             "#fdca26"
            ],
            [
             1,
             "#f0f921"
            ]
           ],
           "sequentialminus": [
            [
             0,
             "#0d0887"
            ],
            [
             0.1111111111111111,
             "#46039f"
            ],
            [
             0.2222222222222222,
             "#7201a8"
            ],
            [
             0.3333333333333333,
             "#9c179e"
            ],
            [
             0.4444444444444444,
             "#bd3786"
            ],
            [
             0.5555555555555556,
             "#d8576b"
            ],
            [
             0.6666666666666666,
             "#ed7953"
            ],
            [
             0.7777777777777778,
             "#fb9f3a"
            ],
            [
             0.8888888888888888,
             "#fdca26"
            ],
            [
             1,
             "#f0f921"
            ]
           ]
          },
          "colorway": [
           "#636efa",
           "#EF553B",
           "#00cc96",
           "#ab63fa",
           "#FFA15A",
           "#19d3f3",
           "#FF6692",
           "#B6E880",
           "#FF97FF",
           "#FECB52"
          ],
          "font": {
           "color": "#2a3f5f"
          },
          "geo": {
           "bgcolor": "white",
           "lakecolor": "white",
           "landcolor": "#E5ECF6",
           "showlakes": true,
           "showland": true,
           "subunitcolor": "white"
          },
          "hoverlabel": {
           "align": "left"
          },
          "hovermode": "closest",
          "mapbox": {
           "style": "light"
          },
          "paper_bgcolor": "white",
          "plot_bgcolor": "#E5ECF6",
          "polar": {
           "angularaxis": {
            "gridcolor": "white",
            "linecolor": "white",
            "ticks": ""
           },
           "bgcolor": "#E5ECF6",
           "radialaxis": {
            "gridcolor": "white",
            "linecolor": "white",
            "ticks": ""
           }
          },
          "scene": {
           "xaxis": {
            "backgroundcolor": "#E5ECF6",
            "gridcolor": "white",
            "gridwidth": 2,
            "linecolor": "white",
            "showbackground": true,
            "ticks": "",
            "zerolinecolor": "white"
           },
           "yaxis": {
            "backgroundcolor": "#E5ECF6",
            "gridcolor": "white",
            "gridwidth": 2,
            "linecolor": "white",
            "showbackground": true,
            "ticks": "",
            "zerolinecolor": "white"
           },
           "zaxis": {
            "backgroundcolor": "#E5ECF6",
            "gridcolor": "white",
            "gridwidth": 2,
            "linecolor": "white",
            "showbackground": true,
            "ticks": "",
            "zerolinecolor": "white"
           }
          },
          "shapedefaults": {
           "line": {
            "color": "#2a3f5f"
           }
          },
          "ternary": {
           "aaxis": {
            "gridcolor": "white",
            "linecolor": "white",
            "ticks": ""
           },
           "baxis": {
            "gridcolor": "white",
            "linecolor": "white",
            "ticks": ""
           },
           "bgcolor": "#E5ECF6",
           "caxis": {
            "gridcolor": "white",
            "linecolor": "white",
            "ticks": ""
           }
          },
          "title": {
           "x": 0.05
          },
          "xaxis": {
           "automargin": true,
           "gridcolor": "white",
           "linecolor": "white",
           "ticks": "",
           "title": {
            "standoff": 15
           },
           "zerolinecolor": "white",
           "zerolinewidth": 2
          },
          "yaxis": {
           "automargin": true,
           "gridcolor": "white",
           "linecolor": "white",
           "ticks": "",
           "title": {
            "standoff": 15
           },
           "zerolinecolor": "white",
           "zerolinewidth": 2
          }
         }
        },
        "title": {
         "text": "Total Gross of Disney Movies by MPAA Rating Over the Years"
        },
        "xaxis": {
         "anchor": "y",
         "domain": [
          0,
          1
         ],
         "title": {
          "text": "Year"
         }
        },
        "yaxis": {
         "anchor": "x",
         "domain": [
          0,
          1
         ],
         "title": {
          "text": "Total Gross"
         }
        }
       }
      }
     },
     "metadata": {},
     "output_type": "display_data"
    }
   ],
   "source": [
    "fig = px.scatter(disney, x='release_date', y='total_gross', color='mpaa_rating', title='Total Gross of Disney Movies by MPAA Rating Over the Years')\n",
    "\n",
    "fig.update_layout(\n",
    "    xaxis_title='Year',\n",
    "    yaxis_title='Total Gross',\n",
    "    legend_title_text='MPAA Rating'\n",
    ")\n",
    "\n",
    "fig.show() "
   ]
  },
  {
   "cell_type": "markdown",
   "metadata": {},
   "source": [
    "The amount of movies produced by Disney as well as the total gross increases by year. Besides, it can also be seen that over the past two decades, the highest-grossing Disney movies have predominantly been rated PG or PG-13."
   ]
  },
  {
   "cell_type": "code",
   "execution_count": 142,
   "metadata": {},
   "outputs": [
    {
     "data": {
      "application/vnd.plotly.v1+json": {
       "config": {
        "plotlyServerURL": "https://plot.ly"
       },
       "data": [
        {
         "hovertemplate": "mpaa_rating=G<br>release_date=%{x}<br>inflation_adjusted_gross=%{y}<extra></extra>",
         "legendgroup": "G",
         "marker": {
          "color": "#636efa",
          "symbol": "circle"
         },
         "mode": "markers",
         "name": "G",
         "orientation": "v",
         "showlegend": true,
         "type": "scatter",
         "x": [
          "1937-12-21T00:00:00",
          "1940-02-09T00:00:00",
          "1940-11-13T00:00:00",
          "1946-11-12T00:00:00",
          "1950-02-15T00:00:00",
          "1955-06-22T00:00:00",
          "1961-01-25T00:00:00",
          "1961-12-14T00:00:00",
          "1970-04-24T00:00:00",
          "1988-11-18T00:00:00",
          "1989-11-15T00:00:00",
          "1990-08-03T00:00:00",
          "1990-11-16T00:00:00",
          "1991-11-13T00:00:00",
          "1992-11-11T00:00:00",
          "1992-12-11T00:00:00",
          "1993-02-03T00:00:00",
          "1994-06-15T00:00:00",
          "1995-04-07T00:00:00",
          "1995-06-10T00:00:00",
          "1995-11-22T00:00:00",
          "1996-02-16T00:00:00",
          "1996-03-08T00:00:00",
          "1996-06-21T00:00:00",
          "1996-11-27T00:00:00",
          "1997-06-13T00:00:00",
          "1998-06-19T00:00:00",
          "1998-11-20T00:00:00",
          "1999-03-26T00:00:00",
          "1999-06-16T00:00:00",
          "1999-10-15T00:00:00",
          "1999-11-19T00:00:00",
          "2000-01-01T00:00:00",
          "2000-02-11T00:00:00",
          "2000-06-16T00:00:00",
          "2000-11-22T00:00:00",
          "2000-12-15T00:00:00",
          "2001-02-16T00:00:00",
          "2001-08-03T00:00:00",
          "2001-11-02T00:00:00",
          "2002-01-01T00:00:00",
          "2002-02-15T00:00:00",
          "2002-03-29T00:00:00",
          "2002-07-26T00:00:00",
          "2002-11-01T00:00:00",
          "2003-02-14T00:00:00",
          "2003-03-21T00:00:00",
          "2003-04-11T00:00:00",
          "2003-05-30T00:00:00",
          "2003-10-24T00:00:00",
          "2003-12-25T00:00:00",
          "2004-08-11T00:00:00",
          "2005-01-28T00:00:00",
          "2005-02-11T00:00:00",
          "2005-03-18T00:00:00",
          "2005-06-22T00:00:00",
          "2005-08-19T00:00:00",
          "2005-11-04T00:00:00",
          "2006-01-27T00:00:00",
          "2006-04-14T00:00:00",
          "2006-06-09T00:00:00",
          "2006-11-03T00:00:00",
          "2007-03-30T00:00:00",
          "2007-06-29T00:00:00",
          "2008-02-01T00:00:00",
          "2008-03-07T00:00:00",
          "2008-06-27T00:00:00",
          "2008-10-24T00:00:00",
          "2009-02-27T00:00:00",
          "2009-04-10T00:00:00",
          "2009-04-22T00:00:00",
          "2009-08-14T00:00:00",
          "2009-10-02T00:00:00",
          "2009-11-25T00:00:00",
          "2010-04-22T00:00:00",
          "2010-06-18T00:00:00",
          "2011-02-11T00:00:00",
          "2011-04-22T00:00:00",
          "2011-06-24T00:00:00",
          "2011-07-15T00:00:00",
          "2012-02-17T00:00:00",
          "2012-04-20T00:00:00",
          "2013-06-21T00:00:00",
          "2014-04-18T00:00:00",
          "2015-04-17T00:00:00",
          "2016-04-29T00:00:00"
         ],
         "xaxis": "x",
         "y": [
          5228953251,
          2188229052,
          2187090808,
          1078510579,
          920608730,
          1236035515,
          1362870985,
          124841160,
          255161499,
          102254492,
          223726012,
          36107823,
          55796728,
          363017667,
          441969178,
          55417615,
          85182343,
          761640898,
          68479579,
          274370957,
          370409631,
          65470567,
          62384706,
          190988799,
          258728898,
          182029412,
          216807832,
          288981698,
          32228598,
          283900254,
          10111144,
          404450426,
          94852354,
          71228678,
          14238144,
          104055039,
          136789252,
          54656124,
          161218928,
          416073179,
          36980311,
          70269715,
          109691666,
          24650121,
          201959095,
          66966883,
          32298812,
          23803108,
          518148559,
          119218333,
          9254344,
          129164207,
          11740942,
          23801835,
          32064685,
          86812798,
          25616292,
          177954661,
          12948025,
          48114115,
          314140384,
          108694869,
          119860589,
          252955933,
          76646993,
          53550960,
          262771918,
          106308538,
          38174685,
          89443640,
          35981010,
          16961607,
          34509545,
          116316457,
          20751600,
          443408255,
          106270797,
          16401551,
          203522177,
          28375869,
          20325733,
          30675725,
          278395641,
          18346024,
          16432322,
          7895708
         ],
         "yaxis": "y"
        },
        {
         "hovertemplate": "mpaa_rating=Not Rated<br>release_date=%{x}<br>inflation_adjusted_gross=%{y}<extra></extra>",
         "legendgroup": "Not Rated",
         "marker": {
          "color": "#EF553B",
          "symbol": "circle"
         },
         "mode": "markers",
         "name": "Not Rated",
         "orientation": "v",
         "showlegend": true,
         "type": "scatter",
         "x": [
          "1954-12-23T00:00:00",
          "1959-01-29T00:00:00",
          "1961-03-16T00:00:00",
          "1962-05-17T00:00:00",
          "1963-12-25T00:00:00",
          "1967-10-18T00:00:00",
          "1968-02-08T00:00:00",
          "1970-07-01T00:00:00",
          "1971-10-07T00:00:00",
          "1975-07-01T00:00:00",
          "1977-01-21T00:00:00",
          "1977-03-11T00:00:00",
          "1977-06-22T00:00:00",
          "1977-06-24T00:00:00",
          "1979-12-21T00:00:00",
          "1980-02-08T00:00:00",
          "1980-06-25T00:00:00",
          "1981-01-01T00:00:00",
          "1981-03-20T00:00:00",
          "1981-07-10T00:00:00",
          "1981-08-07T00:00:00",
          "1982-02-05T00:00:00",
          "1982-07-09T00:00:00",
          "1982-11-19T00:00:00",
          "1983-03-11T00:00:00",
          "1983-04-29T00:00:00",
          "1983-10-07T00:00:00",
          "1983-11-04T00:00:00",
          "1984-09-29T00:00:00",
          "1985-03-22T00:00:00",
          "1985-06-21T00:00:00",
          "1985-07-24T00:00:00",
          "1985-08-09T00:00:00",
          "1985-09-27T00:00:00",
          "1985-11-22T00:00:00",
          "1986-04-11T00:00:00",
          "1986-07-02T00:00:00",
          "1986-07-30T00:00:00",
          "1986-10-03T00:00:00",
          "1987-03-06T00:00:00",
          "1987-05-22T00:00:00",
          "1987-06-05T00:00:00",
          "1987-07-03T00:00:00",
          "1987-08-14T00:00:00",
          "1987-11-06T00:00:00",
          "1988-02-12T00:00:00",
          "1988-03-18T00:00:00",
          "1988-08-05T00:00:00",
          "1988-09-30T00:00:00",
          "1988-11-04T00:00:00",
          "1989-04-14T00:00:00",
          "1989-08-18T00:00:00",
          "1990-02-23T00:00:00",
          "1991-02-22T00:00:00",
          "1991-05-24T00:00:00",
          "1994-04-08T00:00:00",
          "1994-08-26T00:00:00",
          "2002-01-01T00:00:00",
          "2004-07-02T00:00:00"
         ],
         "xaxis": "x",
         "y": [
          528279994,
          21505832,
          310094574,
          109581646,
          153870834,
          789612346,
          138612686,
          101200742,
          91305448,
          131246872,
          98067733,
          0,
          159743914,
          105847527,
          120377374,
          9088096,
          34472116,
          48517980,
          0,
          133118889,
          0,
          12903059,
          77184895,
          20643199,
          11519089,
          15136765,
          70669955,
          3223725,
          21075000,
          33900697,
          25215934,
          50553142,
          9736051,
          22302956,
          31415432,
          11003932,
          53637367,
          42183197,
          48758184,
          54787202,
          50686462,
          32798382,
          72853569,
          68181300,
          44024529,
          60097074,
          26062188,
          12009960,
          11300331,
          9772655,
          15233465,
          16653473,
          2210321,
          19149495,
          14617333,
          1473665,
          125666,
          0,
          426246
         ],
         "yaxis": "y"
        },
        {
         "hovertemplate": "mpaa_rating=PG<br>release_date=%{x}<br>inflation_adjusted_gross=%{y}<extra></extra>",
         "legendgroup": "PG",
         "marker": {
          "color": "#00cc96",
          "symbol": "circle"
         },
         "mode": "markers",
         "name": "PG",
         "orientation": "v",
         "showlegend": true,
         "type": "scatter",
         "x": [
          "1984-03-09T00:00:00",
          "1987-11-25T00:00:00",
          "1988-04-15T00:00:00",
          "1988-06-10T00:00:00",
          "1988-06-22T00:00:00",
          "1988-11-11T00:00:00",
          "1989-03-01T00:00:00",
          "1989-06-02T00:00:00",
          "1989-06-23T00:00:00",
          "1989-07-28T00:00:00",
          "1990-04-06T00:00:00",
          "1990-04-27T00:00:00",
          "1990-06-15T00:00:00",
          "1990-11-21T00:00:00",
          "1991-01-18T00:00:00",
          "1991-03-01T00:00:00",
          "1991-04-26T00:00:00",
          "1991-05-17T00:00:00",
          "1991-06-21T00:00:00",
          "1991-10-11T00:00:00",
          "1991-12-20T00:00:00",
          "1992-04-03T00:00:00",
          "1992-04-08T00:00:00",
          "1992-05-22T00:00:00",
          "1992-05-29T00:00:00",
          "1992-07-17T00:00:00",
          "1992-08-07T00:00:00",
          "1992-10-02T00:00:00",
          "1993-03-12T00:00:00",
          "1993-03-26T00:00:00",
          "1993-04-02T00:00:00",
          "1993-05-28T00:00:00",
          "1993-06-04T00:00:00",
          "1993-07-16T00:00:00",
          "1993-10-01T00:00:00",
          "1993-10-13T00:00:00",
          "1993-11-12T00:00:00",
          "1993-12-10T00:00:00",
          "1994-01-07T00:00:00",
          "1994-01-14T00:00:00",
          "1994-02-11T00:00:00",
          "1994-03-25T00:00:00",
          "1994-04-15T00:00:00",
          "1994-05-06T00:00:00",
          "1994-06-29T00:00:00",
          "1994-07-15T00:00:00",
          "1994-08-12T00:00:00",
          "1994-08-26T00:00:00",
          "1994-10-28T00:00:00",
          "1994-11-11T00:00:00",
          "1994-12-25T00:00:00",
          "1995-01-06T00:00:00",
          "1995-02-17T00:00:00",
          "1995-03-03T00:00:00",
          "1995-03-03T00:00:00",
          "1995-03-24T00:00:00",
          "1995-03-28T00:00:00",
          "1995-04-21T00:00:00",
          "1995-07-28T00:00:00",
          "1995-08-11T00:00:00",
          "1995-09-15T00:00:00",
          "1995-09-29T00:00:00",
          "1995-12-08T00:00:00",
          "1995-12-22T00:00:00",
          "1995-12-29T00:00:00",
          "1996-03-22T00:00:00",
          "1996-04-12T00:00:00",
          "1996-07-05T00:00:00",
          "1996-07-17T00:00:00",
          "1996-08-30T00:00:00",
          "1996-10-04T00:00:00",
          "1996-12-13T00:00:00",
          "1996-12-25T00:00:00",
          "1997-02-14T00:00:00",
          "1997-03-07T00:00:00",
          "1997-05-30T00:00:00",
          "1997-07-16T00:00:00",
          "1997-08-01T00:00:00",
          "1997-10-05T00:00:00",
          "1997-10-10T00:00:00",
          "1997-11-26T00:00:00",
          "1997-12-25T00:00:00",
          "1998-03-27T00:00:00",
          "1998-07-29T00:00:00",
          "1998-09-11T00:00:00",
          "1998-10-09T00:00:00",
          "1998-11-13T00:00:00",
          "1998-12-25T00:00:00",
          "1999-02-12T00:00:00",
          "1999-05-14T00:00:00",
          "1999-07-23T00:00:00",
          "1999-12-17T00:00:00",
          "2000-03-10T00:00:00",
          "2000-05-19T00:00:00",
          "2000-07-07T00:00:00",
          "2000-09-29T00:00:00",
          "2001-06-08T00:00:00",
          "2001-10-05T00:00:00",
          "2002-01-18T00:00:00",
          "2002-05-10T00:00:00",
          "2002-06-21T00:00:00",
          "2002-09-20T00:00:00",
          "2002-10-11T00:00:00",
          "2002-11-27T00:00:00",
          "2003-04-18T00:00:00",
          "2003-05-02T00:00:00",
          "2003-08-06T00:00:00",
          "2003-11-26T00:00:00",
          "2004-01-16T00:00:00",
          "2004-02-06T00:00:00",
          "2004-02-20T00:00:00",
          "2004-04-02T00:00:00",
          "2004-06-16T00:00:00",
          "2004-11-05T00:00:00",
          "2004-11-19T00:00:00",
          "2005-03-04T00:00:00",
          "2005-04-29T00:00:00",
          "2005-06-10T00:00:00",
          "2005-07-29T00:00:00",
          "2005-09-30T00:00:00",
          "2005-12-09T00:00:00",
          "2006-01-13T00:00:00",
          "2006-02-17T00:00:00",
          "2006-03-10T00:00:00",
          "2006-05-12T00:00:00",
          "2006-08-25T00:00:00",
          "2006-10-20T00:00:00",
          "2007-02-16T00:00:00",
          "2007-08-03T00:00:00",
          "2007-09-22T00:00:00",
          "2007-11-21T00:00:00",
          "2007-12-21T00:00:00",
          "2008-05-16T00:00:00",
          "2008-10-03T00:00:00",
          "2008-10-17T00:00:00",
          "2008-11-21T00:00:00",
          "2008-12-25T00:00:00",
          "2009-02-13T00:00:00",
          "2009-03-13T00:00:00",
          "2009-05-29T00:00:00",
          "2009-07-24T00:00:00",
          "2009-08-21T00:00:00",
          "2009-09-10T00:00:00",
          "2009-11-06T00:00:00",
          "2009-11-25T00:00:00",
          "2010-03-05T00:00:00",
          "2010-03-26T00:00:00",
          "2010-03-31T00:00:00",
          "2010-07-14T00:00:00",
          "2010-09-24T00:00:00",
          "2010-10-08T00:00:00",
          "2010-11-24T00:00:00",
          "2010-12-17T00:00:00",
          "2011-03-11T00:00:00",
          "2011-04-22T00:00:00",
          "2011-04-29T00:00:00",
          "2011-11-23T00:00:00",
          "2012-06-22T00:00:00",
          "2012-08-15T00:00:00",
          "2012-10-05T00:00:00",
          "2012-11-02T00:00:00",
          "2013-03-08T00:00:00",
          "2013-08-09T00:00:00",
          "2013-11-22T00:00:00",
          "2014-03-21T00:00:00",
          "2014-05-10T00:00:00",
          "2014-05-30T00:00:00",
          "2014-07-18T00:00:00",
          "2014-08-08T00:00:00",
          "2014-10-10T00:00:00",
          "2014-11-07T00:00:00",
          "2014-12-25T00:00:00",
          "2015-01-23T00:00:00",
          "2015-02-20T00:00:00",
          "2015-03-13T00:00:00",
          "2015-05-22T00:00:00",
          "2015-06-19T00:00:00",
          "2015-11-25T00:00:00",
          "2016-01-29T00:00:00",
          "2016-03-04T00:00:00",
          "2016-04-15T00:00:00",
          "2016-05-27T00:00:00",
          "2016-06-17T00:00:00",
          "2016-07-01T00:00:00",
          "2016-08-12T00:00:00",
          "2016-09-23T00:00:00",
          "2016-11-23T00:00:00"
         ],
         "xaxis": "x",
         "y": [
          157057661,
          353334607,
          28073384,
          82352451,
          316250084,
          57845202,
          22740861,
          202531517,
          276191669,
          150176361,
          49999822,
          29964452,
          207231621,
          143108869,
          69540672,
          30084149,
          47181395,
          127571325,
          93256673,
          28320147,
          179821881,
          43068356,
          5497481,
          81369058,
          283583472,
          119162518,
          58965304,
          103120810,
          26248558,
          36165012,
          49080505,
          42445058,
          25146538,
          80147079,
          140392731,
          100026637,
          109310377,
          116965668,
          42940186,
          42610902,
          63170804,
          94226333,
          18083994,
          24267154,
          63651027,
          103798152,
          59673787,
          21576332,
          6858345,
          298369717,
          88930321,
          51016522,
          34245779,
          77573459,
          23404369,
          15983331,
          907414,
          157082900,
          47809421,
          25981285,
          15365850,
          34372339,
          147658438,
          45911517,
          157508868,
          1963937,
          55159783,
          199559799,
          36009655,
          50465108,
          43713554,
          91076877,
          92077628,
          33613158,
          110058379,
          36265379,
          193326632,
          45266588,
          3257546,
          28371890,
          170406423,
          39145784,
          7829877,
          119185667,
          32809442,
          21694605,
          21941840,
          87906042,
          61150849,
          380218,
          161610341,
          94838225,
          95208344,
          215438985,
          108993148,
          180742479,
          125188122,
          25749730,
          117745317,
          6089874,
          211506702,
          14338992,
          27789959,
          55189145,
          94203395,
          59743191,
          154090360,
          105775678,
          8812764,
          87392478,
          39816568,
          67910166,
          32585356,
          354488708,
          234069353,
          148619029,
          67096891,
          6194870,
          84088854,
          20162672,
          381557539,
          54888236,
          105037235,
          78667428,
          5512647,
          74398864,
          30737517,
          100760721,
          53619462,
          111010758,
          156074310,
          267003525,
          166277038,
          110932022,
          322979,
          133702498,
          128039679,
          49767744,
          75501997,
          329336681,
          134246932,
          1563976,
          23064,
          154927105,
          55503929,
          357063499,
          86264,
          67258772,
          67473105,
          27461121,
          63781920,
          214388548,
          183619259,
          22741603,
          2984,
          10768946,
          94189503,
          251292441,
          54914942,
          37363513,
          200354959,
          243434130,
          93614037,
          414997174,
          52807594,
          37607865,
          249089809,
          61040349,
          55961409,
          69055550,
          229249222,
          130894237,
          12429583,
          44480275,
          201151353,
          93436322,
          356461711,
          123087120,
          27569558,
          341268248,
          364001123,
          77042381,
          486295561,
          55483770,
          76233151,
          8874389,
          246082029
         ],
         "yaxis": "y"
        },
        {
         "hovertemplate": "mpaa_rating=R<br>release_date=%{x}<br>inflation_adjusted_gross=%{y}<extra></extra>",
         "legendgroup": "R",
         "marker": {
          "color": "#ab63fa",
          "symbol": "circle"
         },
         "mode": "markers",
         "name": "R",
         "orientation": "v",
         "showlegend": true,
         "type": "scatter",
         "x": [
          "1986-01-31T00:00:00",
          "1986-06-27T00:00:00",
          "1986-10-17T00:00:00",
          "1987-01-30T00:00:00",
          "1987-08-05T00:00:00",
          "1987-12-23T00:00:00",
          "1988-07-29T00:00:00",
          "1989-10-06T00:00:00",
          "1989-12-13T00:00:00",
          "1990-03-23T00:00:00",
          "1990-06-22T00:00:00",
          "1990-08-17T00:00:00",
          "1991-04-05T00:00:00",
          "1991-05-03T00:00:00",
          "1991-11-01T00:00:00",
          "1992-01-10T00:00:00",
          "1992-09-25T00:00:00",
          "1992-10-16T00:00:00",
          "1992-12-04T00:00:00",
          "1993-01-15T00:00:00",
          "1993-04-16T00:00:00",
          "1993-04-23T00:00:00",
          "1993-06-04T00:00:00",
          "1993-06-09T00:00:00",
          "1993-09-08T00:00:00",
          "1993-09-10T00:00:00",
          "1993-09-24T00:00:00",
          "1993-12-25T00:00:00",
          "1994-01-28T00:00:00",
          "1994-03-04T00:00:00",
          "1994-03-09T00:00:00",
          "1994-04-22T00:00:00",
          "1994-04-29T00:00:00",
          "1994-08-19T00:00:00",
          "1994-09-30T00:00:00",
          "1994-10-21T00:00:00",
          "1994-11-23T00:00:00",
          "1995-01-20T00:00:00",
          "1995-02-03T00:00:00",
          "1995-03-31T00:00:00",
          "1995-05-12T00:00:00",
          "1995-06-30T00:00:00",
          "1995-08-11T00:00:00",
          "1995-09-08T00:00:00",
          "1995-10-04T00:00:00",
          "1995-10-13T00:00:00",
          "1995-10-13T00:00:00",
          "1995-12-20T00:00:00",
          "1996-05-03T00:00:00",
          "1996-06-07T00:00:00",
          "1996-09-13T00:00:00",
          "1996-11-08T00:00:00",
          "1996-11-20T00:00:00",
          "1997-01-17T00:00:00",
          "1997-01-31T00:00:00",
          "1997-04-11T00:00:00",
          "1997-04-25T00:00:00",
          "1997-06-06T00:00:00",
          "1997-07-18T00:00:00",
          "1997-08-22T00:00:00",
          "1997-09-19T00:00:00",
          "1997-10-17T00:00:00",
          "1997-12-25T00:00:00",
          "1998-01-30T00:00:00",
          "1998-02-27T00:00:00",
          "1998-05-01T00:00:00",
          "1998-09-04T00:00:00",
          "1998-10-16T00:00:00",
          "1998-11-20T00:00:00",
          "1998-12-11T00:00:00",
          "1999-06-04T00:00:00",
          "1999-07-02T00:00:00",
          "1999-08-27T00:00:00",
          "1999-09-17T00:00:00",
          "1999-09-24T00:00:00",
          "1999-10-01T00:00:00",
          "1999-11-05T00:00:00",
          "1999-12-08T00:00:00",
          "1999-12-10T00:00:00",
          "1999-12-24T00:00:00",
          "2000-02-04T00:00:00",
          "2000-03-31T00:00:00",
          "2000-09-15T00:00:00",
          "2001-10-26T00:00:00",
          "2001-12-14T00:00:00",
          "2002-03-22T00:00:00",
          "2002-12-19T00:00:00",
          "2003-08-15T00:00:00",
          "2003-09-19T00:00:00",
          "2003-10-17T00:00:00",
          "2004-03-26T00:00:00",
          "2004-09-24T00:00:00",
          "2004-12-10T00:00:00",
          "2005-10-21T00:00:00",
          "2005-12-25T00:00:00",
          "2006-12-08T00:00:00",
          "2007-01-12T00:00:00",
          "2007-03-30T00:00:00",
          "2007-04-06T00:00:00",
          "2008-09-26T00:00:00",
          "2011-08-19T00:00:00",
          "2013-10-18T00:00:00"
         ],
         "xaxis": "x",
         "y": [
          141183693,
          162748712,
          117957323,
          113976921,
          141592160,
          254414837,
          160442289,
          40983414,
          39884640,
          356389765,
          39433357,
          39963460,
          24939118,
          22580472,
          31167691,
          178831137,
          9907922,
          43859823,
          94349900,
          73914543,
          9156084,
          29968953,
          46064723,
          79618610,
          66768171,
          2127496,
          46919256,
          115781734,
          5170709,
          19116981,
          23401275,
          18316030,
          103354194,
          40804816,
          12042634,
          17727017,
          60321919,
          6829092,
          14641561,
          1025425,
          177102077,
          67222776,
          164552293,
          11167895,
          46741467,
          20075033,
          568342,
          26302005,
          11171714,
          255702705,
          16284619,
          259807820,
          65543,
          58804106,
          3957025,
          51579764,
          53693680,
          185712664,
          81692095,
          88467531,
          14561324,
          7652965,
          48546161,
          20136775,
          82277,
          38766948,
          1409943,
          41062682,
          198472008,
          28392518,
          56595842,
          32007656,
          54262148,
          295851,
          7566363,
          14755189,
          47794214,
          4609153,
          106921374,
          13180524,
          2562155,
          42661516,
          7404372,
          337782,
          76758193,
          14797862,
          18325463,
          81547672,
          29895090,
          2194759,
          53881593,
          629502,
          32198655,
          13519621,
          14574087,
          64959548,
          12985302,
          5637048,
          8779196,
          9295171,
          19452402,
          3374251
         ],
         "yaxis": "y"
        },
        {
         "hovertemplate": "mpaa_rating=PG-13<br>release_date=%{x}<br>inflation_adjusted_gross=%{y}<extra></extra>",
         "legendgroup": "PG-13",
         "marker": {
          "color": "#FFA15A",
          "symbol": "circle"
         },
         "mode": "markers",
         "name": "PG-13",
         "orientation": "v",
         "showlegend": true,
         "type": "scatter",
         "x": [
          "1988-12-21T00:00:00",
          "1989-01-27T00:00:00",
          "1989-10-20T00:00:00",
          "1990-02-02T00:00:00",
          "1990-05-24T00:00:00",
          "1990-07-18T00:00:00",
          "1990-10-12T00:00:00",
          "1990-12-25T00:00:00",
          "1991-07-24T00:00:00",
          "1991-09-18T00:00:00",
          "1991-09-27T00:00:00",
          "1992-02-07T00:00:00",
          "1992-03-06T00:00:00",
          "1992-03-20T00:00:00",
          "1992-04-24T00:00:00",
          "1992-07-17T00:00:00",
          "1992-08-21T00:00:00",
          "1992-09-18T00:00:00",
          "1992-09-18T00:00:00",
          "1992-10-09T00:00:00",
          "1993-01-22T00:00:00",
          "1993-02-03T00:00:00",
          "1993-03-05T00:00:00",
          "1993-07-02T00:00:00",
          "1993-07-23T00:00:00",
          "1993-08-06T00:00:00",
          "1993-08-27T00:00:00",
          "1994-01-07T00:00:00",
          "1994-06-03T00:00:00",
          "1994-09-02T00:00:00",
          "1994-09-14T00:00:00",
          "1994-09-23T00:00:00",
          "1995-01-27T00:00:00",
          "1995-03-31T00:00:00",
          "1995-05-26T00:00:00",
          "1995-10-27T00:00:00",
          "1996-02-02T00:00:00",
          "1996-02-16T00:00:00",
          "1996-02-23T00:00:00",
          "1996-03-01T00:00:00",
          "1996-03-15T00:00:00",
          "1996-04-19T00:00:00",
          "1996-05-10T00:00:00",
          "1996-05-24T00:00:00",
          "1996-05-31T00:00:00",
          "1996-08-09T00:00:00",
          "1996-10-25T00:00:00",
          "1997-01-24T00:00:00",
          "1997-03-28T00:00:00",
          "1997-12-25T00:00:00",
          "1998-02-27T00:00:00",
          "1998-05-15T00:00:00",
          "1998-06-12T00:00:00",
          "1998-07-01T00:00:00",
          "1998-07-24T00:00:00",
          "1998-11-06T00:00:00",
          "1998-12-25T00:00:00",
          "1999-02-26T00:00:00",
          "1999-03-31T00:00:00",
          "1999-08-06T00:00:00",
          "2000-04-14T00:00:00",
          "2000-05-26T00:00:00",
          "2000-06-09T00:00:00",
          "2000-08-04T00:00:00",
          "2000-08-25T00:00:00",
          "2000-11-22T00:00:00",
          "2000-12-22T00:00:00",
          "2001-01-12T00:00:00",
          "2001-04-06T00:00:00",
          "2001-05-25T00:00:00",
          "2001-06-29T00:00:00",
          "2001-08-24T00:00:00",
          "2001-10-12T00:00:00",
          "2001-11-21T00:00:00",
          "2002-01-25T00:00:00",
          "2002-02-19T00:00:00",
          "2002-04-05T00:00:00",
          "2002-06-07T00:00:00",
          "2002-08-02T00:00:00",
          "2002-09-27T00:00:00",
          "2002-09-27T00:00:00",
          "2002-12-13T00:00:00",
          "2003-01-31T00:00:00",
          "2003-02-07T00:00:00",
          "2003-03-07T00:00:00",
          "2003-07-09T00:00:00",
          "2003-09-26T00:00:00",
          "2003-12-19T00:00:00",
          "2004-03-05T00:00:00",
          "2004-04-09T00:00:00",
          "2004-05-28T00:00:00",
          "2004-07-07T00:00:00",
          "2004-07-30T00:00:00",
          "2004-09-17T00:00:00",
          "2004-10-01T00:00:00",
          "2005-04-22T00:00:00",
          "2005-07-08T00:00:00",
          "2005-09-23T00:00:00",
          "2006-01-27T00:00:00",
          "2006-03-24T00:00:00",
          "2006-04-28T00:00:00",
          "2006-07-07T00:00:00",
          "2006-08-11T00:00:00",
          "2006-09-29T00:00:00",
          "2006-10-20T00:00:00",
          "2006-11-22T00:00:00",
          "2007-03-02T00:00:00",
          "2007-04-27T00:00:00",
          "2007-05-24T00:00:00",
          "2007-10-20T00:00:00",
          "2008-02-14T00:00:00",
          "2008-08-01T00:00:00",
          "2008-08-29T00:00:00",
          "2009-06-19T00:00:00",
          "2009-09-25T00:00:00",
          "2010-01-29T00:00:00",
          "2010-05-28T00:00:00",
          "2010-08-06T00:00:00",
          "2010-08-13T00:00:00",
          "2011-02-18T00:00:00",
          "2011-05-20T00:00:00",
          "2011-08-10T00:00:00",
          "2011-10-07T00:00:00",
          "2011-12-25T00:00:00",
          "2012-03-09T00:00:00",
          "2012-05-04T00:00:00",
          "2012-06-29T00:00:00",
          "2012-11-09T00:00:00",
          "2013-05-03T00:00:00",
          "2013-07-02T00:00:00",
          "2013-11-08T00:00:00",
          "2013-11-08T00:00:00",
          "2013-11-22T00:00:00",
          "2013-12-13T00:00:00",
          "2014-03-14T00:00:00",
          "2014-04-04T00:00:00",
          "2014-08-01T00:00:00",
          "2015-05-01T00:00:00",
          "2015-07-17T00:00:00",
          "2015-10-16T00:00:00",
          "2015-12-18T00:00:00",
          "2016-05-06T00:00:00",
          "2016-09-02T00:00:00",
          "2016-11-04T00:00:00",
          "2016-12-16T00:00:00"
         ],
         "xaxis": "x",
         "y": [
          120381757,
          85757817,
          23972012,
          40077147,
          29485923,
          106290270,
          30722056,
          59679131,
          75084021,
          37313540,
          57544453,
          91304495,
          5872667,
          4631720,
          8187848,
          24950752,
          7295423,
          45741576,
          14841352,
          14421454,
          15970955,
          11369541,
          11468231,
          52921433,
          40943541,
          6554384,
          6654819,
          7168577,
          49945474,
          7035189,
          50840394,
          34048315,
          9857435,
          4770461,
          29934306,
          59727216,
          19509726,
          24422334,
          16482589,
          97356578,
          2057055,
          17623615,
          41826566,
          51373912,
          59828966,
          111792852,
          24333094,
          1085093,
          27117599,
          10236836,
          13608633,
          135497531,
          133620516,
          362324957,
          35668055,
          288691833,
          94139530,
          46145331,
          63354375,
          485424724,
          57925202,
          89042541,
          158970411,
          95070168,
          20362201,
          148208901,
          67922002,
          44418589,
          7114869,
          295705112,
          25214223,
          7450434,
          35705805,
          20700691,
          78682079,
          62480631,
          10537188,
          43756218,
          330754439,
          184521151,
          9909094,
          50624654,
          73793522,
          84537962,
          185481530,
          426967926,
          60944053,
          42379650,
          91340921,
          30416359,
          50886144,
          70423706,
          155021748,
          29593641,
          101161045,
          28716947,
          33500491,
          117960425,
          22044113,
          29712825,
          34634731,
          544817142,
          84078780,
          70801353,
          68289913,
          82267038,
          206110533,
          25202168,
          379129960,
          58350234,
          68118371,
          19125841,
          264247,
          184288829,
          43361416,
          34917330,
          96971361,
          45302137,
          51988,
          58574607,
          256263359,
          180404976,
          90848019,
          84762149,
          77372445,
          660081224,
          13165822,
          192122330,
          424084233,
          92597388,
          213962184,
          5367415,
          31787136,
          86249969,
          44955015,
          268013076,
          343771168,
          459005868,
          180202163,
          72313754,
          936662225,
          408084349,
          12545979,
          232532923,
          529483936
         ],
         "yaxis": "y"
        }
       ],
       "layout": {
        "legend": {
         "title": {
          "text": "MPAA Rating"
         },
         "tracegroupgap": 0
        },
        "template": {
         "data": {
          "bar": [
           {
            "error_x": {
             "color": "#2a3f5f"
            },
            "error_y": {
             "color": "#2a3f5f"
            },
            "marker": {
             "line": {
              "color": "#E5ECF6",
              "width": 0.5
             },
             "pattern": {
              "fillmode": "overlay",
              "size": 10,
              "solidity": 0.2
             }
            },
            "type": "bar"
           }
          ],
          "barpolar": [
           {
            "marker": {
             "line": {
              "color": "#E5ECF6",
              "width": 0.5
             },
             "pattern": {
              "fillmode": "overlay",
              "size": 10,
              "solidity": 0.2
             }
            },
            "type": "barpolar"
           }
          ],
          "carpet": [
           {
            "aaxis": {
             "endlinecolor": "#2a3f5f",
             "gridcolor": "white",
             "linecolor": "white",
             "minorgridcolor": "white",
             "startlinecolor": "#2a3f5f"
            },
            "baxis": {
             "endlinecolor": "#2a3f5f",
             "gridcolor": "white",
             "linecolor": "white",
             "minorgridcolor": "white",
             "startlinecolor": "#2a3f5f"
            },
            "type": "carpet"
           }
          ],
          "choropleth": [
           {
            "colorbar": {
             "outlinewidth": 0,
             "ticks": ""
            },
            "type": "choropleth"
           }
          ],
          "contour": [
           {
            "colorbar": {
             "outlinewidth": 0,
             "ticks": ""
            },
            "colorscale": [
             [
              0,
              "#0d0887"
             ],
             [
              0.1111111111111111,
              "#46039f"
             ],
             [
              0.2222222222222222,
              "#7201a8"
             ],
             [
              0.3333333333333333,
              "#9c179e"
             ],
             [
              0.4444444444444444,
              "#bd3786"
             ],
             [
              0.5555555555555556,
              "#d8576b"
             ],
             [
              0.6666666666666666,
              "#ed7953"
             ],
             [
              0.7777777777777778,
              "#fb9f3a"
             ],
             [
              0.8888888888888888,
              "#fdca26"
             ],
             [
              1,
              "#f0f921"
             ]
            ],
            "type": "contour"
           }
          ],
          "contourcarpet": [
           {
            "colorbar": {
             "outlinewidth": 0,
             "ticks": ""
            },
            "type": "contourcarpet"
           }
          ],
          "heatmap": [
           {
            "colorbar": {
             "outlinewidth": 0,
             "ticks": ""
            },
            "colorscale": [
             [
              0,
              "#0d0887"
             ],
             [
              0.1111111111111111,
              "#46039f"
             ],
             [
              0.2222222222222222,
              "#7201a8"
             ],
             [
              0.3333333333333333,
              "#9c179e"
             ],
             [
              0.4444444444444444,
              "#bd3786"
             ],
             [
              0.5555555555555556,
              "#d8576b"
             ],
             [
              0.6666666666666666,
              "#ed7953"
             ],
             [
              0.7777777777777778,
              "#fb9f3a"
             ],
             [
              0.8888888888888888,
              "#fdca26"
             ],
             [
              1,
              "#f0f921"
             ]
            ],
            "type": "heatmap"
           }
          ],
          "heatmapgl": [
           {
            "colorbar": {
             "outlinewidth": 0,
             "ticks": ""
            },
            "colorscale": [
             [
              0,
              "#0d0887"
             ],
             [
              0.1111111111111111,
              "#46039f"
             ],
             [
              0.2222222222222222,
              "#7201a8"
             ],
             [
              0.3333333333333333,
              "#9c179e"
             ],
             [
              0.4444444444444444,
              "#bd3786"
             ],
             [
              0.5555555555555556,
              "#d8576b"
             ],
             [
              0.6666666666666666,
              "#ed7953"
             ],
             [
              0.7777777777777778,
              "#fb9f3a"
             ],
             [
              0.8888888888888888,
              "#fdca26"
             ],
             [
              1,
              "#f0f921"
             ]
            ],
            "type": "heatmapgl"
           }
          ],
          "histogram": [
           {
            "marker": {
             "pattern": {
              "fillmode": "overlay",
              "size": 10,
              "solidity": 0.2
             }
            },
            "type": "histogram"
           }
          ],
          "histogram2d": [
           {
            "colorbar": {
             "outlinewidth": 0,
             "ticks": ""
            },
            "colorscale": [
             [
              0,
              "#0d0887"
             ],
             [
              0.1111111111111111,
              "#46039f"
             ],
             [
              0.2222222222222222,
              "#7201a8"
             ],
             [
              0.3333333333333333,
              "#9c179e"
             ],
             [
              0.4444444444444444,
              "#bd3786"
             ],
             [
              0.5555555555555556,
              "#d8576b"
             ],
             [
              0.6666666666666666,
              "#ed7953"
             ],
             [
              0.7777777777777778,
              "#fb9f3a"
             ],
             [
              0.8888888888888888,
              "#fdca26"
             ],
             [
              1,
              "#f0f921"
             ]
            ],
            "type": "histogram2d"
           }
          ],
          "histogram2dcontour": [
           {
            "colorbar": {
             "outlinewidth": 0,
             "ticks": ""
            },
            "colorscale": [
             [
              0,
              "#0d0887"
             ],
             [
              0.1111111111111111,
              "#46039f"
             ],
             [
              0.2222222222222222,
              "#7201a8"
             ],
             [
              0.3333333333333333,
              "#9c179e"
             ],
             [
              0.4444444444444444,
              "#bd3786"
             ],
             [
              0.5555555555555556,
              "#d8576b"
             ],
             [
              0.6666666666666666,
              "#ed7953"
             ],
             [
              0.7777777777777778,
              "#fb9f3a"
             ],
             [
              0.8888888888888888,
              "#fdca26"
             ],
             [
              1,
              "#f0f921"
             ]
            ],
            "type": "histogram2dcontour"
           }
          ],
          "mesh3d": [
           {
            "colorbar": {
             "outlinewidth": 0,
             "ticks": ""
            },
            "type": "mesh3d"
           }
          ],
          "parcoords": [
           {
            "line": {
             "colorbar": {
              "outlinewidth": 0,
              "ticks": ""
             }
            },
            "type": "parcoords"
           }
          ],
          "pie": [
           {
            "automargin": true,
            "type": "pie"
           }
          ],
          "scatter": [
           {
            "fillpattern": {
             "fillmode": "overlay",
             "size": 10,
             "solidity": 0.2
            },
            "type": "scatter"
           }
          ],
          "scatter3d": [
           {
            "line": {
             "colorbar": {
              "outlinewidth": 0,
              "ticks": ""
             }
            },
            "marker": {
             "colorbar": {
              "outlinewidth": 0,
              "ticks": ""
             }
            },
            "type": "scatter3d"
           }
          ],
          "scattercarpet": [
           {
            "marker": {
             "colorbar": {
              "outlinewidth": 0,
              "ticks": ""
             }
            },
            "type": "scattercarpet"
           }
          ],
          "scattergeo": [
           {
            "marker": {
             "colorbar": {
              "outlinewidth": 0,
              "ticks": ""
             }
            },
            "type": "scattergeo"
           }
          ],
          "scattergl": [
           {
            "marker": {
             "colorbar": {
              "outlinewidth": 0,
              "ticks": ""
             }
            },
            "type": "scattergl"
           }
          ],
          "scattermapbox": [
           {
            "marker": {
             "colorbar": {
              "outlinewidth": 0,
              "ticks": ""
             }
            },
            "type": "scattermapbox"
           }
          ],
          "scatterpolar": [
           {
            "marker": {
             "colorbar": {
              "outlinewidth": 0,
              "ticks": ""
             }
            },
            "type": "scatterpolar"
           }
          ],
          "scatterpolargl": [
           {
            "marker": {
             "colorbar": {
              "outlinewidth": 0,
              "ticks": ""
             }
            },
            "type": "scatterpolargl"
           }
          ],
          "scatterternary": [
           {
            "marker": {
             "colorbar": {
              "outlinewidth": 0,
              "ticks": ""
             }
            },
            "type": "scatterternary"
           }
          ],
          "surface": [
           {
            "colorbar": {
             "outlinewidth": 0,
             "ticks": ""
            },
            "colorscale": [
             [
              0,
              "#0d0887"
             ],
             [
              0.1111111111111111,
              "#46039f"
             ],
             [
              0.2222222222222222,
              "#7201a8"
             ],
             [
              0.3333333333333333,
              "#9c179e"
             ],
             [
              0.4444444444444444,
              "#bd3786"
             ],
             [
              0.5555555555555556,
              "#d8576b"
             ],
             [
              0.6666666666666666,
              "#ed7953"
             ],
             [
              0.7777777777777778,
              "#fb9f3a"
             ],
             [
              0.8888888888888888,
              "#fdca26"
             ],
             [
              1,
              "#f0f921"
             ]
            ],
            "type": "surface"
           }
          ],
          "table": [
           {
            "cells": {
             "fill": {
              "color": "#EBF0F8"
             },
             "line": {
              "color": "white"
             }
            },
            "header": {
             "fill": {
              "color": "#C8D4E3"
             },
             "line": {
              "color": "white"
             }
            },
            "type": "table"
           }
          ]
         },
         "layout": {
          "annotationdefaults": {
           "arrowcolor": "#2a3f5f",
           "arrowhead": 0,
           "arrowwidth": 1
          },
          "autotypenumbers": "strict",
          "coloraxis": {
           "colorbar": {
            "outlinewidth": 0,
            "ticks": ""
           }
          },
          "colorscale": {
           "diverging": [
            [
             0,
             "#8e0152"
            ],
            [
             0.1,
             "#c51b7d"
            ],
            [
             0.2,
             "#de77ae"
            ],
            [
             0.3,
             "#f1b6da"
            ],
            [
             0.4,
             "#fde0ef"
            ],
            [
             0.5,
             "#f7f7f7"
            ],
            [
             0.6,
             "#e6f5d0"
            ],
            [
             0.7,
             "#b8e186"
            ],
            [
             0.8,
             "#7fbc41"
            ],
            [
             0.9,
             "#4d9221"
            ],
            [
             1,
             "#276419"
            ]
           ],
           "sequential": [
            [
             0,
             "#0d0887"
            ],
            [
             0.1111111111111111,
             "#46039f"
            ],
            [
             0.2222222222222222,
             "#7201a8"
            ],
            [
             0.3333333333333333,
             "#9c179e"
            ],
            [
             0.4444444444444444,
             "#bd3786"
            ],
            [
             0.5555555555555556,
             "#d8576b"
            ],
            [
             0.6666666666666666,
             "#ed7953"
            ],
            [
             0.7777777777777778,
             "#fb9f3a"
            ],
            [
             0.8888888888888888,
             "#fdca26"
            ],
            [
             1,
             "#f0f921"
            ]
           ],
           "sequentialminus": [
            [
             0,
             "#0d0887"
            ],
            [
             0.1111111111111111,
             "#46039f"
            ],
            [
             0.2222222222222222,
             "#7201a8"
            ],
            [
             0.3333333333333333,
             "#9c179e"
            ],
            [
             0.4444444444444444,
             "#bd3786"
            ],
            [
             0.5555555555555556,
             "#d8576b"
            ],
            [
             0.6666666666666666,
             "#ed7953"
            ],
            [
             0.7777777777777778,
             "#fb9f3a"
            ],
            [
             0.8888888888888888,
             "#fdca26"
            ],
            [
             1,
             "#f0f921"
            ]
           ]
          },
          "colorway": [
           "#636efa",
           "#EF553B",
           "#00cc96",
           "#ab63fa",
           "#FFA15A",
           "#19d3f3",
           "#FF6692",
           "#B6E880",
           "#FF97FF",
           "#FECB52"
          ],
          "font": {
           "color": "#2a3f5f"
          },
          "geo": {
           "bgcolor": "white",
           "lakecolor": "white",
           "landcolor": "#E5ECF6",
           "showlakes": true,
           "showland": true,
           "subunitcolor": "white"
          },
          "hoverlabel": {
           "align": "left"
          },
          "hovermode": "closest",
          "mapbox": {
           "style": "light"
          },
          "paper_bgcolor": "white",
          "plot_bgcolor": "#E5ECF6",
          "polar": {
           "angularaxis": {
            "gridcolor": "white",
            "linecolor": "white",
            "ticks": ""
           },
           "bgcolor": "#E5ECF6",
           "radialaxis": {
            "gridcolor": "white",
            "linecolor": "white",
            "ticks": ""
           }
          },
          "scene": {
           "xaxis": {
            "backgroundcolor": "#E5ECF6",
            "gridcolor": "white",
            "gridwidth": 2,
            "linecolor": "white",
            "showbackground": true,
            "ticks": "",
            "zerolinecolor": "white"
           },
           "yaxis": {
            "backgroundcolor": "#E5ECF6",
            "gridcolor": "white",
            "gridwidth": 2,
            "linecolor": "white",
            "showbackground": true,
            "ticks": "",
            "zerolinecolor": "white"
           },
           "zaxis": {
            "backgroundcolor": "#E5ECF6",
            "gridcolor": "white",
            "gridwidth": 2,
            "linecolor": "white",
            "showbackground": true,
            "ticks": "",
            "zerolinecolor": "white"
           }
          },
          "shapedefaults": {
           "line": {
            "color": "#2a3f5f"
           }
          },
          "ternary": {
           "aaxis": {
            "gridcolor": "white",
            "linecolor": "white",
            "ticks": ""
           },
           "baxis": {
            "gridcolor": "white",
            "linecolor": "white",
            "ticks": ""
           },
           "bgcolor": "#E5ECF6",
           "caxis": {
            "gridcolor": "white",
            "linecolor": "white",
            "ticks": ""
           }
          },
          "title": {
           "x": 0.05
          },
          "xaxis": {
           "automargin": true,
           "gridcolor": "white",
           "linecolor": "white",
           "ticks": "",
           "title": {
            "standoff": 15
           },
           "zerolinecolor": "white",
           "zerolinewidth": 2
          },
          "yaxis": {
           "automargin": true,
           "gridcolor": "white",
           "linecolor": "white",
           "ticks": "",
           "title": {
            "standoff": 15
           },
           "zerolinecolor": "white",
           "zerolinewidth": 2
          }
         }
        },
        "title": {
         "text": "Total Gross of Disney Movies After Inflation by MPAA Rating Over the Years"
        },
        "xaxis": {
         "anchor": "y",
         "domain": [
          0,
          1
         ],
         "title": {
          "text": "Year"
         }
        },
        "yaxis": {
         "anchor": "x",
         "domain": [
          0,
          1
         ],
         "title": {
          "text": "Total Gross (After Inflation)"
         }
        }
       }
      }
     },
     "metadata": {},
     "output_type": "display_data"
    }
   ],
   "source": [
    "fig = px.scatter(disney, x='release_date', y='inflation_adjusted_gross', color='mpaa_rating', title='Total Gross of Disney Movies After Inflation by MPAA Rating Over the Years')\n",
    "\n",
    "fig.update_layout(\n",
    "    xaxis_title='Year',\n",
    "    yaxis_title='Total Gross (After Inflation)',\n",
    "    legend_title_text='MPAA Rating'\n",
    ")\n",
    "\n",
    "fig.show() "
   ]
  },
  {
   "cell_type": "markdown",
   "metadata": {},
   "source": [
    "After adjusting for inflation, the gross income of earlier Disney movies has increased, making the earlier movies which are rated G, the most valuable films."
   ]
  },
  {
   "cell_type": "code",
   "execution_count": 143,
   "metadata": {},
   "outputs": [
    {
     "data": {
      "text/html": [
       "<div>\n",
       "<style scoped>\n",
       "    .dataframe tbody tr th:only-of-type {\n",
       "        vertical-align: middle;\n",
       "    }\n",
       "\n",
       "    .dataframe tbody tr th {\n",
       "        vertical-align: top;\n",
       "    }\n",
       "\n",
       "    .dataframe thead th {\n",
       "        text-align: right;\n",
       "    }\n",
       "</style>\n",
       "<table border=\"1\" class=\"dataframe\">\n",
       "  <thead>\n",
       "    <tr style=\"text-align: right;\">\n",
       "      <th></th>\n",
       "      <th>title</th>\n",
       "      <th>imdb</th>\n",
       "      <th>movie_title</th>\n",
       "      <th>release_date</th>\n",
       "      <th>genre</th>\n",
       "      <th>mpaa_rating</th>\n",
       "      <th>total_gross</th>\n",
       "      <th>inflation_adjusted_gross</th>\n",
       "      <th>year</th>\n",
       "    </tr>\n",
       "  </thead>\n",
       "  <tbody>\n",
       "    <tr>\n",
       "      <th>0</th>\n",
       "      <td>Snow White and the Seven Dwarfs</td>\n",
       "      <td>7.6</td>\n",
       "      <td>Snow White and the Seven Dwarfs</td>\n",
       "      <td>1937-12-21</td>\n",
       "      <td>Musical</td>\n",
       "      <td>G</td>\n",
       "      <td>184925485</td>\n",
       "      <td>5228953251</td>\n",
       "      <td>1937</td>\n",
       "    </tr>\n",
       "    <tr>\n",
       "      <th>1</th>\n",
       "      <td>Pinocchio</td>\n",
       "      <td>7.4</td>\n",
       "      <td>Pinocchio</td>\n",
       "      <td>1940-02-09</td>\n",
       "      <td>Adventure</td>\n",
       "      <td>G</td>\n",
       "      <td>84300000</td>\n",
       "      <td>2188229052</td>\n",
       "      <td>1940</td>\n",
       "    </tr>\n",
       "    <tr>\n",
       "      <th>2</th>\n",
       "      <td>Fantasia</td>\n",
       "      <td>7.7</td>\n",
       "      <td>Fantasia</td>\n",
       "      <td>1940-11-13</td>\n",
       "      <td>Musical</td>\n",
       "      <td>G</td>\n",
       "      <td>83320000</td>\n",
       "      <td>2187090808</td>\n",
       "      <td>1940</td>\n",
       "    </tr>\n",
       "    <tr>\n",
       "      <th>3</th>\n",
       "      <td>Song of the South</td>\n",
       "      <td>7.1</td>\n",
       "      <td>Song of the South</td>\n",
       "      <td>1946-11-12</td>\n",
       "      <td>Adventure</td>\n",
       "      <td>G</td>\n",
       "      <td>65000000</td>\n",
       "      <td>1078510579</td>\n",
       "      <td>1946</td>\n",
       "    </tr>\n",
       "    <tr>\n",
       "      <th>4</th>\n",
       "      <td>Cinderella</td>\n",
       "      <td>6.9</td>\n",
       "      <td>Cinderella</td>\n",
       "      <td>1950-02-15</td>\n",
       "      <td>Drama</td>\n",
       "      <td>G</td>\n",
       "      <td>85000000</td>\n",
       "      <td>920608730</td>\n",
       "      <td>1950</td>\n",
       "    </tr>\n",
       "  </tbody>\n",
       "</table>\n",
       "</div>"
      ],
      "text/plain": [
       "                             title  imdb                      movie_title  \\\n",
       "0  Snow White and the Seven Dwarfs   7.6  Snow White and the Seven Dwarfs   \n",
       "1                        Pinocchio   7.4                        Pinocchio   \n",
       "2                         Fantasia   7.7                         Fantasia   \n",
       "3                Song of the South   7.1                Song of the South   \n",
       "4                       Cinderella   6.9                       Cinderella   \n",
       "\n",
       "  release_date      genre mpaa_rating  total_gross  inflation_adjusted_gross  \\\n",
       "0   1937-12-21    Musical           G    184925485                5228953251   \n",
       "1   1940-02-09  Adventure           G     84300000                2188229052   \n",
       "2   1940-11-13    Musical           G     83320000                2187090808   \n",
       "3   1946-11-12  Adventure           G     65000000                1078510579   \n",
       "4   1950-02-15      Drama           G     85000000                 920608730   \n",
       "\n",
       "   year  \n",
       "0  1937  \n",
       "1  1940  \n",
       "2  1940  \n",
       "3  1946  \n",
       "4  1950  "
      ]
     },
     "execution_count": 143,
     "metadata": {},
     "output_type": "execute_result"
    }
   ],
   "source": [
    "# Read in the data\n",
    "disney_imdb_rating = pd.read_csv(\"disney_last.csv\")\n",
    "\n",
    "# Select only the 'title' and 'imdb' columns from disney_imdb_rating\n",
    "imdb_ratings = disney_imdb_rating[['title', 'imdb']]\n",
    "\n",
    "# Merge both dataframes to get the IMDb ratings for the movies (only the available ones)\n",
    "disney_rated = imdb_ratings.merge(disney, left_on='title', right_on='movie_title', how='inner')\n",
    "\n",
    "# Preview the data\n",
    "disney_rated.head()"
   ]
  },
  {
   "cell_type": "code",
   "execution_count": 144,
   "metadata": {},
   "outputs": [
    {
     "data": {
      "application/vnd.plotly.v1+json": {
       "config": {
        "plotlyServerURL": "https://plot.ly"
       },
       "data": [
        {
         "hovertemplate": "imdb=%{x}<br>total_gross=%{y}<extra></extra>",
         "legendgroup": "",
         "marker": {
          "color": "#636efa",
          "symbol": "circle"
         },
         "mode": "markers",
         "name": "",
         "orientation": "v",
         "showlegend": false,
         "type": "scatter",
         "x": [
          7.6,
          7.4,
          7.7,
          7.1,
          6.9,
          6.9,
          6.4,
          7.2,
          7.3,
          7.2,
          4.4,
          6.5,
          6.3,
          5.8,
          7.2,
          7.4,
          7.4,
          7.4,
          6.9,
          5.6,
          7.1,
          7.1,
          6.5,
          6.9,
          5.7,
          6,
          6.4,
          5.1,
          7.8,
          7.3,
          5.8,
          6.5,
          6.8,
          6.5,
          5.3,
          6.8,
          7.5,
          6.8,
          6.4,
          7.1,
          6.5,
          7.2,
          6.9,
          6.3,
          6.7,
          6.4,
          6.1,
          7.6,
          6.9,
          6.7,
          7.3,
          6.5,
          8,
          7,
          6.6,
          8,
          7.7,
          7,
          6.6,
          6.2,
          6.9,
          7,
          5.7,
          6.6,
          5.3,
          6.1,
          5.5,
          8.5,
          6.2,
          6,
          6.5,
          5.4,
          5.9,
          6.9,
          6.7,
          5.1,
          4.7,
          5.6,
          8.3,
          5.5,
          7,
          6.7,
          6.9,
          5.3,
          5.5,
          5.7,
          5.7,
          4.7,
          5.2,
          7.3,
          5.2,
          5.3,
          4,
          4.1,
          7.6,
          6.5,
          7.2,
          5.6,
          5.1,
          5,
          7.3,
          7.3,
          4.2,
          8,
          7.9,
          6.3,
          6.5,
          8.3,
          4.9,
          7.4,
          6.6,
          6.9,
          6.3,
          5.4,
          8.1,
          5.2,
          6.9,
          7.2,
          4.1,
          6.6,
          5.6,
          7.2,
          5.4,
          6.2,
          6.8,
          7,
          5.5,
          8.1,
          6.2,
          6.2,
          6.8,
          5,
          7.5,
          5.4,
          5.9,
          null,
          8,
          6.9,
          6.4,
          6.4,
          5.6,
          6,
          4.8,
          6.2,
          5.5,
          7.4,
          5.7,
          7.2,
          7.3,
          4.4,
          5.2,
          7.1,
          7.1,
          7.1,
          6.8,
          8,
          4.7,
          6.1,
          7,
          4.3,
          6.5,
          8.4,
          3.8,
          5.8,
          6.8,
          6,
          5.7,
          8,
          8.2,
          5.1,
          5.4,
          7.1,
          6.4,
          7.8,
          8.2,
          6.1,
          7.2,
          7.7,
          6.8,
          5.4,
          4.1,
          7.6,
          5.4,
          6.1,
          7.2,
          7.1,
          6.6,
          7.2,
          7.1,
          6.6,
          6.9,
          7.7,
          6.3,
          7.3,
          6.4,
          7.4,
          7.5,
          6.4,
          7.4,
          7,
          7,
          7.8,
          5.9,
          7.4,
          6.9,
          6.9,
          7.3,
          6.4,
          8.1,
          6.7,
          6.8,
          8,
          7.4,
          7.4,
          7.4,
          6.2,
          7.3,
          6.4,
          7.4,
          7.6,
          8,
          8,
          8.5,
          7.3,
          7.6,
          7.6,
          7,
          7.4
         ],
         "xaxis": "x",
         "y": [
          184925485,
          84300000,
          83320000,
          65000000,
          85000000,
          201151353,
          334191110,
          28200000,
          93600000,
          9464608,
          61123569,
          66308518,
          10218316,
          9230769,
          22182353,
          141843000,
          44342956,
          364001123,
          21540050,
          18607492,
          55675257,
          17871174,
          31916500,
          48775599,
          28000000,
          35841901,
          2900000,
          16000000,
          0,
          43899231,
          0,
          4500000,
          26918576,
          7199408,
          4304286,
          5656087,
          27668764,
          10618813,
          21288692,
          9468512,
          13229514,
          23605534,
          18564613,
          15212539,
          49576671,
          130724172,
          7882250,
          111543479,
          27931461,
          34729091,
          7300000,
          46573027,
          218951625,
          2706352,
          50752337,
          217350219,
          27281507,
          41833324,
          12890752,
          24103594,
          39360491,
          68856263,
          53661805,
          20623071,
          30573770,
          45604206,
          8752399,
          422780140,
          50236831,
          3319344,
          144833357,
          40029009,
          8247627,
          35336439,
          141579773,
          24670346,
          13406717,
          17736619,
          191796233,
          23837227,
          34327391,
          28921264,
          100138851,
          26465920,
          22936273,
          153000000,
          136189294,
          18301828,
          59925026,
          99112101,
          24646936,
          92993801,
          21437192,
          4356126,
          120620254,
          66308518,
          162798565,
          50632037,
          36850101,
          19421271,
          229128,
          171091819,
          97387965,
          6197866,
          245852179,
          45542421,
          137748063,
          69688384,
          66941559,
          89296573,
          36696761,
          84052762,
          108244774,
          17292381,
          289423425,
          81150692,
          75600072,
          145771527,
          16988996,
          19161999,
          139225854,
          38120554,
          47901582,
          23103423,
          17093668,
          67383924,
          42734455,
          380529370,
          25942000,
          110222438,
          85336277,
          75817994,
          64378093,
          50026353,
          24004159,
          314000,
          261441092,
          173005002,
          8968684,
          18098433,
          113006880,
          24381334,
          66010682,
          63939454,
          19478106,
          15331289,
          135386665,
          10407978,
          81612565,
          61123569,
          37384046,
          244082982,
          57806952,
          82234139,
          97822171,
          206445654,
          43760605,
          90648202,
          127706877,
          45610425,
          141621490,
          223808164,
          94514402,
          275093,
          114053759,
          110101975,
          67172594,
          32011576,
          293004164,
          119436770,
          49492060,
          104400899,
          334191110,
          19422319,
          415004880,
          63150991,
          59699513,
          200821936,
          172062763,
          21392758,
          2815,
          15428747,
          10130219,
          191450875,
          26692846,
          88625922,
          73058679,
          28965459,
          237282182,
          51853450,
          35287788,
          189412677,
          234770996,
          268488329,
          89302115,
          400738009,
          83299761,
          51178893,
          17780194,
          36447959,
          241407328,
          222527828,
          128002372,
          44480275,
          85000000,
          201151353,
          16432322,
          93436322,
          356461711,
          123087120,
          27569558,
          341268248,
          141843000,
          44342956,
          364001123,
          77042381,
          486295561,
          55483770,
          8874389,
          246082029,
          218951625,
          217350219,
          422780140,
          93600000,
          120620254,
          111543479,
          127706877,
          84300000
         ],
         "yaxis": "y"
        },
        {
         "hovertemplate": "<b>OLS trendline</b><br>total_gross = 4.27229e+07 * imdb + -1.90516e+08<br>R<sup>2</sup>=0.191806<br><br>imdb=%{x}<br>total_gross=%{y} <b>(trend)</b><extra></extra>",
         "legendgroup": "",
         "marker": {
          "color": "#636efa",
          "symbol": "circle"
         },
         "mode": "lines",
         "name": "",
         "showlegend": false,
         "type": "scatter",
         "x": [
          3.8,
          4,
          4.1,
          4.1,
          4.1,
          4.2,
          4.3,
          4.4,
          4.4,
          4.7,
          4.7,
          4.7,
          4.8,
          4.9,
          5,
          5,
          5.1,
          5.1,
          5.1,
          5.1,
          5.2,
          5.2,
          5.2,
          5.2,
          5.3,
          5.3,
          5.3,
          5.3,
          5.4,
          5.4,
          5.4,
          5.4,
          5.4,
          5.4,
          5.4,
          5.5,
          5.5,
          5.5,
          5.5,
          5.5,
          5.6,
          5.6,
          5.6,
          5.6,
          5.6,
          5.7,
          5.7,
          5.7,
          5.7,
          5.7,
          5.7,
          5.8,
          5.8,
          5.8,
          5.9,
          5.9,
          5.9,
          6,
          6,
          6,
          6,
          6.1,
          6.1,
          6.1,
          6.1,
          6.1,
          6.2,
          6.2,
          6.2,
          6.2,
          6.2,
          6.2,
          6.2,
          6.3,
          6.3,
          6.3,
          6.3,
          6.3,
          6.4,
          6.4,
          6.4,
          6.4,
          6.4,
          6.4,
          6.4,
          6.4,
          6.4,
          6.4,
          6.4,
          6.5,
          6.5,
          6.5,
          6.5,
          6.5,
          6.5,
          6.5,
          6.5,
          6.5,
          6.5,
          6.6,
          6.6,
          6.6,
          6.6,
          6.6,
          6.6,
          6.6,
          6.7,
          6.7,
          6.7,
          6.7,
          6.7,
          6.8,
          6.8,
          6.8,
          6.8,
          6.8,
          6.8,
          6.8,
          6.8,
          6.8,
          6.9,
          6.9,
          6.9,
          6.9,
          6.9,
          6.9,
          6.9,
          6.9,
          6.9,
          6.9,
          6.9,
          6.9,
          6.9,
          6.9,
          6.9,
          7,
          7,
          7,
          7,
          7,
          7,
          7,
          7,
          7,
          7.1,
          7.1,
          7.1,
          7.1,
          7.1,
          7.1,
          7.1,
          7.1,
          7.1,
          7.1,
          7.2,
          7.2,
          7.2,
          7.2,
          7.2,
          7.2,
          7.2,
          7.2,
          7.2,
          7.2,
          7.2,
          7.3,
          7.3,
          7.3,
          7.3,
          7.3,
          7.3,
          7.3,
          7.3,
          7.3,
          7.3,
          7.3,
          7.4,
          7.4,
          7.4,
          7.4,
          7.4,
          7.4,
          7.4,
          7.4,
          7.4,
          7.4,
          7.4,
          7.4,
          7.4,
          7.4,
          7.5,
          7.5,
          7.5,
          7.6,
          7.6,
          7.6,
          7.6,
          7.6,
          7.6,
          7.6,
          7.7,
          7.7,
          7.7,
          7.7,
          7.8,
          7.8,
          7.8,
          7.9,
          8,
          8,
          8,
          8,
          8,
          8,
          8,
          8,
          8,
          8.1,
          8.1,
          8.1,
          8.2,
          8.2,
          8.3,
          8.3,
          8.4,
          8.5,
          8.5
         ],
         "xaxis": "x",
         "y": [
          -28168361.10697773,
          -19623772.050278187,
          -15351477.52192843,
          -15351477.52192843,
          -15351477.52192843,
          -11079182.993578643,
          -6806888.465228885,
          -2534593.9368790984,
          -2534593.9368790984,
          10282289.648170203,
          10282289.648170203,
          10282289.648170203,
          14554584.17651996,
          18826878.704869747,
          23099173.233219504,
          23099173.233219504,
          27371467.76156923,
          27371467.76156923,
          27371467.76156923,
          27371467.76156923,
          31643762.28991902,
          31643762.28991902,
          31643762.28991902,
          31643762.28991902,
          35916056.818268776,
          35916056.818268776,
          35916056.818268776,
          35916056.818268776,
          40188351.34661856,
          40188351.34661856,
          40188351.34661856,
          40188351.34661856,
          40188351.34661856,
          40188351.34661856,
          40188351.34661856,
          44460645.87496832,
          44460645.87496832,
          44460645.87496832,
          44460645.87496832,
          44460645.87496832,
          48732940.40331808,
          48732940.40331808,
          48732940.40331808,
          48732940.40331808,
          48732940.40331808,
          53005234.931667864,
          53005234.931667864,
          53005234.931667864,
          53005234.931667864,
          53005234.931667864,
          53005234.931667864,
          57277529.46001762,
          57277529.46001762,
          57277529.46001762,
          61549823.98836741,
          61549823.98836741,
          61549823.98836741,
          65822118.516717166,
          65822118.516717166,
          65822118.516717166,
          65822118.516717166,
          70094413.04506692,
          70094413.04506692,
          70094413.04506692,
          70094413.04506692,
          70094413.04506692,
          74366707.57341671,
          74366707.57341671,
          74366707.57341671,
          74366707.57341671,
          74366707.57341671,
          74366707.57341671,
          74366707.57341671,
          78639002.10176647,
          78639002.10176647,
          78639002.10176647,
          78639002.10176647,
          78639002.10176647,
          82911296.63011622,
          82911296.63011622,
          82911296.63011622,
          82911296.63011622,
          82911296.63011622,
          82911296.63011622,
          82911296.63011622,
          82911296.63011622,
          82911296.63011622,
          82911296.63011622,
          82911296.63011622,
          87183591.15846598,
          87183591.15846598,
          87183591.15846598,
          87183591.15846598,
          87183591.15846598,
          87183591.15846598,
          87183591.15846598,
          87183591.15846598,
          87183591.15846598,
          87183591.15846598,
          91455885.68681574,
          91455885.68681574,
          91455885.68681574,
          91455885.68681574,
          91455885.68681574,
          91455885.68681574,
          91455885.68681574,
          95728180.21516556,
          95728180.21516556,
          95728180.21516556,
          95728180.21516556,
          95728180.21516556,
          100000474.74351531,
          100000474.74351531,
          100000474.74351531,
          100000474.74351531,
          100000474.74351531,
          100000474.74351531,
          100000474.74351531,
          100000474.74351531,
          100000474.74351531,
          104272769.27186507,
          104272769.27186507,
          104272769.27186507,
          104272769.27186507,
          104272769.27186507,
          104272769.27186507,
          104272769.27186507,
          104272769.27186507,
          104272769.27186507,
          104272769.27186507,
          104272769.27186507,
          104272769.27186507,
          104272769.27186507,
          104272769.27186507,
          104272769.27186507,
          108545063.80021483,
          108545063.80021483,
          108545063.80021483,
          108545063.80021483,
          108545063.80021483,
          108545063.80021483,
          108545063.80021483,
          108545063.80021483,
          108545063.80021483,
          112817358.32856458,
          112817358.32856458,
          112817358.32856458,
          112817358.32856458,
          112817358.32856458,
          112817358.32856458,
          112817358.32856458,
          112817358.32856458,
          112817358.32856458,
          112817358.32856458,
          117089652.8569144,
          117089652.8569144,
          117089652.8569144,
          117089652.8569144,
          117089652.8569144,
          117089652.8569144,
          117089652.8569144,
          117089652.8569144,
          117089652.8569144,
          117089652.8569144,
          117089652.8569144,
          121361947.38526416,
          121361947.38526416,
          121361947.38526416,
          121361947.38526416,
          121361947.38526416,
          121361947.38526416,
          121361947.38526416,
          121361947.38526416,
          121361947.38526416,
          121361947.38526416,
          121361947.38526416,
          125634241.91361392,
          125634241.91361392,
          125634241.91361392,
          125634241.91361392,
          125634241.91361392,
          125634241.91361392,
          125634241.91361392,
          125634241.91361392,
          125634241.91361392,
          125634241.91361392,
          125634241.91361392,
          125634241.91361392,
          125634241.91361392,
          125634241.91361392,
          129906536.44196367,
          129906536.44196367,
          129906536.44196367,
          134178830.97031343,
          134178830.97031343,
          134178830.97031343,
          134178830.97031343,
          134178830.97031343,
          134178830.97031343,
          134178830.97031343,
          138451125.49866325,
          138451125.49866325,
          138451125.49866325,
          138451125.49866325,
          142723420.027013,
          142723420.027013,
          142723420.027013,
          146995714.55536276,
          151268009.08371252,
          151268009.08371252,
          151268009.08371252,
          151268009.08371252,
          151268009.08371252,
          151268009.08371252,
          151268009.08371252,
          151268009.08371252,
          151268009.08371252,
          155540303.61206228,
          155540303.61206228,
          155540303.61206228,
          159812598.14041203,
          159812598.14041203,
          164084892.66876185,
          164084892.66876185,
          168357187.1971116,
          172629481.72546136,
          172629481.72546136
         ],
         "yaxis": "y"
        }
       ],
       "layout": {
        "legend": {
         "tracegroupgap": 0
        },
        "template": {
         "data": {
          "bar": [
           {
            "error_x": {
             "color": "#2a3f5f"
            },
            "error_y": {
             "color": "#2a3f5f"
            },
            "marker": {
             "line": {
              "color": "#E5ECF6",
              "width": 0.5
             },
             "pattern": {
              "fillmode": "overlay",
              "size": 10,
              "solidity": 0.2
             }
            },
            "type": "bar"
           }
          ],
          "barpolar": [
           {
            "marker": {
             "line": {
              "color": "#E5ECF6",
              "width": 0.5
             },
             "pattern": {
              "fillmode": "overlay",
              "size": 10,
              "solidity": 0.2
             }
            },
            "type": "barpolar"
           }
          ],
          "carpet": [
           {
            "aaxis": {
             "endlinecolor": "#2a3f5f",
             "gridcolor": "white",
             "linecolor": "white",
             "minorgridcolor": "white",
             "startlinecolor": "#2a3f5f"
            },
            "baxis": {
             "endlinecolor": "#2a3f5f",
             "gridcolor": "white",
             "linecolor": "white",
             "minorgridcolor": "white",
             "startlinecolor": "#2a3f5f"
            },
            "type": "carpet"
           }
          ],
          "choropleth": [
           {
            "colorbar": {
             "outlinewidth": 0,
             "ticks": ""
            },
            "type": "choropleth"
           }
          ],
          "contour": [
           {
            "colorbar": {
             "outlinewidth": 0,
             "ticks": ""
            },
            "colorscale": [
             [
              0,
              "#0d0887"
             ],
             [
              0.1111111111111111,
              "#46039f"
             ],
             [
              0.2222222222222222,
              "#7201a8"
             ],
             [
              0.3333333333333333,
              "#9c179e"
             ],
             [
              0.4444444444444444,
              "#bd3786"
             ],
             [
              0.5555555555555556,
              "#d8576b"
             ],
             [
              0.6666666666666666,
              "#ed7953"
             ],
             [
              0.7777777777777778,
              "#fb9f3a"
             ],
             [
              0.8888888888888888,
              "#fdca26"
             ],
             [
              1,
              "#f0f921"
             ]
            ],
            "type": "contour"
           }
          ],
          "contourcarpet": [
           {
            "colorbar": {
             "outlinewidth": 0,
             "ticks": ""
            },
            "type": "contourcarpet"
           }
          ],
          "heatmap": [
           {
            "colorbar": {
             "outlinewidth": 0,
             "ticks": ""
            },
            "colorscale": [
             [
              0,
              "#0d0887"
             ],
             [
              0.1111111111111111,
              "#46039f"
             ],
             [
              0.2222222222222222,
              "#7201a8"
             ],
             [
              0.3333333333333333,
              "#9c179e"
             ],
             [
              0.4444444444444444,
              "#bd3786"
             ],
             [
              0.5555555555555556,
              "#d8576b"
             ],
             [
              0.6666666666666666,
              "#ed7953"
             ],
             [
              0.7777777777777778,
              "#fb9f3a"
             ],
             [
              0.8888888888888888,
              "#fdca26"
             ],
             [
              1,
              "#f0f921"
             ]
            ],
            "type": "heatmap"
           }
          ],
          "heatmapgl": [
           {
            "colorbar": {
             "outlinewidth": 0,
             "ticks": ""
            },
            "colorscale": [
             [
              0,
              "#0d0887"
             ],
             [
              0.1111111111111111,
              "#46039f"
             ],
             [
              0.2222222222222222,
              "#7201a8"
             ],
             [
              0.3333333333333333,
              "#9c179e"
             ],
             [
              0.4444444444444444,
              "#bd3786"
             ],
             [
              0.5555555555555556,
              "#d8576b"
             ],
             [
              0.6666666666666666,
              "#ed7953"
             ],
             [
              0.7777777777777778,
              "#fb9f3a"
             ],
             [
              0.8888888888888888,
              "#fdca26"
             ],
             [
              1,
              "#f0f921"
             ]
            ],
            "type": "heatmapgl"
           }
          ],
          "histogram": [
           {
            "marker": {
             "pattern": {
              "fillmode": "overlay",
              "size": 10,
              "solidity": 0.2
             }
            },
            "type": "histogram"
           }
          ],
          "histogram2d": [
           {
            "colorbar": {
             "outlinewidth": 0,
             "ticks": ""
            },
            "colorscale": [
             [
              0,
              "#0d0887"
             ],
             [
              0.1111111111111111,
              "#46039f"
             ],
             [
              0.2222222222222222,
              "#7201a8"
             ],
             [
              0.3333333333333333,
              "#9c179e"
             ],
             [
              0.4444444444444444,
              "#bd3786"
             ],
             [
              0.5555555555555556,
              "#d8576b"
             ],
             [
              0.6666666666666666,
              "#ed7953"
             ],
             [
              0.7777777777777778,
              "#fb9f3a"
             ],
             [
              0.8888888888888888,
              "#fdca26"
             ],
             [
              1,
              "#f0f921"
             ]
            ],
            "type": "histogram2d"
           }
          ],
          "histogram2dcontour": [
           {
            "colorbar": {
             "outlinewidth": 0,
             "ticks": ""
            },
            "colorscale": [
             [
              0,
              "#0d0887"
             ],
             [
              0.1111111111111111,
              "#46039f"
             ],
             [
              0.2222222222222222,
              "#7201a8"
             ],
             [
              0.3333333333333333,
              "#9c179e"
             ],
             [
              0.4444444444444444,
              "#bd3786"
             ],
             [
              0.5555555555555556,
              "#d8576b"
             ],
             [
              0.6666666666666666,
              "#ed7953"
             ],
             [
              0.7777777777777778,
              "#fb9f3a"
             ],
             [
              0.8888888888888888,
              "#fdca26"
             ],
             [
              1,
              "#f0f921"
             ]
            ],
            "type": "histogram2dcontour"
           }
          ],
          "mesh3d": [
           {
            "colorbar": {
             "outlinewidth": 0,
             "ticks": ""
            },
            "type": "mesh3d"
           }
          ],
          "parcoords": [
           {
            "line": {
             "colorbar": {
              "outlinewidth": 0,
              "ticks": ""
             }
            },
            "type": "parcoords"
           }
          ],
          "pie": [
           {
            "automargin": true,
            "type": "pie"
           }
          ],
          "scatter": [
           {
            "fillpattern": {
             "fillmode": "overlay",
             "size": 10,
             "solidity": 0.2
            },
            "type": "scatter"
           }
          ],
          "scatter3d": [
           {
            "line": {
             "colorbar": {
              "outlinewidth": 0,
              "ticks": ""
             }
            },
            "marker": {
             "colorbar": {
              "outlinewidth": 0,
              "ticks": ""
             }
            },
            "type": "scatter3d"
           }
          ],
          "scattercarpet": [
           {
            "marker": {
             "colorbar": {
              "outlinewidth": 0,
              "ticks": ""
             }
            },
            "type": "scattercarpet"
           }
          ],
          "scattergeo": [
           {
            "marker": {
             "colorbar": {
              "outlinewidth": 0,
              "ticks": ""
             }
            },
            "type": "scattergeo"
           }
          ],
          "scattergl": [
           {
            "marker": {
             "colorbar": {
              "outlinewidth": 0,
              "ticks": ""
             }
            },
            "type": "scattergl"
           }
          ],
          "scattermapbox": [
           {
            "marker": {
             "colorbar": {
              "outlinewidth": 0,
              "ticks": ""
             }
            },
            "type": "scattermapbox"
           }
          ],
          "scatterpolar": [
           {
            "marker": {
             "colorbar": {
              "outlinewidth": 0,
              "ticks": ""
             }
            },
            "type": "scatterpolar"
           }
          ],
          "scatterpolargl": [
           {
            "marker": {
             "colorbar": {
              "outlinewidth": 0,
              "ticks": ""
             }
            },
            "type": "scatterpolargl"
           }
          ],
          "scatterternary": [
           {
            "marker": {
             "colorbar": {
              "outlinewidth": 0,
              "ticks": ""
             }
            },
            "type": "scatterternary"
           }
          ],
          "surface": [
           {
            "colorbar": {
             "outlinewidth": 0,
             "ticks": ""
            },
            "colorscale": [
             [
              0,
              "#0d0887"
             ],
             [
              0.1111111111111111,
              "#46039f"
             ],
             [
              0.2222222222222222,
              "#7201a8"
             ],
             [
              0.3333333333333333,
              "#9c179e"
             ],
             [
              0.4444444444444444,
              "#bd3786"
             ],
             [
              0.5555555555555556,
              "#d8576b"
             ],
             [
              0.6666666666666666,
              "#ed7953"
             ],
             [
              0.7777777777777778,
              "#fb9f3a"
             ],
             [
              0.8888888888888888,
              "#fdca26"
             ],
             [
              1,
              "#f0f921"
             ]
            ],
            "type": "surface"
           }
          ],
          "table": [
           {
            "cells": {
             "fill": {
              "color": "#EBF0F8"
             },
             "line": {
              "color": "white"
             }
            },
            "header": {
             "fill": {
              "color": "#C8D4E3"
             },
             "line": {
              "color": "white"
             }
            },
            "type": "table"
           }
          ]
         },
         "layout": {
          "annotationdefaults": {
           "arrowcolor": "#2a3f5f",
           "arrowhead": 0,
           "arrowwidth": 1
          },
          "autotypenumbers": "strict",
          "coloraxis": {
           "colorbar": {
            "outlinewidth": 0,
            "ticks": ""
           }
          },
          "colorscale": {
           "diverging": [
            [
             0,
             "#8e0152"
            ],
            [
             0.1,
             "#c51b7d"
            ],
            [
             0.2,
             "#de77ae"
            ],
            [
             0.3,
             "#f1b6da"
            ],
            [
             0.4,
             "#fde0ef"
            ],
            [
             0.5,
             "#f7f7f7"
            ],
            [
             0.6,
             "#e6f5d0"
            ],
            [
             0.7,
             "#b8e186"
            ],
            [
             0.8,
             "#7fbc41"
            ],
            [
             0.9,
             "#4d9221"
            ],
            [
             1,
             "#276419"
            ]
           ],
           "sequential": [
            [
             0,
             "#0d0887"
            ],
            [
             0.1111111111111111,
             "#46039f"
            ],
            [
             0.2222222222222222,
             "#7201a8"
            ],
            [
             0.3333333333333333,
             "#9c179e"
            ],
            [
             0.4444444444444444,
             "#bd3786"
            ],
            [
             0.5555555555555556,
             "#d8576b"
            ],
            [
             0.6666666666666666,
             "#ed7953"
            ],
            [
             0.7777777777777778,
             "#fb9f3a"
            ],
            [
             0.8888888888888888,
             "#fdca26"
            ],
            [
             1,
             "#f0f921"
            ]
           ],
           "sequentialminus": [
            [
             0,
             "#0d0887"
            ],
            [
             0.1111111111111111,
             "#46039f"
            ],
            [
             0.2222222222222222,
             "#7201a8"
            ],
            [
             0.3333333333333333,
             "#9c179e"
            ],
            [
             0.4444444444444444,
             "#bd3786"
            ],
            [
             0.5555555555555556,
             "#d8576b"
            ],
            [
             0.6666666666666666,
             "#ed7953"
            ],
            [
             0.7777777777777778,
             "#fb9f3a"
            ],
            [
             0.8888888888888888,
             "#fdca26"
            ],
            [
             1,
             "#f0f921"
            ]
           ]
          },
          "colorway": [
           "#636efa",
           "#EF553B",
           "#00cc96",
           "#ab63fa",
           "#FFA15A",
           "#19d3f3",
           "#FF6692",
           "#B6E880",
           "#FF97FF",
           "#FECB52"
          ],
          "font": {
           "color": "#2a3f5f"
          },
          "geo": {
           "bgcolor": "white",
           "lakecolor": "white",
           "landcolor": "#E5ECF6",
           "showlakes": true,
           "showland": true,
           "subunitcolor": "white"
          },
          "hoverlabel": {
           "align": "left"
          },
          "hovermode": "closest",
          "mapbox": {
           "style": "light"
          },
          "paper_bgcolor": "white",
          "plot_bgcolor": "#E5ECF6",
          "polar": {
           "angularaxis": {
            "gridcolor": "white",
            "linecolor": "white",
            "ticks": ""
           },
           "bgcolor": "#E5ECF6",
           "radialaxis": {
            "gridcolor": "white",
            "linecolor": "white",
            "ticks": ""
           }
          },
          "scene": {
           "xaxis": {
            "backgroundcolor": "#E5ECF6",
            "gridcolor": "white",
            "gridwidth": 2,
            "linecolor": "white",
            "showbackground": true,
            "ticks": "",
            "zerolinecolor": "white"
           },
           "yaxis": {
            "backgroundcolor": "#E5ECF6",
            "gridcolor": "white",
            "gridwidth": 2,
            "linecolor": "white",
            "showbackground": true,
            "ticks": "",
            "zerolinecolor": "white"
           },
           "zaxis": {
            "backgroundcolor": "#E5ECF6",
            "gridcolor": "white",
            "gridwidth": 2,
            "linecolor": "white",
            "showbackground": true,
            "ticks": "",
            "zerolinecolor": "white"
           }
          },
          "shapedefaults": {
           "line": {
            "color": "#2a3f5f"
           }
          },
          "ternary": {
           "aaxis": {
            "gridcolor": "white",
            "linecolor": "white",
            "ticks": ""
           },
           "baxis": {
            "gridcolor": "white",
            "linecolor": "white",
            "ticks": ""
           },
           "bgcolor": "#E5ECF6",
           "caxis": {
            "gridcolor": "white",
            "linecolor": "white",
            "ticks": ""
           }
          },
          "title": {
           "x": 0.05
          },
          "xaxis": {
           "automargin": true,
           "gridcolor": "white",
           "linecolor": "white",
           "ticks": "",
           "title": {
            "standoff": 15
           },
           "zerolinecolor": "white",
           "zerolinewidth": 2
          },
          "yaxis": {
           "automargin": true,
           "gridcolor": "white",
           "linecolor": "white",
           "ticks": "",
           "title": {
            "standoff": 15
           },
           "zerolinecolor": "white",
           "zerolinewidth": 2
          }
         }
        },
        "title": {
         "text": "Total Gross of Disney Movies by IMDb Rating"
        },
        "xaxis": {
         "anchor": "y",
         "domain": [
          0,
          1
         ],
         "title": {
          "text": "IMDb Rating"
         }
        },
        "yaxis": {
         "anchor": "x",
         "domain": [
          0,
          1
         ],
         "title": {
          "text": "Total Gross"
         }
        }
       }
      }
     },
     "metadata": {},
     "output_type": "display_data"
    }
   ],
   "source": [
    "fig = px.scatter(disney_rated, x='imdb', y='total_gross', trendline=\"ols\", title='Total Gross of Disney Movies by IMDb Rating')\n",
    "\n",
    "fig.update_layout(\n",
    "    xaxis_title='IMDb Rating',\n",
    "    yaxis_title='Total Gross',\n",
    ")\n",
    "\n",
    "fig.show() "
   ]
  },
  {
   "cell_type": "code",
   "execution_count": 152,
   "metadata": {},
   "outputs": [
    {
     "name": "stdout",
     "output_type": "stream",
     "text": [
      "Correlation: 0.4379567756734994\n"
     ]
    }
   ],
   "source": [
    "# Calculate correlation\n",
    "correlation = disney_rated['imdb'].corr(disney_rated['total_gross'])\n",
    "print(\"Correlation:\", correlation)"
   ]
  },
  {
   "cell_type": "markdown",
   "metadata": {},
   "source": [
    "Based on the available data, there is a moderate positive correlation between IMDb ratings and the total gross revenue of Disney movies, indicating that higher-rated movies tend to earn more at the box office. However, it's worth noting that while there is a positive correlation here, this doesn't always hold true across the board. IMDb ratings don't always reflect box office performance because the IMDb voting population may not represent the broader movie-going audience. Besides, the dataset does not contain all Disney movies as the IMDb ratings for some of the movies are unavailable/missing."
   ]
  }
 ],
 "metadata": {
  "kernelspec": {
   "display_name": "Python 3",
   "language": "python",
   "name": "python3"
  },
  "language_info": {
   "codemirror_mode": {
    "name": "ipython",
    "version": 3
   },
   "file_extension": ".py",
   "mimetype": "text/x-python",
   "name": "python",
   "nbconvert_exporter": "python",
   "pygments_lexer": "ipython3",
   "version": "3.10.0rc2"
  }
 },
 "nbformat": 4,
 "nbformat_minor": 2
}
